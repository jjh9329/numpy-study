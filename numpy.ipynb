{
 "cells": [
  {
   "cell_type": "code",
   "execution_count": null,
   "metadata": {},
   "outputs": [],
   "source": [
    "# Python 다차원 배열의 이해\n",
    "\n",
    "#숫자 자료형\n",
    "# python에서는 숫자형 변수로 데이터를 표현할 수 있다.\n",
    "# 세명의 학생의 수학과목 점수 선언\n",
    "import numpy as np\n",
    "\n",
    "math1 = 11\n",
    "math2 = 12\n",
    "math3 = 13\n",
    "# a = np.array([1, 2, 3, 4, 5, 6])\n",
    "# print(a)"
   ]
  },
  {
   "cell_type": "code",
   "execution_count": null,
   "metadata": {},
   "outputs": [],
   "source": [
    "#합과 평균구하기\n",
    "total = math1 + math2 + math3\n",
    "math4 = 14\n",
    "average = total / 3\n",
    "print(f'수학점수 합:{total}')\n",
    "print(f'수학점수 평균:{average:.2f}')"
   ]
  },
  {
   "cell_type": "code",
   "execution_count": null,
   "metadata": {},
   "outputs": [],
   "source": [
    "## 리스트 자료형\n",
    "math_list = [11,12,13]\n",
    "# 전학온 4번째 학생의 수학점수 추가\n",
    "math_list.append(14)\n",
    "total = 0\n",
    "average = 0\n",
    "\n",
    "for math in math_list:\n",
    "  total += math\n",
    "\n",
    "average = total / len(math_list)\n",
    "print(f'수학점수 합:{total}')\n",
    "print(f'수학점수 평균:{average:.2f}')"
   ]
  },
  {
   "cell_type": "code",
   "execution_count": null,
   "metadata": {},
   "outputs": [],
   "source": [
    "# 시험문제에 오류가 발견되어 모든 학생점수를 1점씩 올려줘야하는 상황\n",
    "math_list = [math+1 for math in math_list]\n",
    "print(math_list)\n"
   ]
  },
  {
   "cell_type": "code",
   "execution_count": 4,
   "metadata": {},
   "outputs": [
    {
     "name": "stdout",
     "output_type": "stream",
     "text": [
      "[[1 2]\n",
      " [3 4]]\n",
      "--------------------------------------------------\n",
      "[5 6]\n",
      "--------------------------------------------------\n",
      "[[1 2]\n",
      " [3 4]\n",
      " [5 6]]\n",
      "--------------------------------------------------\n",
      "[[1 2]\n",
      " [3 4]\n",
      " [5 6]\n",
      " [1 2]\n",
      " [3 4]\n",
      " [5 6]]\n",
      "--------------------------------------------------\n",
      "[[1 2 1 3 5 1 3 5]\n",
      " [3 4 2 4 6 2 4 6]]\n",
      "--------------------------------------------------\n"
     ]
    }
   ],
   "source": [
    "# numpoy.concatenate()\n",
    "# 두 개 이상의 배열을 연결한다.\n",
    "# concatenate()함수를 수행하려면 차원 수가 같아야 한다.\n",
    "# axis 인수를 설정하여 연결 방향을 정할 수 있다. (default: axis=0)\n",
    "# 행을 기준으로 연결을 할 때에는 열의 갯수가 일치해야하며,\n",
    "# 열을 기준으로 연결할때에는 행의 개수가 일치해야한다\n",
    "import numpy as np\n",
    "a = np.array([[1,2],[3,4]])\n",
    "print(a)\n",
    "print('-'*50)\n",
    "b = np.array([5,6])\n",
    "print(b)\n",
    "print('-'*50)\n",
    "c =np.concatenate((a, np.expand_dims(b,axis = 0)))\n",
    "print(c)\n",
    "print('-'*50)\n",
    "\n",
    "d = np.concatenate((a, np.expand_dims(b,axis = 0) ,c))\n",
    "print(d)\n",
    "print('-'*50)\n",
    "# 전치\n",
    "e = np.concatenate((a,d.T),axis=1)\n",
    "print(e)\n",
    "print('-'*50)"
   ]
  },
  {
   "cell_type": "code",
   "execution_count": null,
   "metadata": {},
   "outputs": [],
   "source": [
    "# 기본 연산\n",
    "# 배열에 대한 산술 연산은 요소별(element-wise)로 적용된다.\n",
    "a = np.add(1.0,4.0)\n",
    "print(a)\n",
    "print('-'*50)\n",
    "b= np.arange(9.0).reshape(3,3)\n",
    "c= np.arange(3.0)\n",
    "\n",
    "print(b)\n",
    "print('-'*50)\n",
    "print(c)\n",
    "print('-'*50)\n",
    "# 덧셈\n",
    "print(np.add(b,c))\n",
    "print('-'*50)\n",
    "# 뺄셈\n",
    "print(np.subtract(b,c))\n",
    "print('-'*50)\n",
    "# 곱셈\n",
    "print(np.multiply(b,c))\n",
    "print('-'*50)\n",
    "# 나눗셈\n",
    "print(np.divide(b,c))\n"
   ]
  },
  {
   "cell_type": "code",
   "execution_count": null,
   "metadata": {},
   "outputs": [],
   "source": [
    "# floor_divide() 묷 나옴\n",
    "a= np.arange(5)\n",
    "b= np.floor_divide(a,4) #파이선의 //와 동일\n",
    "print(b)\n",
    "\n",
    "# remainder() / mod() 나머지 나옴\n",
    "a = np.remainder([4,7],[2,3])\n",
    "print(a)"
   ]
  },
  {
   "cell_type": "code",
   "execution_count": null,
   "metadata": {},
   "outputs": [],
   "source": [
    "# 연산 시 자료형은 적절하게 형변환(Upcasting) 된다.\n",
    "a = np.ones(3,dtype=np.int32)\n",
    "print(a.dtype.name)\n",
    "d = np.linspace(0, np.pi, 3)\n",
    "print(b.dtype.name)\n",
    "\n",
    "c = a + d\n",
    "print(c.dtype.name)"
   ]
  },
  {
   "cell_type": "code",
   "execution_count": null,
   "metadata": {},
   "outputs": [],
   "source": [
    "# 통계 연산은 axis와 밀접한 관계가 있다.\n",
    "# 축 값을 입력하지 않으면 모든 원소에 대한 연산 결과를 출력한다.\n",
    "# 합계: sum() / 평균: mean() / 누적합: cumsum()\n",
    "\n",
    "a= np.arange(12).reshape(3,4)\n",
    "print(a)\n",
    "print(a.sum()) # 모든 원소에 대한 합, np.sum(a)\n",
    "print(a.sum(axis=0)) # 각 열의 합\n",
    "print(a.sum(axis=1)) # 각 행의 합\n",
    "print(a.cumsum(axis=1)) # 각 행의 누적합\n",
    "\n"
   ]
  },
  {
   "cell_type": "code",
   "execution_count": null,
   "metadata": {},
   "outputs": [],
   "source": [
    "#축을 따라 산술 평균을 계산\n",
    "a = np.arange(9).reshape(3,3)\n",
    "print(a)\n",
    "print(\"-\")\n",
    "print(np.mean(a,axis=0))\n",
    "print(np.mean(a))"
   ]
  },
  {
   "cell_type": "code",
   "execution_count": 5,
   "metadata": {},
   "outputs": [
    {
     "name": "stdout",
     "output_type": "stream",
     "text": [
      "[[0 1]\n",
      " [2 3]\n",
      " [4 5]]\n",
      "[0.75 2.75 4.75]\n"
     ]
    }
   ],
   "source": [
    "# 주어진 축에 따라 가중평균을 계산\n",
    "# avg = sum(a * weight) / sum(weight)  #가중평균\n",
    "a = np.arange(6).reshape(3,2)\n",
    "print(a)\n",
    "\n",
    "# 0.75 = (0*1/4)+ 1*3/4 / (1/4+3/4)\n",
    "b = np.average(a,axis=1,weights=[1/4,3/4])\n",
    "print(b)"
   ]
  },
  {
   "cell_type": "code",
   "execution_count": null,
   "metadata": {},
   "outputs": [],
   "source": [
    "# np.amin() / np.min(), np.amax() / np,max()\n",
    "# 축을 따른 배열의 최소/최대값\n",
    "\n",
    "a=  np.arange(1,10).reshape(3,3)\n",
    "print(a)\n",
    "print(np.amin(a,axis=0))\n",
    "print(np.amax(a,axis=0))\n",
    "print(\"-\")\n",
    "print(np.max(a))"
   ]
  },
  {
   "cell_type": "code",
   "execution_count": 6,
   "metadata": {},
   "outputs": [
    {
     "name": "stdout",
     "output_type": "stream",
     "text": [
      "[[1 2 3]\n",
      " [4 5 6]\n",
      " [7 8 9]]\n",
      "5.0\n",
      "[4. 5. 6.]\n",
      "[2. 5. 8.]\n"
     ]
    }
   ],
   "source": [
    "# np.median(): 축을 따른 배열의 중앙값\n",
    "a = np.arange(1,10).reshape(3,3)\n",
    "print(a)\n",
    "print(np.median(a))\n",
    "print(np.median(a,axis=0))\n",
    "print(np.median(a,axis=1))"
   ]
  },
  {
   "cell_type": "code",
   "execution_count": null,
   "metadata": {},
   "outputs": [],
   "source": [
    "# np.var(), np.std():  축을따른 배열의 분산과, 표준편차 계산\n",
    "print(np.var(a,0))\n",
    "print(np.var(a))\n",
    "\n",
    "print(np.std(a))\n",
    "print(f'{np.std(a):.2f}') \n",
    "print(np.round(np.std(a),2))"
   ]
  },
  {
   "cell_type": "code",
   "execution_count": null,
   "metadata": {},
   "outputs": [],
   "source": [
    "# np.maximum()\n",
    "# 두 개의 배열을 가져와 요소별 최댓값 계산\n",
    "# broadcasting 될 수 있다.\n",
    "a = np.array([3,6,1])\n",
    "b = np.array([4,2,9])\n",
    "\n",
    "print(np.maximum(a,b))"
   ]
  },
  {
   "cell_type": "code",
   "execution_count": 532,
   "metadata": {},
   "outputs": [
    {
     "name": "stdout",
     "output_type": "stream",
     "text": [
      "2\n",
      "4\n"
     ]
    }
   ],
   "source": [
    "# 최소값, 최대값 아규먼트 위치\n",
    "# np.argmax(): 제일 큰 값을 가지는 위치 index반환\n",
    "# np.argmin(): 제일 작은값을 가지는 위치 index반환\n",
    "a = np.array([5,7,9,8,1,9,3,4])\n",
    "print(np.argmax(a))\n",
    "print(np.argmin(a))\n"
   ]
  },
  {
   "cell_type": "code",
   "execution_count": null,
   "metadata": {},
   "outputs": [],
   "source": [
    "# np.where(조건): 조건에 맞는 값 위치 index반환\n",
    "# np.where(조건,조건 일치때 값,조건과 불일치때 값): 조건 결과에 따른 원소 값 변경\n",
    "print(np.where(a > 5))\n",
    "# 5를 초과하는 위치는 1, 아니면 -1\n",
    "print(np.where(a > 5,1,-1))\n",
    "print(np.where(a > 5,a,0))"
   ]
  },
  {
   "cell_type": "code",
   "execution_count": null,
   "metadata": {},
   "outputs": [],
   "source": [
    "a = np.array([1,2,3])\n",
    "b = np.array([1,2,3])\n",
    "c = np.array([3,2,5])\n",
    "\n",
    "# 비교연산 (<, >, <=, >=, ==, != )\n",
    "print(a == b)\n",
    "print(a == c)\n"
   ]
  },
  {
   "cell_type": "code",
   "execution_count": null,
   "metadata": {},
   "outputs": [],
   "source": [
    "a = np.arange(1,10).reshape(3,3)\n",
    "result = a % 2 == 0\n",
    "print(result)\n",
    "print(a[result])"
   ]
  },
  {
   "cell_type": "code",
   "execution_count": null,
   "metadata": {},
   "outputs": [],
   "source": [
    "\n",
    "a = np.array([1,2,3])\n",
    "b = np.array([1,2,3])\n",
    "c = np.array([3,2,5])\n",
    "# -.all(): 전체 요소가 같아야 하나의 True값을 반환\n",
    "print(np.all(a == b))\n",
    "print(np.all(a == c))\n",
    "# -.any(): 전체 요소중 하나만 같아도 True값을 반환\n",
    "print(np.any(b == c))\n",
    "print(np.any(a == c))"
   ]
  },
  {
   "cell_type": "code",
   "execution_count": null,
   "metadata": {},
   "outputs": [],
   "source": [
    "# 논리 연산 True || False로 반환\n",
    "x = np.arange(1,11).reshape(2,5)\n",
    "print(x)\n",
    "print(\"-\"*50)\n",
    "y = x%2 == 0\n",
    "print('t행렬: 짝수면 True, 홀수면 False')\n",
    "print(y)\n",
    "print(\"-\"*50)\n",
    "z= x >= 4\n",
    "print('z행렬: 4이상이면 True, 미만이면 False')\n",
    "print(z)\n",
    "print(\"-\"*50)\n",
    "print('y and z 행렬')\n",
    "print(np.logical_and(y,z))\n",
    "print('y and z 행렬의 총합')\n",
    "print(np.sum(np.logical_and(y,z)))"
   ]
  },
  {
   "cell_type": "code",
   "execution_count": null,
   "metadata": {},
   "outputs": [],
   "source": [
    "# 정렬\n",
    "np.random.seed(10)\n",
    "data = np.random.randint(1,50,10)\n",
    "print(data)\n",
    "\n",
    "# sort() 오른차순으로 정렬\n",
    "print(np.sort(data)[::-1])\n",
    "# argsort(): 오름차순으로 정렬한 데이터의 정렬 전 인덱스 값을 반환\n",
    "print(np.argsort(data))\n",
    "\n",
    "# argsort()를 이용한 정렬\n",
    "idx = np.argsort(data)\n",
    "print(data[idx])"
   ]
  },
  {
   "cell_type": "code",
   "execution_count": null,
   "metadata": {},
   "outputs": [],
   "source": [
    "# 학생 이름과 점수 데이터를 이용하여 성적이 우수한 학생 순서로 이름을 출력하시오.\n",
    "name = ['홍길동','저팔','사오','전우치','삼자']\n",
    "score = [75,100,95,56,99]\n",
    "\n",
    "name = np.array(name)\n",
    "name = np.array(score)\n",
    "\n",
    "idx = np.argsort(score)\n",
    "print(name[idx][::-1])"
   ]
  },
  {
   "cell_type": "code",
   "execution_count": null,
   "metadata": {},
   "outputs": [],
   "source": [
    "# 행렬 연산\n",
    "# *연산자: 형태(shape)가 동일한 두 행렬을 원소끼리(element-wise) 곱하는 연산자\n",
    "# 형태(shape)가 다르면 오류발생, 교환법칙이 성립된다.\n",
    "\n",
    "a = np.array([[1,1],\n",
    "             [0,1]])\n",
    "b = np.array([[2,0],\n",
    "              [3,4]])\n",
    "print(a*b)\n",
    "print(b*a)\n",
    "\n",
    "a = np.arange(6).reshape(2,3)\n",
    "b = np.arange(6).reshape(3,2)\n",
    "# print(a*b)"
   ]
  },
  {
   "cell_type": "code",
   "execution_count": null,
   "metadata": {},
   "outputs": [],
   "source": [
    "# np.dot(): 두 벡터의 내적을 계산하는 함수\n",
    "# 내적이란 벡터에서 서로 대응하는 성분끼리 곱한 다음\n",
    "# 그것들을 모두 더한 것을 말하며, 내적의 결과는 스칼라가 된다.\n",
    "# <a,b> : a1*b1 + a2*b2 + .... + an*bn\n",
    "# 행렬곱에서도 사용될 수 있다.\n",
    "# 행렬곱이 이뤄지기 위해서는 첫 번째 행렬의 열크기와 두번째 행렬의 행의 크기가 같아야 한다.\n",
    "a = np.array([3,4,6,9,8])\n",
    "b = np.array([7,1,3,4,7])\n",
    "c = np.dot(a,b)\n",
    "print(c)"
   ]
  },
  {
   "cell_type": "code",
   "execution_count": null,
   "metadata": {},
   "outputs": [],
   "source": [
    "a = np.array([[0,1],[0,1]])\n",
    "b = np.array([[7,1],[3,4]])\n",
    "print(np.dot(a,b))\n",
    "print(np.dot(b,a))"
   ]
  },
  {
   "cell_type": "code",
   "execution_count": null,
   "metadata": {},
   "outputs": [],
   "source": [
    "# np.matmul 메트릭스 멀티플라이: @연산자\n",
    "# dot은 행렬곱에 적합하지않다, matmul 써라 <- 공식문서\n",
    "a = np.array([[1,1],[0,1]])\n",
    "b = np.array([[2,0],[3,4]])\n",
    "\n",
    "print(np.matmul(a,b))\n",
    "print(a@b) # 파이선 3.5버전 부터 가능"
   ]
  },
  {
   "attachments": {},
   "cell_type": "markdown",
   "metadata": {},
   "source": [
    "### 전치(transpose)\n",
    "- 전치는 기존 행렬과 열을 교환하는 것. 즉, 주대각석을 기준으로 반사 대칭하는 것을 말한다.\n",
    "- 배열 객체의 'T 속성을 사용하거나 np.transpose()함수 이용"
   ]
  },
  {
   "cell_type": "code",
   "execution_count": 533,
   "metadata": {},
   "outputs": [
    {
     "name": "stdout",
     "output_type": "stream",
     "text": [
      "[[1 1]\n",
      " [0 1]]\n",
      "[[1 0]\n",
      " [1 1]]\n",
      "[[1 0]\n",
      " [1 1]]\n"
     ]
    }
   ],
   "source": [
    "\n",
    "a = np.array([[1,1],[0,1]])\n",
    "b = a.T\n",
    "c= np.transpose(a)\n",
    "print(a)\n",
    "print(b)\n",
    "print(c)"
   ]
  },
  {
   "attachments": {},
   "cell_type": "markdown",
   "metadata": {},
   "source": [
    "# 인덱싱, 슬라이싱\n"
   ]
  },
  {
   "cell_type": "code",
   "execution_count": 162,
   "metadata": {},
   "outputs": [
    {
     "name": "stdout",
     "output_type": "stream",
     "text": [
      "[[ 1  2  3  4  5]\n",
      " [ 6  7  8  9 10]]\n",
      "1\n",
      "1\n"
     ]
    }
   ],
   "source": [
    "a = np.arange(1,11).reshape(2,5)\n",
    "print(a)\n",
    "print(a[0][0])\n",
    "print(a[0,0])"
   ]
  },
  {
   "cell_type": "code",
   "execution_count": 165,
   "metadata": {},
   "outputs": [
    {
     "name": "stdout",
     "output_type": "stream",
     "text": [
      "[  0   1   8  27  64 125 216 343 512 729]\n",
      "8\n",
      "[ 8 27 64]\n"
     ]
    }
   ],
   "source": [
    "a = np.arange(10)**3\n",
    "print(a)\n",
    "print(a[2])\n",
    "print(a[2:5])"
   ]
  },
  {
   "attachments": {},
   "cell_type": "markdown",
   "metadata": {},
   "source": [
    "### Boolean indexing(masking)"
   ]
  },
  {
   "cell_type": "code",
   "execution_count": 174,
   "metadata": {},
   "outputs": [
    {
     "name": "stdout",
     "output_type": "stream",
     "text": [
      "[[ 1  2  3  4  5  6]\n",
      " [ 7  8  9 10 11 12]\n",
      " [13 14 15 16 17 18]\n",
      " [19 20 21 22 23 24]]\n",
      "156\n"
     ]
    }
   ],
   "source": [
    "a = np.arange(1,25).reshape(4,6)\n",
    "print(a)\n",
    "\n",
    "# a 배열에서 요소의 값이 짝수인 요소들의 총합은?\n",
    "print(np.sum(a[a % 2 == 0]))\n"
   ]
  },
  {
   "attachments": {},
   "cell_type": "markdown",
   "metadata": {},
   "source": [
    "### Fancy Indexing\n",
    "- 배열의 각 요소 선택을 **인덱스 배열을 전달하여** 참조하는 방식\n",
    "- fancy indexing은 복사본이 생성된다"
   ]
  },
  {
   "cell_type": "code",
   "execution_count": 183,
   "metadata": {},
   "outputs": [
    {
     "name": "stdout",
     "output_type": "stream",
     "text": [
      "[[ 0  1  2]\n",
      " [ 3  4  5]\n",
      " [ 6  7  8]\n",
      " [ 9 10 11]\n",
      " [12 13 14]]\n",
      "[[0 1 2]\n",
      " [6 7 8]]\n",
      "[[ 0  2]\n",
      " [ 3  5]\n",
      " [ 6  8]\n",
      " [ 9 11]\n",
      " [12 14]]\n",
      "[[3 4 5]\n",
      " [6 7 8]]\n",
      "[[ 0  2]\n",
      " [ 6  8]\n",
      " [12 14]]\n"
     ]
    }
   ],
   "source": [
    "a = np.arange(15).reshape(5,3)\n",
    "print(a)\n",
    "\n",
    "# 0행, 2행만 인덱싱\n",
    "print(a[[0,2],:])\n",
    "\n",
    "# 전체 행렬에대해 0열, 2열만 인덱싱\n",
    "print(a[:,[0,2]])\n",
    "\n",
    "print(a[[1,2]])\n",
    "\n",
    "# 두 번 인덱싱\n",
    "# 0, 2, 4행에서 0, 2열 추출\n",
    "print(a[[0,2,4]][:,[0,2]])"
   ]
  },
  {
   "cell_type": "code",
   "execution_count": 187,
   "metadata": {},
   "outputs": [
    {
     "name": "stdout",
     "output_type": "stream",
     "text": [
      "[[ 0  1  2]\n",
      " [ 3  4  5]\n",
      " [ 6  7  8]\n",
      " [ 9 10 11]\n",
      " [12 13 14]]\n",
      "[[ 0  2]\n",
      " [ 6  8]\n",
      " [12 14]]\n",
      "[[100 100]\n",
      " [  6   8]\n",
      " [ 12  14]]\n",
      "[[ 0  1  2]\n",
      " [ 3  4  5]\n",
      " [ 6  7  8]\n",
      " [ 9 10 11]\n",
      " [12 13 14]]\n"
     ]
    }
   ],
   "source": [
    "a = np.arange(15).reshape(5,3)\n",
    "print(a)\n",
    "\n",
    "copied = a[[0,2,4]][:,[0,2]]\n",
    "print(copied)\n",
    "\n",
    "copied[0,:]= 100\n",
    "print(copied)\n",
    "print(a)"
   ]
  },
  {
   "attachments": {},
   "cell_type": "markdown",
   "metadata": {},
   "source": [
    "### 슬라이싱\n",
    "- a[행슬시:행슬끝, 열슬시:열슬끝]\n",
    "- np에서 슬라이싱은 동일한 메모리 영역의 뷰를 반환한다.\n",
    "- 즉, 뷰를 변경할 경우에는 원본 데이터의 원소도 변경된다."
   ]
  },
  {
   "cell_type": "code",
   "execution_count": 190,
   "metadata": {},
   "outputs": [
    {
     "name": "stdout",
     "output_type": "stream",
     "text": [
      "[[ 1  2  3  4]\n",
      " [ 5  6  7  8]\n",
      " [ 9 10 11 12]]\n",
      "[[1 2 3 4]\n",
      " [5 6 7 8]]\n",
      "[[1 2 3 4]\n",
      " [5 6 7 8]]\n",
      "[[1 2 3 4]\n",
      " [5 6 7 8]]\n"
     ]
    }
   ],
   "source": [
    "a = np.arange(1,13).reshape(3,4)\n",
    "print(a)\n",
    "\n",
    "print(a[0:2,0:4])\n",
    "print(a[:2,:]) #위와 동일\n",
    "print(a[:2]) #위와 동일\n"
   ]
  },
  {
   "cell_type": "code",
   "execution_count": 192,
   "metadata": {},
   "outputs": [
    {
     "name": "stdout",
     "output_type": "stream",
     "text": [
      "[[ 9 10 11 12]]\n",
      "--------------------------------------------------\n",
      "[[ 9 10 11 12]\n",
      " [ 5  6  7  8]\n",
      " [ 9 10 11 12]]\n"
     ]
    }
   ],
   "source": [
    "a_view = a[:1]\n",
    "print(a_view)\n",
    "print(\"-\"*50)\n",
    "a_view[0] =  [9,10,11,12]\n",
    "print(a)"
   ]
  },
  {
   "attachments": {},
   "cell_type": "markdown",
   "metadata": {},
   "source": [
    "### [문제] 슬라이싱 실습"
   ]
  },
  {
   "cell_type": "code",
   "execution_count": 210,
   "metadata": {},
   "outputs": [
    {
     "name": "stdout",
     "output_type": "stream",
     "text": [
      "[[ 1  2  3  4  5  6]\n",
      " [ 7  8  9 10 11 12]\n",
      " [13 14 15 16 17 18]\n",
      " [19 20 21 22 23 24]]\n",
      "--------------------------------------------------\n",
      "[[ 2  3  4  5]\n",
      " [ 8  9 10 11]\n",
      " [14 15 16 17]\n",
      " [20 21 22 23]]\n",
      "--------------------------------------------------\n",
      "[[ 2  3]\n",
      " [ 8  9]\n",
      " [14 15]\n",
      " [20 21]]\n",
      "==================================================\n",
      "[[7 8]]\n",
      "--------------------------------------------------\n",
      "[[ 6]\n",
      " [12]\n",
      " [18]\n",
      " [24]]\n",
      "==================================================\n"
     ]
    }
   ],
   "source": [
    "origin = np.arange(1,25).reshape(4,6)\n",
    "print(origin)\n",
    "print('-'*50)\n",
    "\n",
    "# (1) 가운데 요소 가져오기\n",
    "print(origin[:,1:-1])\n",
    "print('-'*50)\n",
    "# (2) 전체 행, 1,2열 가져오기\n",
    "print(origin[:,1:3])\n",
    "print('='*50)\n",
    "# (3) 1행, 0,1열\n",
    "print(origin[1:2,:2])\n",
    "print('-'*50)\n",
    "# (4) 각 행의 마지막 열 데이터만 추출하여 2차원 열벡터로 변경\n",
    "print(origin[:,-1].reshape(-1,1))\n",
    "print('='*50)"
   ]
  },
  {
   "attachments": {},
   "cell_type": "markdown",
   "metadata": {},
   "source": [
    "### 인덱싱 & 슬라이싱 그리고 차원\n",
    "- 정수 인덱싱과 슬라이싱을 혼합해서 사용하면 낮은 차원의 배열이 생성된다.\n",
    "- 슬라이싱만 사용하면 원본 배열과 동일한 차원의 배열이 생성된다."
   ]
  },
  {
   "cell_type": "code",
   "execution_count": 213,
   "metadata": {},
   "outputs": [
    {
     "name": "stdout",
     "output_type": "stream",
     "text": [
      "[[ 1  2  3  4]\n",
      " [ 5  6  7  8]\n",
      " [ 9 10 11 12]] (3, 4) 2\n",
      "--------------------------------------------------\n",
      "슬라이싱만 사용\n",
      "[[1 2 3 4]] (1, 4) 2\n",
      "인덱싱만 사용\n",
      "[1 2 3 4] (4,) 1\n",
      "슬라이싱 & 인덱싱 혼합사용\n",
      "[1 2 3 4] (4,) 1\n"
     ]
    }
   ],
   "source": [
    "a = np.arange(1,13).reshape(3,4)\n",
    "print(a, a.shape, a.ndim)\n",
    "print(\"-\"*50)\n",
    "print('슬라이싱만 사용')\n",
    "slicedRow = a[:1,:]\n",
    "print(slicedRow,slicedRow.shape,slicedRow.ndim)\n",
    "\n",
    "print('인덱싱만 사용')\n",
    "indexedRow = a[0]\n",
    "print(indexedRow,indexedRow.shape, indexedRow.ndim)\n",
    "\n",
    "print('슬라이싱 & 인덱싱 혼합사용')\n",
    "mixedRow = a[0,:]\n",
    "print(mixedRow, mixedRow.shape, mixedRow.ndim)"
   ]
  },
  {
   "attachments": {},
   "cell_type": "markdown",
   "metadata": {},
   "source": [
    "#"
   ]
  },
  {
   "attachments": {
    "image-2.png": {
     "image/png": "[encoded data removed]"
    }
   },
   "cell_type": "markdown",
   "metadata": {},
   "source": [
    "### BroadCasting\n",
    "- shape이 다른 np배열이 연산을 하려고 할 때 특정 조건이 만족되면 자동으로 연산이 가능한 형태로 변환하는 것\n",
    "- `np`에서 `vector`나 `matrix`간에 사칙연산을 하면 같은 위치의 원소끼리 계산이 이뤄지며, 이렇게 되려면 `vector`나 `matrix`가 형태가 같아야 하는데, 이때 `shape`이 맞춰지는 것을  `Boradcastring` 이라고 한다.\n",
    "![image.png](attachment:image-2.png)"
   ]
  },
  {
   "cell_type": "code",
   "execution_count": 216,
   "metadata": {},
   "outputs": [
    {
     "name": "stdout",
     "output_type": "stream",
     "text": [
      "[16 26 36 46]\n",
      "[1, 2, 3, 1, 2, 3]\n",
      "[ 40  60  80 100]\n"
     ]
    }
   ],
   "source": [
    "a = np.array([20,30,40,50])\n",
    "b = np.array(4)\n",
    "# 백터와 스칼라 연산\n",
    "print(a-b)\n",
    "# 파이선의 list곱과 np는 다름\n",
    "print([1,2,3]*2)\n",
    "print(a*2)"
   ]
  },
  {
   "attachments": {},
   "cell_type": "markdown",
   "metadata": {},
   "source": [
    "## 11. random 모듈을 이용한 배열의 생성\n",
    "### np.random.rand()\n",
    "- 0이상 1미만의 임의의 균등 분포를 갖는 실수를 만든다.\n",
    "- shape을 전달하면 그 크기에 맞는 다차원 배열을 생성한다."
   ]
  },
  {
   "cell_type": "code",
   "execution_count": 220,
   "metadata": {},
   "outputs": [
    {
     "name": "stdout",
     "output_type": "stream",
     "text": [
      "0.8166018352206666\n",
      "[0.33607158 0.89081653 0.19812181]\n",
      "[[0.03061665 0.87761494 0.72743551 0.54088093]\n",
      " [0.13145815 0.41366737 0.77872881 0.58390137]\n",
      " [0.18263144 0.82608225 0.10540183 0.28357668]]\n"
     ]
    }
   ],
   "source": [
    "import matplotlib.pyplot as plt\n",
    "\n",
    "a = np.random.rand() #난수 1개 발생\n",
    "print(a)\n",
    "\n",
    "b = np.random.rand(3) # 1차원 배열 생성\n",
    "print(b)\n",
    "\n",
    "c = np.random.rand(3,4) # 3x4 2차원 배열 생성\n",
    "print(c)"
   ]
  },
  {
   "cell_type": "code",
   "execution_count": 227,
   "metadata": {},
   "outputs": [
    {
     "data": {
      "image/png": "[encoded data removed]",
      "text/plain": [
       "<Figure size 640x480 with 1 Axes>"
      ]
     },
     "metadata": {},
     "output_type": "display_data"
    }
   ],
   "source": [
    "### 균등분포 그래프 확인\n",
    "a = np.random.rand(1000)\n",
    "b = np.random.rand(10000)\n",
    "c = np.random.rand(100000)\n",
    "\n",
    "plt.hist(a, bins=100, density=True, alpha=0.5, histtype='step',label='n=1000')\n",
    "plt.hist(b, bins=100, density=True, alpha=0.75, histtype='step',label='n=10000')\n",
    "plt.hist(c, bins=100, density=True, alpha=1, histtype='step',label='n=100000')\n",
    "\n",
    "plt.legend()\n",
    "plt.show()"
   ]
  },
  {
   "attachments": {},
   "cell_type": "markdown",
   "metadata": {},
   "source": [
    "### np.random.randint()\n",
    "- 주어진 범위의 임의의 균등분포 정수를 만든다."
   ]
  },
  {
   "cell_type": "code",
   "execution_count": 496,
   "metadata": {},
   "outputs": [
    {
     "name": "stdout",
     "output_type": "stream",
     "text": [
      "2\n",
      "[0 2 2 0 1 2 2 2 0 2]\n",
      "2\n",
      "[[16 64 54 ... 10 24 86]\n",
      " [28 82 76 ... 78 60  9]\n",
      " [25 85 84 ... 26 60 36]\n",
      " ...\n",
      " [83 53 62 ... 99 19  9]\n",
      " [ 0  4 12 ... 82 36 48]\n",
      " [53 50 97 ... 58 39 29]]\n"
     ]
    }
   ],
   "source": [
    "# 0이상 3미만의 임의의 정수 1개 생성\n",
    "a = np.random.randint(3)\n",
    "print(a)\n",
    "\n",
    "# 0이상 3미만의 임의의 정수 10개 생성\n",
    "b = np.random.randint(3,size=10)\n",
    "print(b)\n",
    "\n",
    "# 2이상 5미만의 임의의 정수 1개 생성\n",
    "c = np.random.randint(2,5)\n",
    "print(c)\n",
    "\n",
    "# 0이상 100미만의 임의의 정수를 100x100으로 2차원 배열로 샐성\n",
    "d = np.random.randint(0,100,(100,100))\n",
    "print(d)\n"
   ]
  },
  {
   "attachments": {},
   "cell_type": "markdown",
   "metadata": {},
   "source": [
    "### np.random.randn()\n",
    "- 표준정규 분포(표준편차는 1, 평균은 0으로 이루어진 데이터)로부터 샘플링 된 난수를 발생"
   ]
  },
  {
   "cell_type": "code",
   "execution_count": 522,
   "metadata": {},
   "outputs": [
    {
     "name": "stdout",
     "output_type": "stream",
     "text": [
      "-1.4004326598928443\n",
      "[[-0.38014726  1.35477982 -0.50181079 ... -0.81871899 -0.64372555\n",
      "   0.61962714]\n",
      " [ 0.61881702  0.81482343  0.73175178 ... -1.49765488 -1.16111958\n",
      "  -0.02629819]\n",
      " [-1.44489575  0.25385552  0.06430808 ... -0.82444015 -1.40658064\n",
      "  -0.27561945]\n",
      " ...\n",
      " [-1.10295107 -0.18575884 -1.1705464  ...  0.91662623  0.82599824\n",
      "  -0.30789628]\n",
      " [ 0.05862511 -0.73762531  1.97687354 ... -0.3235926   0.53775986\n",
      "  -1.21787115]\n",
      " [-1.36145552 -1.15817457  0.10962882 ... -0.43629558 -2.54402841\n",
      "   0.53820796]]\n",
      "평균:{} -0.009444923185100249\n",
      "표준편차:{} 0.9990707774887193\n"
     ]
    }
   ],
   "source": [
    "# 난수 1개를 발생시킴\n",
    "a= np.random.randn()\n",
    "print(a)\n",
    "b= np.random.randn(100,100)\n",
    "print(b)\n",
    "print('평균:{}',np.mean(b))\n",
    "print('표준편차:{}',np.std(b))"
   ]
  },
  {
   "attachments": {},
   "cell_type": "markdown",
   "metadata": {},
   "source": [
    "### np.random.choice()\n",
    "- 주어진 1차원 행렬에서 랜덤으로 샘플링 한다.\n",
    "- replace=False: 중복 샘플링을 하지 않는다. \n",
    "- default: replace=True: 복원 추출한다."
   ]
  },
  {
   "cell_type": "code",
   "execution_count": 530,
   "metadata": {},
   "outputs": [
    {
     "name": "stdout",
     "output_type": "stream",
     "text": [
      "[ 4  3 11]\n"
     ]
    }
   ],
   "source": [
    "data = np.array([1,2,3,4,5,6,7,8,9,10,11])\n",
    "a = np.random.choice(data,size=(3,),replace=False)\n",
    "print(a)"
   ]
  }
 ],
 "metadata": {
  "kernelspec": {
   "display_name": "Python 3",
   "language": "python",
   "name": "python3"
  },
  "language_info": {
   "codemirror_mode": {
    "name": "ipython",
    "version": 3
   },
   "file_extension": ".py",
   "mimetype": "text/x-python",
   "name": "python",
   "nbconvert_exporter": "python",
   "pygments_lexer": "ipython3",
   "version": "3.11.3"
  },
  "orig_nbformat": 4
 },
 "nbformat": 4,
 "nbformat_minor": 2
}
