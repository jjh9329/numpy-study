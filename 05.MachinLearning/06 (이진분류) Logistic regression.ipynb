{
 "cells": [
  {
   "attachments": {},
   "cell_type": "markdown",
   "id": "1de9286b",
   "metadata": {},
   "source": [
    "# 시그모이드 함수 그리기"
   ]
  },
  {
   "cell_type": "code",
   "execution_count": null,
   "id": "9fde57b6",
   "metadata": {},
   "outputs": [],
   "source": [
    "import numpy as np\n",
    "import matplotlib.pyplot as plt"
   ]
  },
  {
   "cell_type": "code",
   "execution_count": null,
   "id": "3dc0a332",
   "metadata": {},
   "outputs": [],
   "source": [
    "def sigmoid(x):\n",
    "    return 1 / (1 + np.exp(-x))"
   ]
  },
  {
   "attachments": {},
   "cell_type": "markdown",
   "id": "4e081230",
   "metadata": {},
   "source": [
    "- 주어진 데이터에 가장 적합한 w와 b를 구하는 것이 목적이다.\n",
    "- x가 0일 때 출력 값이 0.5를 갖는다."
   ]
  },
  {
   "cell_type": "code",
   "execution_count": null,
   "id": "cd851eaa",
   "metadata": {},
   "outputs": [],
   "source": [
    "x = np.arange(-5.0, 5.0, 0.1)\n",
    "y = sigmoid(x)\n",
    "\n",
    "plt.plot(x, y, 'g')\n",
    "plt.plot([0,0],[1.0, 0.0],':') # 가운데 점선 추가\n",
    "plt.title('Sigmoid Function')\n",
    "plt.show()"
   ]
  },
  {
   "attachments": {},
   "cell_type": "markdown",
   "id": "9a239390",
   "metadata": {},
   "source": [
    "- w의 값에 따라 경사도가 바뀐다. (선형회귀에서 w가 직선의 기울기를 의미하는 것과 동일)"
   ]
  },
  {
   "cell_type": "code",
   "execution_count": null,
   "id": "6449e6fa",
   "metadata": {},
   "outputs": [],
   "source": [
    "x = np.arange(-5.0, 5.0, 0.1)\n",
    "y1 = sigmoid(0.5*x)\n",
    "y2 = sigmoid(x)\n",
    "y3 = sigmoid(2*x)\n",
    "\n",
    "plt.plot(x, y1, 'r--', label='w:0.5')  # w가 0.5일 때\n",
    "plt.plot(x, y2, 'g', label='w:1')    # w가 1일 때\n",
    "plt.plot(x, y3, 'b--', label='w:2')    # w가 2일 때\n",
    "\n",
    "plt.plot([0,0],[1.0, 0.0],':') # 가운데 점선 추가\n",
    "plt.title('Sigmoid Function')\n",
    "plt.legend()\n",
    "plt.show()"
   ]
  },
  {
   "attachments": {},
   "cell_type": "markdown",
   "id": "75f89ab1",
   "metadata": {},
   "source": [
    "# 유방암 판별 예측\n",
    "- y변수가 범주형인 경우"
   ]
  },
  {
   "attachments": {},
   "cell_type": "markdown",
   "id": "5214ce15",
   "metadata": {},
   "source": [
    "## 패키지 로딩"
   ]
  },
  {
   "cell_type": "code",
   "execution_count": null,
   "id": "c282bdbd",
   "metadata": {},
   "outputs": [],
   "source": [
    "from sklearn.datasets import load_breast_cancer\n",
    "from sklearn.linear_model import LogisticRegression\n",
    "from sklearn.preprocessing import StandardScaler\n",
    "from sklearn.metrics import accuracy_score, precision_score, recall_score, roc_curve, roc_auc_score, confusion_matrix\n",
    "from sklearn.model_selection import train_test_split\n",
    "import pandas as pd\n"
   ]
  },
  {
   "attachments": {},
   "cell_type": "markdown",
   "id": "ca1b489a",
   "metadata": {},
   "source": [
    "## 데이터 로드 및 확인"
   ]
  },
  {
   "cell_type": "code",
   "execution_count": null,
   "id": "7a747275",
   "metadata": {
    "scrolled": true
   },
   "outputs": [],
   "source": [
    "breast = load_breast_cancer()\n",
    "# print(breast.DESCR)\n",
    "\n",
    "df = pd.DataFrame(breast.data, columns=breast.feature_names)\n",
    "df.head()\n",
    "df['class'] = breast.target\n",
    "df.head()\n",
    "df['class'].value_counts()\n",
    "df.describe()"
   ]
  },
  {
   "attachments": {},
   "cell_type": "markdown",
   "id": "f43559be",
   "metadata": {},
   "source": [
    "## 독립변수 / 종속변수 선택"
   ]
  },
  {
   "cell_type": "code",
   "execution_count": null,
   "id": "b1edc031",
   "metadata": {},
   "outputs": [],
   "source": [
    "X = breast.data\n",
    "y = breast.target\n",
    "\n",
    "X.shape, y.shape"
   ]
  },
  {
   "attachments": {},
   "cell_type": "markdown",
   "id": "8ec681ef",
   "metadata": {},
   "source": [
    "## 데이터 스케일링"
   ]
  },
  {
   "cell_type": "code",
   "execution_count": null,
   "id": "1a3caf1a",
   "metadata": {},
   "outputs": [],
   "source": [
    "scaled_X = StandardScaler().fit_transform(X)"
   ]
  },
  {
   "attachments": {},
   "cell_type": "markdown",
   "id": "14449a7a",
   "metadata": {},
   "source": [
    "## 학습 데이터와 평가 데이터 분할"
   ]
  },
  {
   "cell_type": "code",
   "execution_count": null,
   "id": "cbac73c7",
   "metadata": {},
   "outputs": [],
   "source": [
    "# stratify 종속변수 비율에 맞춰서 분배 \n",
    "X_train, X_test, y_train, y_test = train_test_split(scaled_X, y, test_size=0.3, random_state=0, stratify=y)"
   ]
  },
  {
   "attachments": {},
   "cell_type": "markdown",
   "id": "4da13cc7",
   "metadata": {},
   "source": [
    "## 모델 생성\n",
    "- 회귀계수 최적화 옵션\n",
    "    - solver : 최적화 문제에 사용할 알고리즘\n",
    "        >- 'lbfgs' : solver의 기본값. CPU 코어 수가 많다면 최적화를 병렬로 사용할 수 있다\n",
    "        >- 'liblinear' : 작은 데이터에 적합한 알고리즘.\n",
    "        >- 'sag','saga' : 확률적 경사하강법을 기반으로 한 알고리즘으로 대용향 데이터에 적합\n",
    "        >- 'newton-cg','sag','saga' 및 'libfgs'만 다항 손실을 처리. 즉, 멀티 클래스 분류 모델에 사용 가능\n",
    "    - solver에 따른 규제 지원 사항\n",
    "        >- newton-cg, lbfgs, sag : L2\n",
    "        >- linlinear, saga : L1, L2\n",
    "    - multi_class : 다중클래스분류 문제의 상황에서 어떤 접근방식을 취할지 결정\n",
    "        >- 'ovr' : 이진분류기인 sigmoid 함수를 이용하여 결과 예측\n",
    "        >- 'multinominal' : 각 클래스에 대한 softmax 확률 값으로 다중분류를 수행\n",
    "    - C : 규제의 강도의 역수. 양의 실수 값. 선형회귀모형에서 alpha이고, SVM과 LogisticRegression과 같이 분류 모델에서는 C를 사용.(C값이 작을수록 모델이 단순해진다.)\n",
    "    - max_iter : solver가 수렴하는데 필요한 반복 횟수 (default:100)"
   ]
  },
  {
   "cell_type": "code",
   "execution_count": null,
   "id": "1ca322aa",
   "metadata": {},
   "outputs": [],
   "source": [
    "model = LogisticRegression()\n",
    "model.fit(X_train, y_train)\n",
    "\n",
    "print('추정 계수(가중치):', model.coef_)\n",
    "print('절편:', model.intercept_)"
   ]
  },
  {
   "attachments": {},
   "cell_type": "markdown",
   "id": "4b12ff89",
   "metadata": {},
   "source": [
    "## 모델 예측"
   ]
  },
  {
   "cell_type": "code",
   "execution_count": null,
   "id": "d698c5e0",
   "metadata": {},
   "outputs": [],
   "source": [
    "y_hat = model.predict(X_test)\n",
    "print('예측값:', y_hat[:20])\n",
    "print('실제값:', y_test[:20])"
   ]
  },
  {
   "attachments": {},
   "cell_type": "markdown",
   "id": "9e408266",
   "metadata": {},
   "source": [
    "## 평가 지표\n",
    "- 혼동 행렬 함수는 행을 true, 열을 predict 값으로 이용하며, 양성과 음성의 구분은 별도의 레이블을 지정하지 않으면 레이블 값의 정렬된 순서로 사용한다.(0:Negative, 1:Positive)\n",
    "\n",
    "<pre>\n",
    "y_true = [1,0,1,1,0,1]\n",
    "t_hat =  [0,0,1,1,0,1]\n",
    "confusion_matrix(y_true, y_hat)\n",
    "[[2,0],\n",
    " [1,3]]\n",
    "                  Predict\n",
    "            ----------------\n",
    "                |  N  |   P\n",
    "            ----------------\n",
    "   |        | N |  TN |  FP\n",
    "   |  True  |---------------\n",
    "   |        | P |  FN |  TP\n",
    "   \n",
    "confusion_matrix(y_true, y_hat, label=[1,0])\n",
    "</pre>"
   ]
  },
  {
   "cell_type": "code",
   "execution_count": null,
   "id": "8a348870",
   "metadata": {},
   "outputs": [],
   "source": [
    "matrix = confusion_matrix(y_test, y_hat)\n",
    "print(matrix)"
   ]
  },
  {
   "cell_type": "code",
   "execution_count": null,
   "id": "f6bd5b6a",
   "metadata": {},
   "outputs": [],
   "source": [
    "accuracy = accuracy_score(y_test, y_hat)\n",
    "print(f'정확도:{accuracy:.3f}') #(61 + 103) / (61 + 3 + 4 + 103)\n",
    "\n",
    "precision = precision_score(y_test, y_hat)\n",
    "print(f'정밀도:{precision:.3f}') # 103 / ( 3 + 103)\n",
    "\n",
    "recall = recall_score(y_test, y_hat)\n",
    "print(f'재현율:{recall:.3f}')  # 103 / ( 4 + 103)\n",
    "\n",
    "# [ N으로 예측할 확률, P로 예측할 확률]\n",
    "pred_proba_positive = model.predict_proba(X_test)[:,1]\n",
    "np.round(pred_proba_positive, 3)\n",
    "\n",
    "# fpr, tpr, threshold 값 반환\n",
    "fpr, tpr, threshold = roc_curve(y_test, pred_proba_positive)\n",
    "roc_data = np.concatenate([fpr.reshape(-1,1), tpr.reshape(-1,1), np.round(threshold.reshape(-1,1),3)], axis=1)\n",
    "roc_data = pd.DataFrame(roc_data, columns=['FPR','TPR','THRESHOLD'])\n",
    "display(roc_data)\n",
    "auc = roc_auc_score(y_test, pred_proba_positive)\n",
    "print(f'AUC:{auc:.3f}')"
   ]
  },
  {
   "cell_type": "code",
   "execution_count": null,
   "id": "a87f54da",
   "metadata": {},
   "outputs": [],
   "source": [
    "import matplotlib.pyplot as plt\n",
    "plt.plot(fpr, tpr)\n",
    "plt.xlabel('FPR')\n",
    "plt.ylabel('TPR')\n",
    "plt.show()"
   ]
  },
  {
   "cell_type": "code",
   "execution_count": null,
   "id": "4da6e3cf",
   "metadata": {},
   "outputs": [],
   "source": [
    "optimal_threshold = threshold[np.argmax(tpr - fpr)]\n",
    "print('최적의 임계값:',optimal_threshold)"
   ]
  },
  {
   "attachments": {},
   "cell_type": "markdown",
   "id": "95415643",
   "metadata": {},
   "source": [
    "## 임계값 변화에 따른 재현율과 정밀도 변환 확인"
   ]
  },
  {
   "cell_type": "code",
   "execution_count": null,
   "id": "423fd282",
   "metadata": {},
   "outputs": [],
   "source": [
    "from sklearn.metrics import classification_report\n",
    "\n",
    "def threshold_filter(prob, threshold):\n",
    "    return np.where(prob > threshold, 1, 0)\n",
    "\n",
    "pred_1 = threshold_filter(pred_proba_positive, 0.5)\n",
    "pred_2 = threshold_filter(pred_proba_positive, 0.6)\n",
    "pred_3 = threshold_filter(pred_proba_positive, 0.8)\n",
    "\n",
    "print(classification_report(y_test, pred_1))\n",
    "print('-'*100)\n",
    "print(classification_report(y_test, pred_2))\n",
    "print('-'*100)\n",
    "print(classification_report(y_test, pred_3))\n"
   ]
  },
  {
   "attachments": {},
   "cell_type": "markdown",
   "id": "ae9e84a9",
   "metadata": {},
   "source": [
    "## solver별 성능평가 비교"
   ]
  },
  {
   "cell_type": "code",
   "execution_count": null,
   "id": "5c4cf8b8",
   "metadata": {},
   "outputs": [],
   "source": [
    "solvers = ['lbfgs','liblinear','newton-cg','sag','saga']\n",
    "\n",
    "for solver in solvers:\n",
    "    model = LogisticRegression(solver=solver, max_iter=600)\n",
    "    model.fit(X_test, y_test)\n",
    "    y_hat = model.predict(X_test)\n",
    "    \n",
    "    print(f'solver:{solver}, accuracy:{accuracy_score(y_test, y_hat):.3f}, roc_auc:{roc_auc_score(y_test, model.predict_proba(X_test)[:,1]):.3f}')"
   ]
  },
  {
   "attachments": {},
   "cell_type": "markdown",
   "id": "5f35fb64",
   "metadata": {},
   "source": [
    "# [실습] 개인 신용도를 기반으로 대출 가능여부 예측하기\n",
    "- 데이터 구조\n",
    "    - Age : 나이\n",
    "    - Experience : 경력\n",
    "    - Income : 연소득\n",
    "    - ZIP Code : 우편번호\n",
    "    - Family : 가족 수\n",
    "    - CCAvg : 월 평균 카드 사용액\n",
    "    - Education : 교육수준 (1:학부, 2:대학원, 3:고급/전문)\n",
    "    - Mortgage : 가계대출\n",
    "    - Personal Loan : 대출 승인여부\n",
    "    - Securities Account : 유가증권 계좌유무\n",
    "    - CD Account : 양도예금증서 계좌 유무\n",
    "    - Online : 온라인계좌 유무\n",
    "    - CreditCard : 신용카드 유무\n",
    "- 처리 조건 : 불필요한 컬럼삭제 (ID, Zip Code)"
   ]
  },
  {
   "cell_type": "code",
   "execution_count": null,
   "id": "b771a3bd",
   "metadata": {},
   "outputs": [],
   "source": [
    "import numpy as np\n",
    "import pandas as pd\n",
    "from sklearn.linear_model import LogisticRegression\n",
    "from sklearn.metrics import accuracy_score, precision_score, recall_score, roc_curve, roc_auc_score, confusion_matrix\n",
    "from sklearn.model_selection import train_test_split\n",
    "import matplotlib.pyplot as plt\n"
   ]
  },
  {
   "cell_type": "code",
   "execution_count": null,
   "id": "3e214a15",
   "metadata": {},
   "outputs": [],
   "source": [
    "# 데이터 로드 및 확인\n",
    "df = pd.read_csv('dataset/Personal_Loan.csv')\n",
    "df.head()\n",
    "\n",
    "\n",
    "# 데이터 전처리\n",
    "df = df.drop(['ID','ZIP Code'], axis=1)\n",
    "\n",
    "\n",
    "# 독립변수와 종속변수 분리\n",
    "X = df.drop('Personal Loan', axis=1)\n",
    "y = df['Personal Loan']\n",
    "\n",
    "\n",
    "# 학습데이터와 평가데이터 분할\n",
    "X_train, X_test, y_train, y_test = train_test_split(X, y, test_size=0.3, random_state=40, stratify=y)\n",
    "\n",
    "\n",
    "# 모델 생성\n",
    "model = LogisticRegression(max_iter=2000)\n",
    "\n",
    "# 모델 학습\n",
    "model.fit(X_train, y_train)\n",
    "\n",
    "\n",
    "np.set_printoptions(suppress=True, precision=2)\n",
    "\n",
    "# 추정계수\n",
    "coef = model.coef_.squeeze(axis=0)\n",
    "print('추정계수:', coef)\n",
    "\n",
    "# 밑에 설명있음\n",
    "odds_rate = np.exp(coef)\n",
    "print('추정계수(odds비):', odds_rate)\n",
    "\n",
    "coef_df = pd.DataFrame({'가중치':coef, 'Odds비':odds_rate}, index=X.columns)\n",
    "display(coef_df)\n",
    "\n",
    "\n",
    "# 모델 예측\n",
    "y_hat = model.predict(X_test)\n",
    "\n",
    "\n",
    "# 모델 평가\n",
    "cf = confusion_matrix(y_test, y_hat)\n",
    "cf_df = pd.DataFrame(cf, index=[['actual','actual'],['대출불가(0)','대출승인(1)']], columns=[['predict','predict'],['대출불가(0)','대출승인(1)']])\n",
    "display(cf_df)\n",
    "\n",
    "print(f'정확도:{accuracy_score(y_test, y_hat):.3f}') \n",
    "print(f'정밀도:{precision_score(y_test, y_hat):.3f}') \n",
    "print(f'재현율:{recall_score(y_test, y_hat):.3f}')  \n",
    "\n",
    "\n",
    "# [ N으로 예측할 확률, P로 예측할 확률]\n",
    "pred_proba_positive = model.predict_proba(X_test)[:,1]\n",
    "\n",
    "fpr, tpr, threshold = roc_curve(y_test, pred_proba_positive)\n",
    "\n",
    "plt.plot(fpr, tpr)\n",
    "plt.xlabel('FalsePositiveRate')\n",
    "plt.ylabel('TruePositiveRate')\n",
    "plt.show()\n",
    "\n",
    "auc = roc_auc_score(y_test, pred_proba_positive)\n",
    "print(f'AUC:{auc:.3f}')"
   ]
  },
  {
   "attachments": {},
   "cell_type": "markdown",
   "id": "b4f4df27",
   "metadata": {},
   "source": [
    "- 로지스틱 회귀에서 회귀계수의 해석\n",
    "    - 로지스틱 회귀계수는 지수변환(exp()함수를 취한다)을 해주면 Odds비가 나온다.\n",
    "    - Odds비: 성공할 확률 / 실패할 확률\n",
    "    - 대출여부에 영향을 미치는 a변수의 오즈비가 1보다 큰 경우 대출승인확률이 높다는 결과이다.(만약 14라면 대출거부확률보다 대출승인확률이 14배 높다는 의미)"
   ]
  },
  {
   "attachments": {},
   "cell_type": "markdown",
   "id": "89421340",
   "metadata": {},
   "source": [
    "## 교차검증\n"
   ]
  },
  {
   "cell_type": "code",
   "execution_count": 46,
   "id": "511aa542",
   "metadata": {},
   "outputs": [
    {
     "name": "stdout",
     "output_type": "stream",
     "text": [
      "평가지표: fit_time\n",
      "평균값: 0.504\n",
      "--------------------------------------------------\n",
      "평가지표: score_time\n",
      "평균값: 0.007\n",
      "--------------------------------------------------\n",
      "평가지표: test_accuracy\n",
      "평균값: 0.95\n",
      "--------------------------------------------------\n",
      "평가지표: test_precision\n",
      "평균값: 0.81\n",
      "--------------------------------------------------\n",
      "평가지표: test_roc_auc\n",
      "평균값: 0.958\n",
      "--------------------------------------------------\n"
     ]
    }
   ],
   "source": [
    "from sklearn.model_selection import cross_validate\n",
    "\n",
    "scores = cross_validate(model, X, y, cv=10, scoring =['accuracy','precision','roc_auc'])\n",
    "\n",
    "for key , value in scores.items():\n",
    "    print('평가지표:', key)\n",
    "    print('평균값:', np.round(np.mean(value),3))\n",
    "    print('-'*50)\n"
   ]
  },
  {
   "attachments": {},
   "cell_type": "markdown",
   "id": "e4fba097",
   "metadata": {},
   "source": [
    "## 학습모델 저장"
   ]
  },
  {
   "cell_type": "code",
   "execution_count": 47,
   "id": "b6a8b2b5",
   "metadata": {},
   "outputs": [
    {
     "data": {
      "text/plain": [
       "['./lr_model.pkl']"
      ]
     },
     "execution_count": 47,
     "metadata": {},
     "output_type": "execute_result"
    }
   ],
   "source": [
    "import joblib # 모델 학습 결과를 pickle 파일로 저장하기 위한 라이브러리\n",
    "\n",
    "joblib.dump(model, './lr_model.pkl')"
   ]
  },
  {
   "cell_type": "code",
   "execution_count": 49,
   "id": "aed1f317",
   "metadata": {},
   "outputs": [
    {
     "name": "stdout",
     "output_type": "stream",
     "text": [
      "0.9553333333333334\n"
     ]
    }
   ],
   "source": [
    "loaded_model = joblib.load('./lr_model.pkl')\n",
    "accuracy = loaded_model.score(X_test,y_test)\n",
    "print(accuracy)"
   ]
  },
  {
   "cell_type": "code",
   "execution_count": null,
   "id": "cf55d9bd",
   "metadata": {},
   "outputs": [],
   "source": []
  },
  {
   "cell_type": "code",
   "execution_count": null,
   "id": "f63df456",
   "metadata": {},
   "outputs": [],
   "source": []
  },
  {
   "cell_type": "code",
   "execution_count": null,
   "id": "f2c65e7e",
   "metadata": {},
   "outputs": [],
   "source": []
  }
 ],
 "metadata": {
  "kernelspec": {
   "display_name": "Python 3 (ipykernel)",
   "language": "python",
   "name": "python3"
  },
  "language_info": {
   "codemirror_mode": {
    "name": "ipython",
    "version": 3
   },
   "file_extension": ".py",
   "mimetype": "text/x-python",
   "name": "python",
   "nbconvert_exporter": "python",
   "pygments_lexer": "ipython3",
   "version": "3.11.3"
  },
  "toc": {
   "base_numbering": 1,
   "nav_menu": {},
   "number_sections": true,
   "sideBar": true,
   "skip_h1_title": false,
   "title_cell": "Table of Contents",
   "title_sidebar": "Contents",
   "toc_cell": false,
   "toc_position": {
    "height": "calc(100% - 180px)",
    "left": "10px",
    "top": "150px",
    "width": "303.837px"
   },
   "toc_section_display": true,
   "toc_window_display": true
  }
 },
 "nbformat": 4,
 "nbformat_minor": 5
}
