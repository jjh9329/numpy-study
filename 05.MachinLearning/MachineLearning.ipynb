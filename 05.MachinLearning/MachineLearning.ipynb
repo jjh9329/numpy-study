{
 "cells": [
  {
   "attachments": {},
   "cell_type": "markdown",
   "metadata": {},
   "source": [
    "# Machine Learning\n"
   ]
  },
  {
   "attachments": {},
   "cell_type": "markdown",
   "metadata": {},
   "source": [
    "- AI -> ML(경험적 데이터로 규칙과 패턴을 찾는 것) -> DL"
   ]
  },
  {
   "attachments": {},
   "cell_type": "markdown",
   "metadata": {},
   "source": [
    "## machine learning 종류\n",
    "- 지도학습 : 표식이 있는자료, 또는 해당이 있는 자료를 대상으로 입력자료 ㅌ로부터 해당자료y의 예측을 학습하는 방법 \n",
    "- **y의 예측이 주 목적**\n",
    "    - 분류함수(y가 범주형 변수인 경우): 스팸필터, 손글씨 인식, 얼굴인식, x-ray 질병유무 판별\n",
    "    - 회귀학습(y가 연속형 변수인 경우): 주식예측, 특정 제품 선호 소비자 연령 예측, 기온 예측\n",
    "\n",
    "- 비지도 학습 : y가 존재하지 않는 자료를 대상으로 자료에 숨겨진 구조를 찾고자 하는 학습방법\n",
    "- **y가 없기 때문에 찾아낸 구조나 패턴이 얼마나 정밀한지에 대한 검증불가**\n",
    "    - 군집학습(x의 유사성을 이용해 몇개의 그룹으로 분류): 고객특성분류, 음향/영상 주제별 분류\n",
    "    - 잠재요인추출(x에서 관측되지 않은 잠재 요인을 추출): 주성분 분석, 선형판별분석, 커널 방법\n",
    "- 강화학습 : 환경이 주어지면 환경에 시스템의 성능을 향상시키는 머신러닝(게임이나 롭소에 주로 사용)\n",
    "- **어떤 행동을 했을 때 받는 보상에 따라 미래의 행동을 바꿔하는방식**"
   ]
  },
  {
   "attachments": {},
   "cell_type": "markdown",
   "metadata": {},
   "source": [
    "# Overfitting (과적합)\n",
    "- 분석 데이터에만 존재하는 특징을 학습하여 데이터의 작은 변화에도 과장된 결과를 초래하여 예측력이 떨어지는 현상\n",
    "    - 학습 데이터에는 오차가 감소하지만\n",
    "    - 실제 데이터에 대해서는 오차가 증가\n",
    "- 발생원인\n",
    "    - 변수가 너무 많이 존재하여 모델이 복잡할 대\n",
    "    - 분석 데이터(표본 데이터)가 모집단의 특성을 설명하지 못할 때\n",
    "- 방지법\n",
    "    - 가능한 많은 데이터(다양한 데이터)로 모델링하여 Unseen data(미지의 데이터)의 범위를 좁힘"
   ]
  },
  {
   "attachments": {},
   "cell_type": "markdown",
   "metadata": {},
   "source": [
    "## Cross Validation\n",
    "- 데이터를 분할하여 모델 생성 및 적용에 번갈아 가면서 일반화하는 모델 검증 결과 평가방법\n",
    "    - K-fold cross validation 자료를 k개로 분류하고 (k-1)개를 Training data, 1개를 Validation data로 구분하여 모델 생성 과정을 k번 반복\n",
    "- Scaling(정규화,분포화) : 과대 적합에 영향을 주는 변수 값에 가중치를 주어 모델을 일반화함"
   ]
  },
  {
   "attachments": {},
   "cell_type": "markdown",
   "metadata": {},
   "source": [
    "## 회귀 분석\n",
    "- 정의\n",
    "    - 매개변수 모델을 이용하여 통계적을 ㅗ변수들 사이의 관계를 추정하는 분석방법\n",
    "- 용도\n",
    "    - 독립변수가 종속변수에 미치는 영향을 확인하고자 사용하는 분석방법\n"
   ]
  },
  {
   "attachments": {},
   "cell_type": "markdown",
   "metadata": {},
   "source": [
    "## 선형 관계\n",
    "- 독립변수가 종속변수에 영향을 준다면 두 변수 사이에 선형관계까 있다고 할 수 이ㅣㅆ다.\n",
    "- 과학에서 볼 수 있는 현상\n",
    "    - 속도와 거리\n",
    "    - 섭씨와 화씨\n",
    "    - 지름과 원의 둘레\n",
    "- 사회에서 볼수 있는 현상\n",
    "    - 공부한 시간과 성적\n",
    "    - 온도와 아이스크림 판매 수\n",
    "    - 소득의 증가에 따른 소비의 증가\n",
    "    "
   ]
  },
  {
   "attachments": {},
   "cell_type": "markdown",
   "metadata": {},
   "source": [
    "## 회귀분석 모델\n",
    "- 목적\n",
    "    - 독립변수(x)와 종속변수(y) 데이터가 주어졌ㅇ르때 두 변수의 관계를 설명할 수있는 y = wx+b라는 선형 관계를 찾는것\n",
    "    - d이와 가은 선형관계를 알고 있따면 새로운 x값이 주어졌을 때 종속변수 y의 값을 예측할 수 있다.\n",
    "    - 최소 제곱법을 통해 오차를 최소화 할수 있는 w와 b를 찾는다.\n",
    "        - 회귀식 :y = wx + b\n",
    "        - 최소 제곱법 : 회귀선과 관측값들의 잔차를 제곱하여 더한 값으로 그 값이 최소가 되도록 회귀계수를 구하는것\n",
    "        - 설명력 지표: 피어슨 상관계쑤, 결정계수 R**2\n",
    "        - 최소 제곱법 +=(y-y^)**2 : 오차"
   ]
  },
  {
   "attachments": {},
   "cell_type": "markdown",
   "metadata": {},
   "source": [
    "### MSE와 비용함수\n",
    "- 오차함수는 각 **독립변수(사례)의 오차를 계산하는 함수**이다 (yi -y^i)**2 #^는 예측치\n",
    "- 머신러닝은 여러 사례를 묶어서 1개의 단위(epoch)로 처리하는데, 각 사례의 개별적인 오차를 오차함수로 계산한다.\n",
    "- 그리고, epoch 단위의 오차를 모두 합쳐서 오차를 관리하는데, 이렇게 **1개 단위의 오차를 합치는 함수를 비용함수**라고 한다\n",
    "- 선형회귀 모델은 **MSE(평균제곱오차)**라는 **비용함수**를 사용하여 모델을 학습시킨다."
   ]
  },
  {
   "attachments": {},
   "cell_type": "markdown",
   "metadata": {},
   "source": [
    "### 경사 하강법\n",
    "- 머신러닝에서 가중치를 학습시키기 위해서 사용하는 방법을 경사하강법이라고 한다\n",
    "- 현재 가중치 w의 위치에서 오차가 작아지는 방향으로 조금씩 이동하면서 가중치를 수정한다.\n"
   ]
  },
  {
   "cell_type": "code",
   "execution_count": null,
   "metadata": {},
   "outputs": [],
   "source": []
  },
  {
   "cell_type": "code",
   "execution_count": null,
   "metadata": {},
   "outputs": [],
   "source": []
  },
  {
   "cell_type": "code",
   "execution_count": null,
   "metadata": {},
   "outputs": [],
   "source": []
  },
  {
   "cell_type": "code",
   "execution_count": null,
   "metadata": {},
   "outputs": [],
   "source": []
  },
  {
   "cell_type": "code",
   "execution_count": null,
   "metadata": {},
   "outputs": [],
   "source": []
  },
  {
   "cell_type": "code",
   "execution_count": null,
   "metadata": {},
   "outputs": [],
   "source": []
  },
  {
   "cell_type": "code",
   "execution_count": null,
   "metadata": {},
   "outputs": [],
   "source": []
  },
  {
   "cell_type": "code",
   "execution_count": null,
   "metadata": {},
   "outputs": [],
   "source": []
  },
  {
   "cell_type": "code",
   "execution_count": null,
   "metadata": {},
   "outputs": [],
   "source": []
  }
 ],
 "metadata": {
  "language_info": {
   "name": "python"
  },
  "orig_nbformat": 4
 },
 "nbformat": 4,
 "nbformat_minor": 2
}
