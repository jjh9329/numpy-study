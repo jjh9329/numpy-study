{
 "cells": [
  {
   "attachments": {},
   "cell_type": "markdown",
   "metadata": {},
   "source": [
    "# 공분산 행렬 구하기"
   ]
  },
  {
   "cell_type": "code",
   "execution_count": 2,
   "metadata": {},
   "outputs": [],
   "source": [
    "import numpy as np\n",
    "\n",
    "np.set_printoptions(precision=3,suppress=True)"
   ]
  },
  {
   "cell_type": "code",
   "execution_count": 9,
   "metadata": {},
   "outputs": [
    {
     "name": "stdout",
     "output_type": "stream",
     "text": [
      "[[177.7  68.1  91.8]\n",
      " [168.   60.2  89.3]\n",
      " [165.3  49.1  84.9]\n",
      " [159.1  42.   86.3]\n",
      " [176.4  73.3  93.8]\n",
      " [176.   57.2  92.5]\n",
      " [170.   59.8  89.8]\n",
      " [164.6  51.6  88.5]\n",
      " [174.4  70.2  91.7]\n",
      " [174.8  58.8  91.6]]\n",
      "--------------------------------------------------\n",
      "열평균 [170.63  59.03  90.02]\n",
      "--------------------------------------------------\n",
      "[Coveriance]\n",
      "[[38.749 52.035 15.779]\n",
      " [52.035 95.54  23.158]\n",
      " [15.779 23.158  7.984]]\n"
     ]
    }
   ],
   "source": [
    "x = [[177.7, 68.1, 91.8], [168, 60.2, 89.3], [165.3, 49.1, 84.9], [159.1, 42, 86.3], [176.4, 73.3, 93.8],\n",
    "     [176, 57.2, 92.5], [170, 59.8, 89.8], [164.6, 51.6, 88.5], [174.4, 70.2, 91.7], [174.8, 58.8, 91.6]]\n",
    "X =np.array(x)\n",
    "print(X)\n",
    "print('-'*50)\n",
    "print('열평균', np.mean(X,axis=0))\n",
    "X = X - np.mean(X,axis=0) # 각 컬럼의 편차 계산\n",
    "print('-'*50)\n",
    "print('[Coveriance]')\n",
    "cov = X.T@X / (len(X) - 1)\n",
    "print(cov)"
   ]
  },
  {
   "attachments": {},
   "cell_type": "markdown",
   "metadata": {},
   "source": [
    "## np.cov() 결과 비교"
   ]
  },
  {
   "cell_type": "code",
   "execution_count": 10,
   "metadata": {},
   "outputs": [
    {
     "data": {
      "text/plain": [
       "array([[38.749, 52.035, 15.779],\n",
       "       [52.035, 95.54 , 23.158],\n",
       "       [15.779, 23.158,  7.984]])"
      ]
     },
     "execution_count": 10,
     "metadata": {},
     "output_type": "execute_result"
    }
   ],
   "source": [
    "np.cov(X, rowvar = False)"
   ]
  },
  {
   "attachments": {},
   "cell_type": "markdown",
   "metadata": {},
   "source": [
    "# 고유값, 고유벡터 행렬 구하기"
   ]
  },
  {
   "cell_type": "code",
   "execution_count": 28,
   "metadata": {},
   "outputs": [
    {
     "name": "stdout",
     "output_type": "stream",
     "text": [
      "고유값 [132.696   8.307   1.27 ]\n",
      "------------------------------\n",
      "고유값 대각 행렬\n",
      "[[132.696   0.      0.   ]\n",
      " [  0.      8.307   0.   ]\n",
      " [  0.      0.      1.27 ]]\n",
      "------------------------------\n",
      "고유벡터 행렬 V\n",
      "[[-0.501 -0.803 -0.323]\n",
      " [-0.838  0.544 -0.054]\n",
      " [-0.219 -0.244  0.945]]\n",
      "첫 번째 고유벡터와 두번째 고유벡터와의 내적\n",
      "0.0\n",
      "------------------------------\n",
      "[[38.749 52.035 15.779]\n",
      " [52.035 95.54  23.158]\n",
      " [15.779 23.158  7.984]]\n",
      "------------------------------\n",
      "고유벡터 행령@고유값 대각행렬@고유벡터 행렬의 역행렬\n",
      "[[38.749 52.035 15.779]\n",
      " [52.035 95.54  23.158]\n",
      " [15.779 23.158  7.984]]\n"
     ]
    }
   ],
   "source": [
    "eigenvalue, eigenvector = np.linalg.eig(cov)\n",
    "print('고유값',eigenvalue)\n",
    "print('-'*30)\n",
    "print('고유값 대각 행렬')\n",
    "eig_matrix = np.identity(3) * eigenvalue\n",
    "print(eig_matrix)\n",
    "print('-'*30)\n",
    "print('고유벡터 행렬 V')\n",
    "V = eigenvector\n",
    "print(V)\n",
    "print('첫 번째 고유벡터와 두번째 고유벡터와의 내적')\n",
    "print(np.round(eigenvector[:,0].T.dot(eigenvector[:,1]),4))\n",
    "\n",
    "print('-'*30)\n",
    "print(cov)  # cov = X.T@X / (len(X) - 1)\n",
    "print('-'*30)\n",
    "print('고유벡터 행령@고유값 대각행렬@고유벡터 행렬의 역행렬')\n",
    "print(V@eig_matrix@np.linalg.inv(V))\n"
   ]
  },
  {
   "attachments": {},
   "cell_type": "markdown",
   "metadata": {},
   "source": [
    "# 첫번째 주성분(PC1) 구하기"
   ]
  },
  {
   "cell_type": "code",
   "execution_count": 30,
   "metadata": {},
   "outputs": [
    {
     "name": "stdout",
     "output_type": "stream",
     "text": [
      "[-11.526   0.494  12.106  20.85  -15.668  -1.699  -0.281   9.574 -11.61\n",
      "  -2.241]\n"
     ]
    }
   ],
   "source": [
    "pc1 = eigenvector[:,0].T@X.T\n",
    "print(pc1)"
   ]
  },
  {
   "attachments": {},
   "cell_type": "markdown",
   "metadata": {},
   "source": [
    "# 공분산을 이용한 주성분 분석"
   ]
  },
  {
   "cell_type": "code",
   "execution_count": 34,
   "metadata": {},
   "outputs": [
    {
     "name": "stdout",
     "output_type": "stream",
     "text": [
      "PCA를 이용한 차원 축소\n",
      "고유벡터 VT - 주성분 2개 선택\n",
      "[[-0.501 -0.838 -0.219]\n",
      " [-0.803  0.544 -0.244]]\n",
      "고유벡터 VT와 원 데이터 XT의 내적\n",
      "[[-11.526  -1.18 ]\n",
      " [  0.494   2.924]\n",
      " [ 12.106   0.129]\n",
      " [ 20.85    0.906]\n",
      " [-15.668   2.204]\n",
      " [ -1.699  -5.912]\n",
      " [ -0.281   0.978]\n",
      " [  9.574   1.173]\n",
      " [-11.61    2.637]\n",
      " [ -2.241  -3.859]]\n"
     ]
    }
   ],
   "source": [
    "print('PCA를 이용한 차원 축소')\n",
    "VT = np.array([eigenvector[:,0],eigenvector[:,1]])\n",
    "print('고유벡터 VT - 주성분 2개 선택')\n",
    "print(VT)\n",
    "print(\"고유벡터 VT와 원 데이터 XT의 내적\")\n",
    "print((VT@X.T).T)"
   ]
  },
  {
   "attachments": {},
   "cell_type": "markdown",
   "metadata": {},
   "source": [
    "# PCA 클래스와 결과 비교"
   ]
  },
  {
   "cell_type": "code",
   "execution_count": 38,
   "metadata": {},
   "outputs": [
    {
     "name": "stdout",
     "output_type": "stream",
     "text": [
      "(10, 2)\n",
      "[[-11.526   1.18 ]\n",
      " [  0.494  -2.924]\n",
      " [ 12.106  -0.129]\n",
      " [ 20.85   -0.906]\n",
      " [-15.668  -2.204]\n",
      " [ -1.699   5.912]\n",
      " [ -0.281  -0.978]\n",
      " [  9.574  -1.173]\n",
      " [-11.61   -2.637]\n",
      " [ -2.241   3.859]]\n"
     ]
    }
   ],
   "source": [
    "from sklearn.decomposition import PCA\n",
    "\n",
    "model = PCA(n_components=2)\n",
    "pca = model.fit_transform(X)\n",
    "print(pca.shape)\n",
    "print(pca)"
   ]
  },
  {
   "attachments": {},
   "cell_type": "markdown",
   "metadata": {},
   "source": [
    "# PC(주성분)가 차지하는 분산 비율 구하기"
   ]
  },
  {
   "cell_type": "code",
   "execution_count": 40,
   "metadata": {},
   "outputs": [
    {
     "name": "stdout",
     "output_type": "stream",
     "text": [
      "0.9910760305908326\n",
      "[0.933 0.058]\n",
      "0.9910760305908327\n"
     ]
    }
   ],
   "source": [
    "var_ration = np.sum(eigenvalue[:2])/ np.sum(eigenvalue)\n",
    "print(var_ration)\n",
    "print(model.explained_variance_ratio_)\n",
    "print(np.sum(model.explained_variance_ratio_))"
   ]
  },
  {
   "attachments": {},
   "cell_type": "markdown",
   "metadata": {},
   "source": [
    "# 고유벡터 행렬"
   ]
  },
  {
   "cell_type": "code",
   "execution_count": 42,
   "metadata": {},
   "outputs": [
    {
     "data": {
      "text/plain": [
       "array([[-0.501, -0.838, -0.219],\n",
       "       [ 0.803, -0.544,  0.244]])"
      ]
     },
     "execution_count": 42,
     "metadata": {},
     "output_type": "execute_result"
    }
   ],
   "source": [
    "# 고유벡터 행렬\n",
    "model.components_"
   ]
  },
  {
   "cell_type": "code",
   "execution_count": 43,
   "metadata": {},
   "outputs": [
    {
     "data": {
      "text/plain": [
       "array([132.696,   8.307])"
      ]
     },
     "execution_count": 43,
     "metadata": {},
     "output_type": "execute_result"
    }
   ],
   "source": [
    "# 고유값\n",
    "model.explained_variance_"
   ]
  }
 ],
 "metadata": {
  "kernelspec": {
   "display_name": "Python 3",
   "language": "python",
   "name": "python3"
  },
  "language_info": {
   "codemirror_mode": {
    "name": "ipython",
    "version": 3
   },
   "file_extension": ".py",
   "mimetype": "text/x-python",
   "name": "python",
   "nbconvert_exporter": "python",
   "pygments_lexer": "ipython3",
   "version": "3.11.3"
  },
  "orig_nbformat": 4
 },
 "nbformat": 4,
 "nbformat_minor": 2
}
