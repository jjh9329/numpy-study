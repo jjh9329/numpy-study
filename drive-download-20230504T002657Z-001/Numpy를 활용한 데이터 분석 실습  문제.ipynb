{
 "cells": [
  {
   "cell_type": "markdown",
   "metadata": {},
   "source": [
    "# [문제] BMI 지수 계산 및 과체중 이상인 BMI 값 확인\n",
    "- 10명에 대한 키와 몸무게가 들어있는 'height_weight.txt'를 읽어 각 사람별 BMI 지수를 구하고 비만 전단계 이상인 BMI 값 확인하기\n",
    "\n",
    "<pre>\n",
    " BMI 지수 = 몸무게(kg) / 키(M)의 제곱\n",
    " 체질량지수의 범위 값에 따른 비만도 값 지정\n",
    " 18.5 미만 ▶ 저체중\n",
    " 18.5 ~ 22.9 ▶ 정상\n",
    " 23 ~ 24.9 ▶ 비만 전단계\n",
    " 25 ~ 29 ▶ 1단계 비만\n",
    " 30 ~ 34.9 ▶ 2단계 비만\n",
    " 35이상 ▶ 고도비만\n",
    "</pre>"
   ]
  },
  {
   "cell_type": "code",
   "execution_count": 12,
   "metadata": {},
   "outputs": [
    {
     "name": "stdout",
     "output_type": "stream",
     "text": [
      "[[175.2 180.3 175.  169.2 185.2 188.  177.6 178.2 177.  179. ]\n",
      " [ 65.6  88.   79.2  69.3  55.   71.2  73.   68.9  74.   82. ]]\n",
      "[3.069504 3.250809 3.0625   2.862864 3.429904 3.5344   3.154176 3.175524\n",
      " 3.1329   3.2041  ]\n",
      "[21.37153104 27.07018468 25.86122449 24.20652885 16.03543423 20.14486193\n",
      " 23.14392095 21.69720651 23.62028791 25.59220998]\n"
     ]
    }
   ],
   "source": [
    "import numpy as np\n",
    "\n",
    "data = np.loadtxt('height_weight.txt', delimiter=',', dtype = float)\n",
    "print(data)\n",
    "a = (data[0]/100)**2\n",
    "\n",
    "print(a)\n",
    "weight = data[1]/a\n",
    "print(weight)\n",
    "#np.where(data[1]/a >18.5,\"저체중\")"
   ]
  },
  {
   "cell_type": "markdown",
   "metadata": {},
   "source": [
    "# [문제] 국가건강검진 혈압혈당 데이터 분석\n",
    "\n",
    "* '국가건강검진_혈압혈당데이터.csv' 파일 내용을 읽기 <data = np.loadtxt(\"국가건강검진_혈압혈당데이터.csv\", delimiter=\",\", dtype=np.float, skiprows=1)>\n",
    "    - 성별: 1(남자), 2(여자)\n",
    "    - 연령그룹: 1(20-24), 2(25-26),...25-74세까지 2살 간격으로 1개 그룹으로 지정, 27(74세 이상)\n",
    "    - 고혈압 당뇨병 진료여부: 1(고혈압 및 당뇨진료내역 있음), 2(고혈압 진료내역 있음), 3(당뇨 진료내역 있음), 4(고혈압 및 당뇨 진료내역 없음)\n",
    "    - 정상혈압: 수축기 혈압 120nnHg 미만, 확장기 혈압 80mmHg 미만\n",
    "    - 공복혈당 수치: 126 mg/dL 이상 -> 당뇨병, 100mg/dL-> 정상\n",
    "* 전체 레코드 수와 상위 5개 데이터 확인\n",
    "* 데이터 모양 확인\n",
    "* 여성과 남성의 데이터 수 확인\n",
    "* 여성과 남성의 수축기혈압과 이완기혈압의 평균값 확인\n",
    "* 정상 혈압 남자 및 여자 수 확인\n",
    "* 당뇨병 질환(공복혈당 수치 126mg/dL 이상)을 가지고 있는 사람들의 평균 체질량지수"
   ]
  },
  {
   "cell_type": "code",
   "execution_count": 120,
   "metadata": {},
   "outputs": [
    {
     "name": "stdout",
     "output_type": "stream",
     "text": [
      "[[  1.    1.  116.   78.   94.    4.   16.6]\n",
      " [  1.    1.  100.   60.   79.    4.   22.3]\n",
      " [  1.    1.  100.   60.   87.    4.   21.9]\n",
      " [  1.    1.  111.   70.   72.    4.   20.2]\n",
      " [  1.    1.  120.   80.   98.    4.   20. ]]\n",
      "(1000000, 7)\n",
      "[ True  True  True ... False False False]\n",
      "510227\n",
      "489773\n",
      "124.2799538244742\n",
      "77.61497725522169\n",
      "119.36300081874664\n",
      "73.88446688567969\n",
      "--------------------------------------------------\n",
      "정상혈압 남자 수: 158007\n",
      "정상혈압 여자 수: 230707\n",
      "당뇨병 질환 환자의 평균 BMI: 25.17\n"
     ]
    }
   ],
   "source": [
    "import numpy as np\n",
    "data = np.loadtxt(\"국가건강검진_혈압혈당데이터.csv\", delimiter=\",\",dtype=float, skiprows=1)\n",
    "print(data[:5])\n",
    "print(data.shape)\n",
    "man = data[:,0] ==1\n",
    "woman = data[:,0] ==2\n",
    "print(man)\n",
    "print(len(data[man]))\n",
    "print(len(data[woman]))\n",
    "\n",
    "print(np.average(data[man][:,2]))\n",
    "print(np.average(data[man][:,3]))\n",
    "print(np.average(data[woman][:,2]))\n",
    "print(np.average(data[woman][:,3]))\n",
    "\n",
    "# jungsangSu = data[:,2] < 120 \n",
    "# jungsangHw = data[:,3] < 80\n",
    "# jungsang = data[np.logical_and(jungsangHw,jungsangSu)]\n",
    "# jungsangdata = data[jungsang]\n",
    "# print(jungsangdata)\n",
    "# print(len(jungsangdata[:,0]==1))\n",
    "print(\"-\"*50)\n",
    "\n",
    "nbp_masking = np.logical_and(data[:,2] < 120,data[:,3] < 80)\n",
    "nbp_data = data[nbp_masking]\n",
    "print(f'정상혈압 남자 수: {sum(nbp_data[:,0]==1)}')\n",
    "print(f'정상혈압 여자 수: {sum(nbp_data[:,0]==2)}')\n",
    "\n",
    "diabetes = data[data[:,4] >= 126]\n",
    "print(f'당뇨병 질환 환자의 평균 BMI: {np.mean(diabetes[:,6]):.2f}')\n",
    "# print(data)\n"
   ]
  },
  {
   "cell_type": "code",
   "execution_count": null,
   "metadata": {},
   "outputs": [],
   "source": [
    "man_sbp_mean = np.mean(data[data[:,0] == 1][:,2])"
   ]
  },
  {
   "cell_type": "code",
   "execution_count": null,
   "metadata": {},
   "outputs": [],
   "source": []
  },
  {
   "cell_type": "markdown",
   "metadata": {},
   "source": [
    "# [문제] 시에틀 강수량 데이터 분석\n",
    "- 'Seattle2014.csv' 파일 내용 읽기\n",
    "- 강수량('PRCP')이 많은 날 상위 10일 확인\n",
    "- 1월 강수량만 출력\n",
    "- 1월에 내린 강수량의 합, 평균강수량 확인\n",
    "- 1년동안 강수량이 40미만으로 내린 날이 몇일인가?"
   ]
  },
  {
   "cell_type": "code",
   "execution_count": 203,
   "metadata": {},
   "outputs": [
    {
     "name": "stdout",
     "output_type": "stream",
     "text": [
      "[467. 343. 333. 323. 320. 277. 264. 254. 221. 216.]\n",
      "[  0.  41.  15.   0.   0.   3. 122.  97.  58.  43. 213.  15.   0.   0.\n",
      "   0.   0.   0.   0.   0.   0.   0.   5.   0.   0.   0.   0.   0.  89.\n",
      " 216.   0.  23.]\n",
      "940.0\n",
      "30.322580645161292\n"
     ]
    }
   ],
   "source": [
    "data = np.loadtxt('Seattle2014.csv',delimiter=',', dtype=object, skiprows=1)\n",
    "#print(data[:5])\n",
    "data =data[:,3].astype(dtype=float)\n",
    "sorted_data = np.sort(data)[::-1]\n",
    "print(sorted_data[:10])\n",
    "\n",
    "january = data[:31]\n",
    "print(january)\n",
    "print(np.sum(january))\n",
    "print(np.mean(january))\n",
    "\n",
    "# nbp_masking = np.logical_and(data[:,2] < 120,data[:,3] < 80)\n",
    "# nbp_data = data[nbp_masking]\n",
    "# print(f'정상혈압 남자 수: {sum(nbp_data[:,0]==1)}')\n",
    "\n",
    "\n"
   ]
  },
  {
   "cell_type": "code",
   "execution_count": 190,
   "metadata": {},
   "outputs": [
    {
     "name": "stdout",
     "output_type": "stream",
     "text": [
      "365\n",
      "277\n",
      "[15.  3. 15.  5. 23. 20.  5. 18. 10. 30. 28. 25.  3.  5. 30.  5.  3.  5.\n",
      " 36.  3. 25.  5. 33. 20.  5. 38. 18.  5. 36. 13.  8.  3. 18. 23.  3.  5.\n",
      "  5. 10. 13. 30.  5.  3.  3.  8.  3. 33. 10. 15.  8.  5. 18. 36.  5. 13.\n",
      "  3. 33. 36.  8. 30. 28. 30. 33.]\n",
      "62\n"
     ]
    }
   ],
   "source": [
    "print(len(data))\n",
    "a = data <40 \n",
    "print(len(data[a]))\n",
    "b = data != 0 \n",
    "cdata = np.logical_and(a,b)\n",
    "ddata = data[cdata]\n",
    "print(ddata)\n",
    "print(len(ddata))"
   ]
  },
  {
   "cell_type": "code",
   "execution_count": 208,
   "metadata": {},
   "outputs": [
    {
     "name": "stdout",
     "output_type": "stream",
     "text": [
      "[  0  41  15   0   0   3 122  97  58  43 213  15   0   0   0   0   0   0\n",
      "   0   0   0   5   0   0   0   0   0  89 216   0  23]\n"
     ]
    }
   ],
   "source": [
    "#1월 강수량\n",
    "data = np.loadtxt('Seattle2014.csv',delimiter=',', dtype=object, skiprows=1)\n",
    "\n",
    "prcp = data[ :,[2,3]]\n",
    "prcp_month = np.array([[date[4:6],prcp] for date,prcp in prcp])\n",
    "jan_prcp = prcp_month[prcp_month[:,0] == '01'][:,1].astype(int)\n",
    "print(jan_prcp)"
   ]
  },
  {
   "cell_type": "markdown",
   "metadata": {},
   "source": [
    "# [문제] 영화 평점 분석\n",
    "- 'ratings.dat' 파일 내용 읽기 (데이터 형식: user_id::item_id::rating::timestamp)\n",
    "- 상위 10개 데이터 출력하기\n",
    "- 데이터 정보 확인(크기, 차원)\n",
    "- 전체 데이터 평점 구하기\n",
    "- 사용자 아이디 1인 데이터 출력하기\n",
    "- 사용자 아이디 1인 사람의 평점 평균 구하기\n",
    "- 각 사용자별 평점 구하기 (사용자 ID 수집: ID컬럼에 대한 np.unique() 함수 적용)\n",
    "- 각 사용자별 평균 평점이 4점 이상인 사용자 및 인원수 구하기"
   ]
  },
  {
   "cell_type": "code",
   "execution_count": 41,
   "metadata": {},
   "outputs": [
    {
     "name": "stdout",
     "output_type": "stream",
     "text": [
      "(1000209, 4)\n",
      "3.581564453029317\n",
      "4.188679245283019\n",
      "1 : 4.19점\n",
      "2 : 3.71점\n",
      "3 : 3.90점\n",
      "4 : 4.19점\n",
      "5 : 3.15점\n",
      "6 : 3.90점\n",
      "7 : 4.32점\n",
      "8 : 3.88점\n",
      "9 : 3.74점\n",
      "10 : 4.11점\n",
      "[[1, 4.188679245283019], [2, 3.7131782945736433], [3, 3.9019607843137254], [4, 4.190476190476191], [5, 3.1464646464646466], [6, 3.9014084507042255], [7, 4.32258064516129], [8, 3.884892086330935], [9, 3.7358490566037736], [10, 4.114713216957606]]\n"
     ]
    }
   ],
   "source": [
    "import numpy as np\n",
    "data = np.loadtxt('ratings.dat', delimiter=\":\", dtype=np.int32)\n",
    "# print(data)\n",
    "print(data.shape)\n",
    "print(np.mean(data[:,2]))\n",
    "\n",
    "user1 = data[:,0] ==1\n",
    "print(np.mean(data[user1][:,2]))\n",
    "\n",
    "user_ids = np.unique(data[:,0])\n",
    "# a = data[:,0] == user_ids\n",
    "# print(user_ids)\n",
    "user_avg_ratings = [[id,np.mean(data[data[:,0] == id][:,2])]for id in user_ids]\n",
    "for id,avg_rating in user_avg_ratings[:10]:\n",
    "    print(f'{id} : {avg_rating:.2f}점')\n",
    "# print(np.mean(data[a][:,2]))\n",
    "\n"
   ]
  },
  {
   "cell_type": "code",
   "execution_count": 45,
   "metadata": {},
   "outputs": [
    {
     "name": "stdout",
     "output_type": "stream",
     "text": [
      "평균 평점이 4점 이상인 유저수 : 1,544 명\n"
     ]
    }
   ],
   "source": [
    "user_avg_rating = np.array(user_avg_ratings)\n",
    "user_avg_rating[:10]\n",
    "print(f'평균 평점이 4점 이상인 유저수 : {sum(user_avg_rating[:,1]>= 4):,} 명')"
   ]
  }
 ],
 "metadata": {
  "kernelspec": {
   "display_name": "Python 3",
   "language": "python",
   "name": "python3"
  },
  "language_info": {
   "codemirror_mode": {
    "name": "ipython",
    "version": 3
   },
   "file_extension": ".py",
   "mimetype": "text/x-python",
   "name": "python",
   "nbconvert_exporter": "python",
   "pygments_lexer": "ipython3",
   "version": "3.11.3"
  },
  "toc": {
   "base_numbering": 1,
   "nav_menu": {},
   "number_sections": true,
   "sideBar": true,
   "skip_h1_title": false,
   "title_cell": "Table of Contents",
   "title_sidebar": "Contents",
   "toc_cell": false,
   "toc_position": {
    "height": "calc(100% - 180px)",
    "left": "10px",
    "top": "150px",
    "width": "236px"
   },
   "toc_section_display": true,
   "toc_window_display": false
  }
 },
 "nbformat": 4,
 "nbformat_minor": 4
}
