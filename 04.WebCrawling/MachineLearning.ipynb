{
 "cells": [
  {
   "attachments": {},
   "cell_type": "markdown",
   "metadata": {},
   "source": [
    "# Machine Learning\n"
   ]
  },
  {
   "attachments": {},
   "cell_type": "markdown",
   "metadata": {},
   "source": [
    "- AI -> ML(경험적 데이터로 규칙과 패턴을 찾는 것) -> DL"
   ]
  },
  {
   "attachments": {},
   "cell_type": "markdown",
   "metadata": {},
   "source": [
    "## machine learning 종류\n",
    "- 지도학습 : 표식이 있는자료, 또는 해당이 있는 자료를 대상으로 입력자료 ㅌ로부터 해당자료y의 예측을 학습하는 방법 \n",
    "- **y의 예측이 주 목적**\n",
    "    - 분류함수(y가 범주형 변수인 경우): 스팸필터, 손글씨 인식, 얼굴인식, x-ray 질병유무 판별\n",
    "    - 회귀학습(y가 연속형 변수인 경우): 주식예측, 특정 제품 선호 소비자 연령 예측, 기온 예측\n",
    "\n",
    "- 비지도 학습 : y가 존재하지 않는 자료를 대상으로 자료에 숨겨진 구조를 찾고자 하는 학습방법\n",
    "- **y가 없기 때문에 찾아낸 구조나 패턴이 얼마나 정밀한지에 대한 검증불가**\n",
    "    - 군집학습(x의 유사성을 이용해 몇개의 그룹으로 분류): 고객특성분류, 음향/영상 주제별 분류\n",
    "    - 잠재요인추출(x에서 관측되지 않은 잠재 요인을 추출): 주성분 분석, 선형판별분석, 커널 방법\n",
    "- 강화학습 : 환경이 주어지면 환경에 시스템의 성능을 향상시키는 머신러닝(게임이나 롭소에 주로 사용)\n",
    "- **어떤 행동을 했을 때 받는 보상에 따라 미래의 행동을 바꿔하는방식**"
   ]
  },
  {
   "cell_type": "code",
   "execution_count": null,
   "metadata": {},
   "outputs": [],
   "source": []
  },
  {
   "cell_type": "code",
   "execution_count": null,
   "metadata": {},
   "outputs": [],
   "source": []
  },
  {
   "cell_type": "code",
   "execution_count": null,
   "metadata": {},
   "outputs": [],
   "source": []
  },
  {
   "cell_type": "code",
   "execution_count": null,
   "metadata": {},
   "outputs": [],
   "source": []
  },
  {
   "cell_type": "code",
   "execution_count": null,
   "metadata": {},
   "outputs": [],
   "source": []
  },
  {
   "cell_type": "code",
   "execution_count": null,
   "metadata": {},
   "outputs": [],
   "source": []
  },
  {
   "cell_type": "code",
   "execution_count": null,
   "metadata": {},
   "outputs": [],
   "source": []
  },
  {
   "cell_type": "code",
   "execution_count": null,
   "metadata": {},
   "outputs": [],
   "source": []
  },
  {
   "cell_type": "code",
   "execution_count": null,
   "metadata": {},
   "outputs": [],
   "source": []
  },
  {
   "cell_type": "code",
   "execution_count": null,
   "metadata": {},
   "outputs": [],
   "source": []
  },
  {
   "cell_type": "code",
   "execution_count": null,
   "metadata": {},
   "outputs": [],
   "source": []
  },
  {
   "cell_type": "code",
   "execution_count": null,
   "metadata": {},
   "outputs": [],
   "source": []
  }
 ],
 "metadata": {
  "language_info": {
   "name": "python"
  },
  "orig_nbformat": 4
 },
 "nbformat": 4,
 "nbformat_minor": 2
}
