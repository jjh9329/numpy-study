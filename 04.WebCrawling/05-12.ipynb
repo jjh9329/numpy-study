{
 "cells": [
  {
   "attachments": {},
   "cell_type": "markdown",
   "metadata": {},
   "source": [
    "# prologue\n"
   ]
  },
  {
   "attachments": {},
   "cell_type": "markdown",
   "metadata": {},
   "source": [
    "- Web Scraping 과 Web Crawling\n",
    "    - Web Crawing : 웹 페이지 내에서 허용된 부분을 허용된 부분을 링크를 따라가면서 다가져오는것\n",
    "    - Web Scraping : 웹 페이지 내에서 원하는 정보를 추출하는 기술\n",
    "- 사전 지식\n",
    "    - Web 구성요소 (html + CSS) 및 DOM 구조의 이해\n",
    "    - 파이썬 기본 문법\n",
    "    - Database(Option)\n",
    "- Web Scraping의 방법\n",
    "    - 1. HTML 페이지를 가져와서 HTML/CSS 등을 파싱하고 필요한 데이터만 추출\n",
    "    - 2. Open API(Rest API)를 제공하는 서비스에 Open API를 호출해서 받은 데이터 중 필요한 데이터만 추출\n",
    "    - 3. 브라우저를 프로그래밍으로 조작해서 필요한 데이터만 추출"
   ]
  },
  {
   "attachments": {},
   "cell_type": "markdown",
   "metadata": {},
   "source": [
    "- robots.txt crawling 적법성 여부 확인\n",
    "    - 웹 사이트에 웹 크롤링 봇들의 접근에 제약을 두기 위한 규약\n",
    "    - 검색엔진의 크롤링 봇들은 각 사이트에서 제공하는 텍스트 문서인 robots.txt 파일을 열어본 뒤 수집 여부를 결정.\n",
    "    - User-agent: * (모든사용자)\n",
    "Disallow: / (허락하지 않겠다)\n",
    "Allow : /$ "
   ]
  },
  {
   "attachments": {},
   "cell_type": "markdown",
   "metadata": {},
   "source": [
    "- HTTP 요청 메서드\n",
    "    - get 특정 리소스의 표시를 요청 오직 데이터를 받기만 한다\n",
    "    - post 특정 리소스에 엔티티를 제출 할때 사용 서버의 상태의 변화를 일으킨다\n",
    "    - header = 사용자의 정보\n",
    "    - body = 요청 내용"
   ]
  },
  {
   "attachments": {},
   "cell_type": "markdown",
   "metadata": {},
   "source": [
    "- 특정 사이트 접속\n",
    "    - requests 객체를 import 한 후 get() 함수를 이용해 지정된 사이트에 접속\n",
    "        - url: 접속할 url\n",
    "        - params: 해당 url의 파라미터 문자열 정보 입력(dictionary 객체로 전달)\n",
    "        - **kwargs : 그 외 매개 변수\n",
    "            - verify: False = SSL 인증서를 사용하는 경우\n",
    "            - auth = (\"id\",\"password\"): 인증이 필요한 경우\n",
    "            - headers = { 'Content-Type': 'application/json; charset = utf-8' }\n",
    "            - cookies = { 'sessionKey': 'sessionValue' }\n",
    "            - timeout = 3"
   ]
  },
  {
   "attachments": {},
   "cell_type": "markdown",
   "metadata": {},
   "source": [
    "## 데이터 파싱\n",
    "- request.get(url).text (text형태로 추출)\n",
    "- request.get(url).content (byte 형태로 추출,바이너리 타입 데이터(이미지))"
   ]
  },
  {
   "attachments": {},
   "cell_type": "markdown",
   "metadata": {},
   "source": [
    "## 정규 표현식 (Regular Expression)\n",
    "- 정규표현식은 복잡한 문자열을 처리할 때 사용하는 기법\n",
    "- 일반 파이썬 문법을 이용한 코드\n",
    "- 문자 클래스[]\n",
    "    - [] 안에 포함된 문자들중 하나와 매치여부를 확인\n",
    "    - 정규식 [abc] \n",
    "        - 문자열 a : Yes\n",
    "        - 문자열 before : Yes\n",
    "        - 문자열 dude : No\n",
    "    - 문자 사이에 하이픈('-') 사용시 범위(from-to)를 지정\n",
    "    - 알파벳 포함 여부\n",
    "        - [a-zA-Z]\n",
    "    - 문자 클래스 안에 ^메타 문자가 사용되면 not의 의미를 갖는다 [^0-9]는 숫자가 아닌 문자만 매치된다.\n",
    "    - ^메타 문자가 [] 밖에 사용되면 특정문자로 시작하는지 판단"
   ]
  },
  {
   "attachments": {},
   "cell_type": "markdown",
   "metadata": {},
   "source": [
    "- 자주 사용하는 문자 클래스\n",
    "    - \\d: 숫자와 매치,[0-9]와 동일한 표현식\n",
    "    - \\s: 공백문자(space,tab)와 매치, [\\t\\n\\r\\f\\v]와 동일한 표현식\n",
    "    - \\S: 공백문자가 아닌것과 매치\n",
    "    - \\w: 문자+숫자와 매치, [a-zA-Z0-9]\n",
    "    - \\W: 문자+숫자가 아닌 문자와 매치, [a-zA-Z0-9]\n",
    "- 한글 여부 : [ㄱ-힣]"
   ]
  },
  {
   "attachments": {},
   "cell_type": "markdown",
   "metadata": {},
   "source": [
    "- Dot(.)\n",
    "    - Dot(.) 메타 문자는 줄바꿈 문자인 **\\n을 제외한 모든 문자와 매치**됨을 의미한다.\n",
    "    - [] 사이에.을 사용할 경우 문자 원래의 의미인 마침표가 된다.\n",
    "- 반복(*)\n",
    "    - *은 *바로 앞에 있는 문자가 **0부터 무한대로 반복**될 수 있다는 의미이다.\n",
    "    "
   ]
  },
  {
   "attachments": {},
   "cell_type": "markdown",
   "metadata": {},
   "source": [
    "- 반복(+)\n",
    "    - +는 최소 1번 이상 반복될때 사용한다\n",
    "- 반복 횟수 지정({m,n})\n",
    "    - {} 메타 문자는 **반복 횟수를 지정**할 수 있다. {m,n} 정규식을 사용하면 반복횟수가 m부터 n까지 매치할 수 있다.\n",
    "    m 또는 n을 생략하거나 정수 한개 만 쓸 수도 있다. {m,}이면 반복횟수가 m이상인 경우이고, {n,}이면 반복 횟수가 n이하를 의미한다."
   ]
  },
  {
   "attachments": {},
   "cell_type": "markdown",
   "metadata": {},
   "source": [
    "- ?\n",
    "    - ? 앞에 문자가 하나 있거나 없을 때 매치된다.\n",
    "    - go?d \n",
    "        - gd : Yes\n",
    "        - gpd : Yes\n",
    "        - good : No\n",
    "- $\n",
    "    - $ 앞에 있는 문자로 **끝나면** 매치된다. 여러줄의 문자열인 경우 **마지막 줄만 적용**된다\n",
    "    - a$\n",
    "        - a : Yes\n",
    "        - baa : Yes\n",
    "        - aabb : No\n",
    "- ^\n",
    "    - ^ 다음에 있는 문자로 **시작**하면 매치된다.\n",
    "    - ^a\n",
    "        - aaa : Yes\n",
    "        - abc : Yes\n",
    "        - good : No\n"
   ]
  },
  {
   "attachments": {},
   "cell_type": "markdown",
   "metadata": {},
   "source": [
    "# 데이터의 가공"
   ]
  },
  {
   "attachments": {},
   "cell_type": "markdown",
   "metadata": {},
   "source": [
    "## re 모듈 사용\n",
    "- re 모듈의 compile 함수를 이용하여 정규 표현식을 컴파일 한다.\n",
    "\n",
    "- 정규식을 사용한 문자열 검색\n",
    "    - 컴파일 된 객체를  이용하여\n",
    "        - match() : **문자열의 처음 시작부터 검색**하여 일치하지 않는 부분이 나올때까지 찾는다\n",
    "        - search() : **문자열 전체를 검색**하여 처음으로 매치되는 문자열을 찾는다\n",
    "        - findall() : 정규식과 매치되는 모든 문자열을 찾아 리스트로 반환한다.\n",
    "        - finditer() : 정규식과 매치되는 모든 문자열을 찾아 반복 가능한 객체로 반환한다.\n",
    "    m =re.match('[a-z]+',[python])"
   ]
  },
  {
   "attachments": {},
   "cell_type": "markdown",
   "metadata": {},
   "source": []
  }
 ],
 "metadata": {
  "language_info": {
   "name": "python"
  },
  "orig_nbformat": 4
 },
 "nbformat": 4,
 "nbformat_minor": 2
}
