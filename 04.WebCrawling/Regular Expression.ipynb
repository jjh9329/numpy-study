{
 "cells": [
  {
   "attachments": {},
   "cell_type": "markdown",
   "metadata": {},
   "source": [
    "# 정규식 사용 VS 비사용\n",
    "- 주민등록번호를 포함하고 있는 문자열에서 주민등록번호 뒷자리를 '*' 문자로 변경"
   ]
  },
  {
   "cell_type": "code",
   "execution_count": 2,
   "metadata": {},
   "outputs": [
    {
     "name": "stdout",
     "output_type": "stream",
     "text": [
      "\n",
      "park 800904-*******\n",
      "kim 841130-*******\n",
      "\n"
     ]
    }
   ],
   "source": [
    "data = \"\"\"\n",
    "park 800904-1234567\n",
    "kim 841130-1023451\n",
    "\"\"\"\n",
    "\n",
    "result = []\n",
    "for line in data.split('\\n'):\n",
    "    word_results = []\n",
    "    for word in line.split():\n",
    "        if len(word) == 14 and word[:6].isdigit() and word[7:].isdigit():\n",
    "            word = word[:6] + '-' + '*******'\n",
    "        word_results.append(word)\n",
    "    result.append(' '.join(word_results))\n",
    "print('\\n'.join(result))"
   ]
  },
  {
   "cell_type": "code",
   "execution_count": 6,
   "metadata": {},
   "outputs": [
    {
     "name": "stdout",
     "output_type": "stream",
     "text": [
      "\n",
      "park 800904-*******\n",
      "kim 841130-*******\n",
      "\n"
     ]
    }
   ],
   "source": [
    "import re\n",
    "data = \"\"\"\n",
    "park 800904-1234567\n",
    "kim 841130-1023451\n",
    "\"\"\"\n",
    "pat = re.compile('(\\d{6})[-]\\d{7}') #숫자{6}개 - 숫자{7개}\n",
    "print(pat.sub(r'\\1-*******', data))\n"
   ]
  },
  {
   "cell_type": "code",
   "execution_count": 9,
   "metadata": {},
   "outputs": [
    {
     "name": "stdout",
     "output_type": "stream",
     "text": [
      "010-1111-1111\n",
      "02-555-5555\n"
     ]
    }
   ],
   "source": [
    "phone = ['홍길동:010-1111-1111', '우리집:02-555-5555']    \n",
    "phone_number =re.compile('(\\d{2,3})[-]\\d{3,4}[-]\\d{4}')\n",
    "for p in phone:\n",
    "    m =re.search('\\d{2,3}-\\d{3,4}-\\d{4}',p).group()\n",
    "    print(m)\n",
    "# print(phone_number,phone)"
   ]
  },
  {
   "attachments": {},
   "cell_type": "markdown",
   "metadata": {},
   "source": [
    "## findall()\n",
    "- 정규식과 매치되는 모든 문자열을 찾아 리스트로 반환한다."
   ]
  },
  {
   "cell_type": "code",
   "execution_count": 11,
   "metadata": {},
   "outputs": [
    {
     "name": "stdout",
     "output_type": "stream",
     "text": [
      "['life', 'is', 'too', 'short']\n"
     ]
    }
   ],
   "source": [
    "import re\n",
    "\n",
    "# '+'으로 알파벳 소문자가 1개 이상이면 매치\n",
    "p = re.compile('[a-z]+')\n",
    "result = p.findall('life is too short')\n",
    "print(result)"
   ]
  },
  {
   "attachments": {},
   "cell_type": "markdown",
   "metadata": {},
   "source": [
    "## finditer()\n",
    "- 정규식과 매치되는 모든 문자열을 반복 가능한 객체로 반환한다."
   ]
  },
  {
   "cell_type": "code",
   "execution_count": 13,
   "metadata": {},
   "outputs": [
    {
     "name": "stdout",
     "output_type": "stream",
     "text": [
      "<re.Match object; span=(0, 4), match='life'>\n",
      "<re.Match object; span=(5, 7), match='is'>\n",
      "<re.Match object; span=(8, 11), match='too'>\n",
      "<re.Match object; span=(12, 17), match='short'>\n"
     ]
    }
   ],
   "source": [
    "result = p.finditer('life is too short')\n",
    "for m in result:\n",
    "    print(m)"
   ]
  },
  {
   "attachments": {},
   "cell_type": "markdown",
   "metadata": {},
   "source": [
    "- group : 매치된 문자열 반환\n",
    "- start() : 매치된 문자열의 시작 위치를 반환\n",
    "- end(): 매치된 문자열의 끝 위치\n",
    "- span() : 매치된 문자열의 시작과 끝을 인덱스로 반환"
   ]
  },
  {
   "attachments": {},
   "cell_type": "markdown",
   "metadata": {},
   "source": [
    "# Match 객체 함수"
   ]
  },
  {
   "cell_type": "code",
   "execution_count": 14,
   "metadata": {},
   "outputs": [
    {
     "name": "stdout",
     "output_type": "stream",
     "text": [
      "python\n",
      "0\n",
      "6\n",
      "(0, 6)\n"
     ]
    }
   ],
   "source": [
    "import re\n",
    "p = re.compile('[a-z]+')\n",
    "m = p.search('python')\n",
    "\n",
    "print(m.group())\n",
    "print(m.start())\n",
    "print(m.end())\n",
    "print(m.span())\n"
   ]
  },
  {
   "attachments": {},
   "cell_type": "markdown",
   "metadata": {},
   "source": [
    "## DOTALL\n",
    "- dot(.) 메타문자가 줄바꿈 문자( \\n)을 포함한 모든 문자와 매치된다.\n"
   ]
  },
  {
   "cell_type": "code",
   "execution_count": 4,
   "metadata": {},
   "outputs": [
    {
     "name": "stdout",
     "output_type": "stream",
     "text": [
      "None\n",
      "<re.Match object; span=(0, 3), match='a\\nb'>\n"
     ]
    }
   ],
   "source": [
    "import re\n",
    "\n",
    "m = re.match('a.b','a\\nb')\n",
    "print(m)\n",
    "\n",
    "p = re.compile('a.b',re.DOTALL)\n",
    "m = p.match('a\\nb')\n",
    "print(m)"
   ]
  },
  {
   "cell_type": "code",
   "execution_count": 6,
   "metadata": {},
   "outputs": [
    {
     "name": "stdout",
     "output_type": "stream",
     "text": [
      "<re.Match object; span=(0, 12), match='hello\\npython'>\n"
     ]
    }
   ],
   "source": [
    "s = '''hello\n",
    "python'''\n",
    "\n",
    "p = re.compile('hello.python', re.DOTALL)\n",
    "m = p.match(s)\n",
    "print(m)"
   ]
  },
  {
   "attachments": {},
   "cell_type": "markdown",
   "metadata": {},
   "source": [
    "## IGNORECASE\n",
    "- 대소문자에 관계 없이 매치한다"
   ]
  },
  {
   "cell_type": "code",
   "execution_count": 11,
   "metadata": {},
   "outputs": [
    {
     "name": "stdout",
     "output_type": "stream",
     "text": [
      "<re.Match object; span=(0, 6), match='python'>\n",
      "<re.Match object; span=(0, 6), match='Python'>\n",
      "<re.Match object; span=(0, 6), match='PYTHON'>\n"
     ]
    }
   ],
   "source": [
    "p = re.compile('[a-z]+', re.IGNORECASE)\n",
    "m = p.match('python')\n",
    "print(m)\n",
    "\n",
    "m = p.match('Python')\n",
    "print(m)\n",
    "\n",
    "m = p.match('PYTHON')\n",
    "print(m)"
   ]
  },
  {
   "attachments": {},
   "cell_type": "markdown",
   "metadata": {},
   "source": [
    "## MULTILINE\n",
    "- 여러 줄의 문자열에 대해 ^(~로 시작 하는지),$(~로 끝나는지) 메타문자를 적용할 수 있다.\n"
   ]
  },
  {
   "cell_type": "code",
   "execution_count": 16,
   "metadata": {},
   "outputs": [
    {
     "name": "stdout",
     "output_type": "stream",
     "text": [
      "['python one', 'python two', 'python three']\n"
     ]
    }
   ],
   "source": [
    "# p = re.compile('^python\\s\\w+') # python으로 시작 공백이 하나 최소 1이상 반복\n",
    "# p = re.compile('python\\s\\w+')\n",
    "p = re.compile('^python\\s\\w+',re.MULTILINE) #문자열의 각 줄마다 ^,$ 메타문자를 적용한다\n",
    "text = '''python one\n",
    "life is too short\n",
    "python two\n",
    "you need python\n",
    "python three'''\n",
    "\n",
    "m = p.findall(text)\n",
    "print(m)"
   ]
  },
  {
   "attachments": {},
   "cell_type": "markdown",
   "metadata": {},
   "source": [
    "## VERBOSE\n",
    "- VERBOSE 패턴 문자열에 사용된 공백은 컴파일시 제거된다.\n",
    "- 패턴 문자열에 주석을 넣을 수 있다."
   ]
  },
  {
   "cell_type": "code",
   "execution_count": 18,
   "metadata": {},
   "outputs": [
    {
     "name": "stdout",
     "output_type": "stream",
     "text": [
      "re.compile('\\n$[#]            # start of a numeric entity reference\\n(\\n    0[0-7]+     # Octal form\\n    |[0-9]+     # Decimal form\\n)\\n', re.VERBOSE)\n"
     ]
    }
   ],
   "source": [
    "p = re.compile(r'''\n",
    "$[#]            # start of a numeric entity reference\n",
    "(\n",
    "    0[0-7]+     # Octal form\n",
    "    |[0-9]+     # Decimal form\n",
    ")\n",
    "''',re.VERBOSE)\n",
    "print(p)"
   ]
  },
  {
   "attachments": {},
   "cell_type": "markdown",
   "metadata": {},
   "source": [
    "# 백슬레시\n"
   ]
  },
  {
   "cell_type": "code",
   "execution_count": 24,
   "metadata": {},
   "outputs": [
    {
     "name": "stdout",
     "output_type": "stream",
     "text": [
      "None\n",
      "<re.Match object; span=(8, 16), match='\\\\section'>\n"
     ]
    }
   ],
   "source": [
    "import re\n",
    "# '\\section' 으로 해석된 문자열이 전달되어[\\t\\n\\r\\f\\v]ection 과 같은 의미로 해석\n",
    "p = re.compile('\\\\section')\n",
    "# \\section -> ection으로 수정하면 검색 됨\n",
    "m = p.search('What is \\section and example?')\n",
    "print(m)\n",
    "\n",
    "p = re.compile(r'\\\\section')\n",
    "# \\section -> ection으로 수정하면 검색 됨\n",
    "m = p.search('What is \\section and example?')\n",
    "print(m)"
   ]
  },
  {
   "attachments": {},
   "cell_type": "markdown",
   "metadata": {},
   "source": [
    "# 메타문자"
   ]
  },
  {
   "attachments": {},
   "cell_type": "markdown",
   "metadata": {},
   "source": [
    "- \\A 는 줄과 상관 없이 문자열의 처음 하고만 일치된다.\n",
    "- \\Z 줄과 상관없이 전체 문자열의 끝가 일치\n",
    "- \\b 단어 앞뒤가 공백으로 구분된 단어와 일치함을 의미 \\b 백스페이스를 의미하므로 단어 구분자로 사용되기 위해서는 r을 반드시 붙여줘야 한다.\n",
    "- \\B 반대로 단어 앞뒤가 공백으로 구분된 단어가 아님을 의미한다."
   ]
  },
  {
   "attachments": {},
   "cell_type": "markdown",
   "metadata": {},
   "source": [
    "## |\n",
    "- or의 의미"
   ]
  },
  {
   "cell_type": "code",
   "execution_count": 26,
   "metadata": {},
   "outputs": [
    {
     "name": "stdout",
     "output_type": "stream",
     "text": [
      "<re.Match object; span=(0, 5), match='Servo'>\n"
     ]
    }
   ],
   "source": [
    "import re\n",
    "\n",
    "p = re.compile('Crow|Servo')\n",
    "m = p.match('ServoHello')\n",
    "print(m)"
   ]
  },
  {
   "attachments": {},
   "cell_type": "markdown",
   "metadata": {},
   "source": [
    "## ^\n",
    "- ^ 다음에 나오는 문자열로 시작하는지 판단"
   ]
  },
  {
   "cell_type": "code",
   "execution_count": 27,
   "metadata": {},
   "outputs": [
    {
     "name": "stdout",
     "output_type": "stream",
     "text": [
      "<re.Match object; span=(0, 4), match='Life'>\n",
      "None\n"
     ]
    }
   ],
   "source": [
    "print(re.search('^Life', 'Life is too short'))\n",
    "print(re.search('^Life','My Life'))"
   ]
  },
  {
   "attachments": {},
   "cell_type": "markdown",
   "metadata": {},
   "source": [
    "## $\n",
    "- 문자열의 끝과 일치하는지 판단"
   ]
  },
  {
   "cell_type": "code",
   "execution_count": 28,
   "metadata": {},
   "outputs": [
    {
     "name": "stdout",
     "output_type": "stream",
     "text": [
      "<re.Match object; span=(12, 17), match='short'>\n",
      "None\n"
     ]
    }
   ],
   "source": [
    "print(re.search('short$','Life is too short'))\n",
    "print(re.search('short$','Life is too short, you need python'))"
   ]
  },
  {
   "attachments": {},
   "cell_type": "markdown",
   "metadata": {},
   "source": [
    "# \\A\n",
    "- 문자열의 처음과 일치함을 의미\n",
    "- MULTILINE 옵션 안먹힘\n",
    "- MULTILINE 옵션 안쓴 ^ 와 동일"
   ]
  },
  {
   "cell_type": "code",
   "execution_count": 29,
   "metadata": {},
   "outputs": [
    {
     "name": "stdout",
     "output_type": "stream",
     "text": [
      "['python one']\n"
     ]
    }
   ],
   "source": [
    "p = re.compile('\\Apython\\s\\w+', re.MULTILINE)\n",
    "text = '''python one\n",
    "life is too short\n",
    "python two\n",
    "you need python\n",
    "python three'''\n",
    "\n",
    "m= p.findall(text)\n",
    "print(m)\n"
   ]
  },
  {
   "attachments": {},
   "cell_type": "markdown",
   "metadata": {},
   "source": [
    "## \\b\n",
    "- 단어 앞뒤가 공백으로 구분되어 있는지 검사\n",
    "- 매치 결과로 공백을 포함하지 않는다.\n",
    "- \\s는 공백을 포함하고 있는지를 검사. 즉, 공백도 일치하는 문자열로 검색결과에 포함\n",
    "- Raw String 문자 r을 붙여줘야 한다."
   ]
  },
  {
   "cell_type": "code",
   "execution_count": 35,
   "metadata": {},
   "outputs": [
    {
     "name": "stdout",
     "output_type": "stream",
     "text": [
      "<re.Match object; span=(2, 9), match=' class '>\n",
      "None\n",
      "None\n"
     ]
    }
   ],
   "source": [
    "# p = re.compile(r'\\bclass\\b)\n",
    "p = re.compile(r'\\sclass\\s') # 공백을 포함한 매치 결과를 반환\n",
    "# 공백을 포함하지 않고 매치 결과를 반환\n",
    "print(p.search('no class at all'))\n",
    "print(p.search('the declassfield algorithm'))\n",
    "print(p.search('one subclass is'))"
   ]
  },
  {
   "attachments": {},
   "cell_type": "markdown",
   "metadata": {},
   "source": [
    "# \\B\n",
    "- 단어 앞뒤가 공백으로 구분된 단어가 아닌경우 일치"
   ]
  },
  {
   "cell_type": "code",
   "execution_count": 37,
   "metadata": {},
   "outputs": [
    {
     "name": "stdout",
     "output_type": "stream",
     "text": [
      "None\n",
      "<re.Match object; span=(6, 11), match='class'>\n",
      "None\n"
     ]
    }
   ],
   "source": [
    "p = re.compile(r'\\Bclass\\B') \n",
    "print(p.search('no class at all'))\n",
    "print(p.search('the declassfield algorithm'))\n",
    "print(p.search('one subclass is'))"
   ]
  },
  {
   "attachments": {},
   "cell_type": "markdown",
   "metadata": {},
   "source": [
    "## \\\n",
    "- 정규 표현식에서 사용하는 메타 문자를 문자 그대로 표현하려면 앞에\\를 붙임"
   ]
  },
  {
   "cell_type": "code",
   "execution_count": 39,
   "metadata": {},
   "outputs": [
    {
     "name": "stdout",
     "output_type": "stream",
     "text": [
      "<re.Match object; span=(4, 10), match='안녕하세요?'>\n"
     ]
    }
   ],
   "source": [
    "m = re.search('안녕하세요\\?', '여러분 안녕하세요?')\n",
    "print(m)\n"
   ]
  },
  {
   "attachments": {},
   "cell_type": "markdown",
   "metadata": {},
   "source": [
    "## 그룹핑\n",
    "- () 메타 문자는 그룹을 만든다.\n",
    "- 그룹을 만들면 group() 함수를 사용하여 그룹핑된 부분의 문자열만 뽑아낼수있다\n",
    "    - group(0) : 일치된 전체 문자열, group()와 동일\n",
    "    - group(1) : 첫 번째 그룹에 해당하는 문자열\n",
    "    - group(n) : n 번째 그룹에 해당하는 문자열\n",
    "- '₩번호' 를 이용하면 번호에 해당하는 그룹을 재참조 한다. 표현식은 Raw String 으로 선언해야 한다.\n",
    "  - 그룹핑에 이름 붙이기\n",
    "    - (?P<그룹 이름>)"
   ]
  },
  {
   "cell_type": "code",
   "execution_count": 46,
   "metadata": {},
   "outputs": [
    {
     "name": "stdout",
     "output_type": "stream",
     "text": [
      "<re.Match object; span=(0, 9), match='ABCABCABC'>\n",
      "ABCABCABC\n",
      "ABC\n"
     ]
    }
   ],
   "source": [
    "p = re.compile('(ABC)+')\n",
    "m = p.search('ABCABCABC OK?')\n",
    "print(m)\n",
    "print(m.group()) # m.group(0) 과 동일. 일치된 전체 문자열 반환\n",
    "print(m.group(1))"
   ]
  },
  {
   "cell_type": "code",
   "execution_count": 50,
   "metadata": {},
   "outputs": [
    {
     "name": "stdout",
     "output_type": "stream",
     "text": [
      "park 010-1234-1234\n",
      "park\n",
      "010-1234-1234\n"
     ]
    }
   ],
   "source": [
    "p = re.compile('(\\w+)\\s+(\\d+[-]\\d+[-]\\d+)')\n",
    "m = p.search('park 010-1234-1234')\n",
    "print(m.group(0))\n",
    "print(m.group(1))\n",
    "print(m.group(2))"
   ]
  },
  {
   "attachments": {},
   "cell_type": "markdown",
   "metadata": {},
   "source": [
    "- 그룹이 중첩되어 있는 경우는 바깥쪽부터 시작하여 안쪽으로 들어갈수록 인덱스가 증가한다."
   ]
  },
  {
   "cell_type": "code",
   "execution_count": 55,
   "metadata": {},
   "outputs": [
    {
     "name": "stdout",
     "output_type": "stream",
     "text": [
      "010\n"
     ]
    }
   ],
   "source": [
    "p = re.compile('(\\w+)\\s+((\\d+)[-]\\d+[-]\\d+)')\n",
    "m = p.search('park 010-1234-1234')\n",
    "print(m.group(3))"
   ]
  },
  {
   "attachments": {},
   "cell_type": "markdown",
   "metadata": {},
   "source": [
    "- \\번호를 이용한 그룹 재참조\n",
    "- Raw String으로 표현해야 된다."
   ]
  },
  {
   "cell_type": "code",
   "execution_count": 59,
   "metadata": {},
   "outputs": [
    {
     "data": {
      "text/plain": [
       "<re.Match object; span=(0, 4), match='abab'>"
      ]
     },
     "execution_count": 59,
     "metadata": {},
     "output_type": "execute_result"
    }
   ],
   "source": [
    "re.match(r'(a)(b)\\1\\2','abab')"
   ]
  },
  {
   "cell_type": "code",
   "execution_count": 60,
   "metadata": {},
   "outputs": [
    {
     "data": {
      "text/plain": [
       "'the the'"
      ]
     },
     "execution_count": 60,
     "metadata": {},
     "output_type": "execute_result"
    }
   ],
   "source": [
    "p = re.compile(r'(\\b\\w+)\\s+\\1')\n",
    "p.search('Paris is the the spring').group()"
   ]
  },
  {
   "attachments": {},
   "cell_type": "markdown",
   "metadata": {},
   "source": [
    "- 그룹에 이름 붙이기\n",
    "- (?P<그룹 이름>)"
   ]
  },
  {
   "cell_type": "code",
   "execution_count": 61,
   "metadata": {},
   "outputs": [
    {
     "name": "stdout",
     "output_type": "stream",
     "text": [
      "park\n"
     ]
    }
   ],
   "source": [
    "p = re.compile('(?P<name>\\w+)\\s+((\\d+)[-]\\d+[-]\\d+)')\n",
    "m = p.search('park 010-1234-1234')\n",
    "print(m.group('name'))"
   ]
  },
  {
   "attachments": {},
   "cell_type": "markdown",
   "metadata": {},
   "source": [
    "## 전방 탐색\n",
    "- 표현식1(?=표현식2) : 긍정 전방 탐색 : 표현식1 뒤의 문자열이 표현식2와 매치되면 표현식1 매치.(표현식2의 문자열은 결과로 반환되지않음)\n",
    "- 표현식1(?!표현식2) : 부정 전방 탐색 : 표현식1 뒤의 문자열이 표현식2와 매치되지 않으면 표현식1 매치.(표현식2의 문자열은 결과로 반환되지않음)\n"
   ]
  },
  {
   "attachments": {},
   "cell_type": "markdown",
   "metadata": {},
   "source": [
    "## 후방 탐색\n",
    "- 텍스트를 반환하기 전에 뒤쪽을 탐색하는 것\n",
    "- (?<=표현식2) 표현식1 : 긍정 후방 탐색 : 표현식1 앞의 문자열이 표현식2와 매치되면 표현식1 매치.(표현식2의 문자열은 결과로 반환되지않음)\n",
    "- (?<!표현식2) 표현식1 : 부정 후방 탐색 : 표현식1 앞의 문자열이 표현식2와 매치되지 않으면 표현식1 매치.(표현식2의 문자열은 결과로 반환되지않음)"
   ]
  },
  {
   "cell_type": "code",
   "execution_count": 67,
   "metadata": {},
   "outputs": [
    {
     "name": "stdout",
     "output_type": "stream",
     "text": [
      "http\n"
     ]
    }
   ],
   "source": [
    "#URL 에서 프로토콜 이름만 검색\n",
    "p = re.compile('.+(?=:)')\n",
    "m = p.search('http://www.naver.com')\n",
    "print(m.group())"
   ]
  },
  {
   "cell_type": "code",
   "execution_count": 72,
   "metadata": {},
   "outputs": [
    {
     "name": "stdout",
     "output_type": "stream",
     "text": [
      "python.exe\n",
      "sysinfo.cf\n"
     ]
    }
   ],
   "source": [
    "# 파일 이름 확장자 중 bat 파일만 제외하고 추출하기\n",
    "filenames = ['autoexe.bat','python.exe','sysinfo.cf']\n",
    "p = re.compile('.+[.](?!bat).+') # 뒤에 .+ -> 확장자까지 일치 문자열로 찾기 위해서\n",
    "for filename in filenames:\n",
    "    m = p.search(filename)\n",
    "    if m :\n",
    "        print(m.group())"
   ]
  },
  {
   "cell_type": "code",
   "execution_count": 75,
   "metadata": {},
   "outputs": [
    {
     "name": "stdout",
     "output_type": "stream",
     "text": [
      "23.45\n"
     ]
    }
   ],
   "source": [
    "p = re.compile('(?<=\\$)\\d+[.]\\d+')\n",
    "m = p.search('ABC01: $23.45')\n",
    "print(m.group(0))"
   ]
  },
  {
   "attachments": {},
   "cell_type": "markdown",
   "metadata": {},
   "source": [
    "# 문자열 바꾸기"
   ]
  },
  {
   "cell_type": "code",
   "execution_count": 80,
   "metadata": {},
   "outputs": [
    {
     "data": {
      "text/plain": [
       "'color socks and color socks'"
      ]
     },
     "execution_count": 80,
     "metadata": {},
     "output_type": "execute_result"
    }
   ],
   "source": [
    "p = re.compile('blue|white|red')\n",
    "p.sub('color','blue socks and red socks')"
   ]
  },
  {
   "attachments": {},
   "cell_type": "markdown",
   "metadata": {},
   "source": [
    "# 정규표현식 실습"
   ]
  },
  {
   "attachments": {},
   "cell_type": "markdown",
   "metadata": {},
   "source": [
    "## 한글 찾기/ 한글 제거"
   ]
  },
  {
   "cell_type": "code",
   "execution_count": 95,
   "metadata": {},
   "outputs": [
    {
     "name": "stdout",
     "output_type": "stream",
     "text": [
      "['good', 'morning']\n"
     ]
    }
   ],
   "source": [
    "s = '한글이에요. good morning. 안녕하세요'\n",
    "m = re.findall('[^\\.\\sㄱ-힣]+', s) # 한글만 제거\n",
    "# m = re.findall('[ㄱ-힣]+', s) # 한글만 찾기\n",
    "print(m)"
   ]
  },
  {
   "attachments": {},
   "cell_type": "markdown",
   "metadata": {},
   "source": [
    "## 대문자로 시작하는 단어 찾기"
   ]
  },
  {
   "cell_type": "code",
   "execution_count": 107,
   "metadata": {},
   "outputs": [
    {
     "name": "stdout",
     "output_type": "stream",
     "text": [
      "['Edit', 'Expression', 'Text', 'Roll', 'Java', 'Script', 'Reg', 'Ex', 'Validate', 'Tests']\n"
     ]
    }
   ],
   "source": [
    "text = '''Edit the Expression & Text to see matches. Roll over matches or the expression for details.\n",
    "PCRE & JavaScript flavors of RegEx are supported. Validate your expression with Tests mode.'''\n",
    "\n",
    "m = re.findall('[A-Z][a-z]',text)\n",
    "print(m)"
   ]
  },
  {
   "attachments": {},
   "cell_type": "markdown",
   "metadata": {},
   "source": [
    "## 문장 안에 이메일 주소 추출하기"
   ]
  },
  {
   "cell_type": "code",
   "execution_count": 123,
   "metadata": {},
   "outputs": [
    {
     "name": "stdout",
     "output_type": "stream",
     "text": [
      "['john.d@yahoo.com', 'ryan.arjun@gmail.com', 'rosy.gray@amazon.co.uk']\n"
     ]
    }
   ],
   "source": [
    "text = '''Ryan has sent an invoice email to john.d@yahoo.com by using his email id ryan.arjun@gmail.com and\n",
    " he also shared a copy to his boss rosy.gray@amazon.co.uk on the cc part.'''\n",
    "\n",
    "m = re.findall('[a-zA-Z]\\w*[.]?\\w*@[a-zA-Z]\\w*[.]\\w*[.]?\\w*', text)\n",
    "print(m)"
   ]
  },
  {
   "attachments": {},
   "cell_type": "markdown",
   "metadata": {},
   "source": [
    "## 입력 받은 주민번호의 유효성 검증"
   ]
  },
  {
   "cell_type": "code",
   "execution_count": 1,
   "metadata": {},
   "outputs": [
    {
     "name": "stdout",
     "output_type": "stream",
     "text": [
      "980911-1559216\n",
      "유요한 주민번호 형식입니다\n"
     ]
    }
   ],
   "source": [
    "import re\n",
    "j = input('입력')\n",
    "print(j)\n",
    "# p = re.compile('\\d{2}[0-1]\\d{1}[0-3]\\d{1}-[1-4]\\d{6}')\n",
    "p = re.compile('\\d{2}(0[1-9]|1[0-2](0[1-9]|1[0-9]|2[0-9]|3[0-1])-[1-4]\\d{6})')\n",
    "# (0[1-9]1[0-2]) : 월의 앞자리가 0일때 뒷자리가 1~9까지 ㅇ또는 | 앞자리가 1일때 뒷자리는 0~2까지 허용\n",
    "m = p.match(j)\n",
    "if m:\n",
    "    print('유요한 주민번호 형식입니다')\n",
    "else:\n",
    "    print('잘못된 입력입니다')\n",
    "\n",
    "\n"
   ]
  },
  {
   "attachments": {},
   "cell_type": "markdown",
   "metadata": {},
   "source": [
    "selenium 모듈 정의\n",
    "- 웹 어플리케이션 테스트를 위한 프레임워크\n",
    "- 다양한 언어에서 지원하며 사용자가아닌 프로글매 이 웹브라우저를 제어할수 있도록 지원\n",
    "- 브라우저마다 클라이엉ㄴ트 프로그램 이 별도로 필요\n",
    "- 크롤링 보다는 웹을 제어하는 목적이 더 큼"
   ]
  },
  {
   "cell_type": "code",
   "execution_count": null,
   "metadata": {},
   "outputs": [],
   "source": []
  }
 ],
 "metadata": {
  "kernelspec": {
   "display_name": "Python 3",
   "language": "python",
   "name": "python3"
  },
  "language_info": {
   "codemirror_mode": {
    "name": "ipython",
    "version": 3
   },
   "file_extension": ".py",
   "mimetype": "text/x-python",
   "name": "python",
   "nbconvert_exporter": "python",
   "pygments_lexer": "ipython3",
   "version": "3.11.3"
  },
  "orig_nbformat": 4
 },
 "nbformat": 4,
 "nbformat_minor": 2
}
