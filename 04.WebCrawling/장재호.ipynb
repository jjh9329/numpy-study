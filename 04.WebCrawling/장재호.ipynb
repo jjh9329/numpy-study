{
 "cells": [
  {
   "attachments": {},
   "cell_type": "markdown",
   "metadata": {},
   "source": [
    "# 웹 스크래핑\n",
    "네이버 날씨 정보 스크래핑 하기 (25점)\n",
    "- 다음 URL을 이용하여 네이버 날씨 정보를 스크래핑 한 후 제시된 UI 형태의 어플리케이션을 작성하시오.\n",
    "- URL : https://search.naver.com/search.naver?query=날씨\n",
    "- 어플리케이션은 텍스트 기반의 메뉴로 구성되어 있으며 종료 메뉴를 선택하기 전까지 반복 수행된다.\n",
    "- 접속 시간은 datetime 패키지를 이용한다."
   ]
  },
  {
   "cell_type": "code",
   "execution_count": 168,
   "metadata": {},
   "outputs": [
    {
     "name": "stdout",
     "output_type": "stream",
     "text": [
      "좋음\n",
      "========================\n",
      "날씩 확인 프로그램\n",
      "========================\n",
      "접속 시가: 2023.5.17.11.56.45\n",
      "접속 위치: 광산구 우산동\n",
      "------------------------\n",
      "1. 현재 날씨 및 온도 확인\n",
      "2. 최저/최고 온도 확인\n",
      "3. 미세먼지 확인\n",
      "0. 종료\n",
      "------------------------------\n",
      "번호를 입력하세요.\n",
      "========================\n",
      "날씩 확인 프로그램\n",
      "========================\n",
      "접속 시가: 2023.5.17.11.56.45\n",
      "접속 위치: 광산구 우산동\n",
      "------------------------\n",
      "1. 현재 날씨 및 온도 확인\n",
      "2. 최저/최고 온도 확인\n",
      "3. 미세먼지 확인\n",
      "0. 종료\n",
      "------------------------------\n",
      "번호를 입력하세요.\n"
     ]
    }
   ],
   "source": [
    "from selenium import webdriver\n",
    "from selenium.webdriver.chrome.service import Service\n",
    "from webdriver_manager.chrome import ChromeDriverManager\n",
    "from selenium.webdriver.common.by import By\n",
    "from selenium.webdriver.common.keys import Keys\n",
    "\n",
    "import requests \n",
    "from bs4 import BeautifulSoup\n",
    "import time\n",
    "# driver = webdriver.Chrome(service=Service(ChromeDriverManager().install()),options = webdriver.ChromeOptions())\n",
    "# driver.get('https://www.google.com')\n",
    "URL = \"https://search.naver.com/search.naver?query=날씨\"\n",
    "header = {'user-agent':'Mozilla/5.0 (Windows NT 10.0; Win64; x64) AppleWebKit/537.36 (KHTML, like Gecko) Chrome/112.0.0.0 Safari/537.36'}\n",
    "res = requests.get(URL,headers = header)\n",
    "soup = BeautifulSoup(res.text, 'html.parser')\n",
    "ts = time.localtime()\n",
    "now = f'{ts.tm_year}.{ts.tm_mon}.{ts.tm_mday}.{ts.tm_hour}.{ts.tm_min}.{ts.tm_sec}'\n",
    "address = soup.find('h2',attrs ={'class':'title'})\n",
    "weather = soup.find('span',attrs ={'class':'weather before_slash'})\n",
    "temperature = soup.find('div',attrs ={'class':'temperature_text'})\n",
    "dust = soup.find_all('span',attrs ={'class':'txt'})\n",
    "\n",
    "while True:\n",
    "    print('========================')\n",
    "    print('날씩 확인 프로그램')\n",
    "    print('========================')\n",
    "    print('접속 시가:', now)\n",
    "    print('접속 위치:', address.text)\n",
    "    print('------------------------')\n",
    "    print(\"\"\"1. 현재 날씨 및 온도 확인\n",
    "2. 최저/최고 온도 확인\n",
    "3. 미세먼지 확인\n",
    "0. 종료\n",
    "------------------------------\"\"\")\n",
    "    print(\"번호를 입력하세요.\")\n",
    "    b =input(\"입력\")\n",
    "    if b == \"1\" :\n",
    "        print(\"========================\")\n",
    "        print(\"현재 날씨 확인\")\n",
    "        print(\"========================\")\n",
    "        print(weather.text,\"/\",temperature.text)\n",
    "    if b == \"2\" :\n",
    "        print(\"========================\")\n",
    "        print(\"최저/최고 기온 확인\")\n",
    "        print(\"========================\")\n",
    "        print(\"\")\n",
    "    if b == \"3\" :\n",
    "        print(\"========================\")\n",
    "        print(\"미세먼지 확인\")\n",
    "        print(\"========================\")\n",
    "        print(dust[1].text)\n",
    "    if b == \"0\" :\n",
    "        break\n",
    "    else :\n",
    "        continue\n"
   ]
  },
  {
   "attachments": {},
   "cell_type": "markdown",
   "metadata": {},
   "source": [
    "# yes24 사이트에서 파이썬 도서 검색하기\n",
    "- yes24 사이트에서 파이썬 도서 검색 후 평점 9.6 이상인 도서 제목과 가격, 평점 가져오기\n",
    "- 사이트 접속 및 ‘파이썬’도서 검색은 Selenium을 이용한다.\n",
    "- 검색 결과 페이지에서 평점 9.6 이상의 도서 정보 추출은 BeautifulSoup을 이용한다."
   ]
  },
  {
   "cell_type": "code",
   "execution_count": 128,
   "metadata": {},
   "outputs": [
    {
     "name": "stdout",
     "output_type": "stream",
     "text": [
      "상태코드: 200\n"
     ]
    }
   ],
   "source": [
    "from selenium import webdriver\n",
    "from selenium.webdriver.chrome.service import Service\n",
    "from webdriver_manager.chrome import ChromeDriverManager\n",
    "from selenium.webdriver.common.by import By\n",
    "from selenium.webdriver.common.keys import Keys\n",
    "import time\n",
    "\n",
    "import requests \n",
    "from bs4 import BeautifulSoup\n",
    "\n",
    "# 웹드라이버 동적 다운로드 방식으로 실행\n",
    "driver = webdriver.Chrome(service=Service(ChromeDriverManager().install()),options = webdriver.ChromeOptions())\n",
    "driver.get(\"http://www.yes24.com/main/default.aspx\")\n",
    "params = {'q':'python'}\n",
    "\n",
    "header = {'Mozilla/5.0 (Windows NT 10.0; Win64; x64) AppleWebKit/537.36 (KHTML, like Gecko) Chrome/113.0.0.0 Safari/537.36'}\n",
    "\n",
    "\n",
    "response = requests.get(\"http://www.yes24.com/main/default.aspx\", params=params)#, headers=header)\n",
    "response.raise_for_status() # 응답코드가 200이 아니면 오류를 내고 멈춤\n",
    "\n",
    "print('상태코드:', response.status_code)\n",
    "\n",
    "element = driver.find_element(by=By.CLASS_NAME, value = 'iptTxt')\n",
    "element.send_keys('파이썬')\n",
    "element.submit()\n",
    "element = driver.find_element(By.CSS_SELECTOR,'#goodsListWrap > div.sGoodsSecArea > div > span.baseFilter > a:nth-child(6)')\n",
    "# element = driver.find_element(by=By.CLASS_NAME, value = 'sort_gb ')\n",
    "element.click()\n",
    "\n",
    "soup = BeautifulSoup(response.text, 'html.parser')\n",
    "\n",
    "\n",
    "#rating_list = soup.find_all('em',attrs ={'class':'yes_b'})\n",
    "rating_list = soup.find_all('span',attrs ={'class':'rating_grade'})\n",
    "for rating in rating_list:\n",
    "    book_rating = rating.find('em').text\n",
    "    print(book_rating)"
   ]
  },
  {
   "attachments": {},
   "cell_type": "markdown",
   "metadata": {},
   "source": [
    "# 멜론 사이트 최신곡 검색\n",
    "- 다음 URL을 이용하여 멜론 사이트에서 국내 최신곡 10위까지의 정보(노래제목, 가수, 앨범)를 판다스의 데이터프레임으로 출력하시오.\n",
    "- URL : https://www.melon.com/new/index.htm"
   ]
  },
  {
   "cell_type": "code",
   "execution_count": 95,
   "metadata": {},
   "outputs": [
    {
     "name": "stdout",
     "output_type": "stream",
     "text": [
      "['Crazy Like That', '우리 사랑 이대로 (여름날 우리 X 규현 (KYUHYUN), 정은지)', '그대가 나에게 그러하듯', 'COCO CHERRY CAKE', 'I wanna be free', 'Serenade', 'Salad Days', '밤하늘', 'Upside Down', 'Blessin']\n",
      "['VERIVERY', '규현 (KYUHYUN)', '하현상', '퀸 와사비 (Queen WA$ABII)', '레인보우 노트 (Rainbow note)', '트웰브 (twlv)', '이소 (iiso)', 'XODIAC', '9001 (Ninety O One)', 'NSW yoon']\n",
      "['Liminality - EP.DREAM', '우리 사랑 이대로 (여름날 우리 X 규현 (KYUHYUN), 정은지)', '어쩌다 마주친, 그대 OST Part. 3', 'COCO CHERRY CAKE', 'I wanna be free', 'Serenade', 'Salad Days', '밤하늘', 'Upside Down', 'Blessin']\n"
     ]
    },
    {
     "data": {
      "text/html": [
       "<div>\n",
       "<style scoped>\n",
       "    .dataframe tbody tr th:only-of-type {\n",
       "        vertical-align: middle;\n",
       "    }\n",
       "\n",
       "    .dataframe tbody tr th {\n",
       "        vertical-align: top;\n",
       "    }\n",
       "\n",
       "    .dataframe thead th {\n",
       "        text-align: right;\n",
       "    }\n",
       "</style>\n",
       "<table border=\"1\" class=\"dataframe\">\n",
       "  <thead>\n",
       "    <tr style=\"text-align: right;\">\n",
       "      <th></th>\n",
       "      <th>곡목</th>\n",
       "      <th>가수</th>\n",
       "      <th>앨범</th>\n",
       "    </tr>\n",
       "  </thead>\n",
       "  <tbody>\n",
       "    <tr>\n",
       "      <th>0</th>\n",
       "      <td>Crazy Like That</td>\n",
       "      <td>VERIVERY</td>\n",
       "      <td>Liminality - EP.DREAM</td>\n",
       "    </tr>\n",
       "    <tr>\n",
       "      <th>1</th>\n",
       "      <td>우리 사랑 이대로 (여름날 우리 X 규현 (KYUHYUN), 정은지)</td>\n",
       "      <td>규현 (KYUHYUN)</td>\n",
       "      <td>우리 사랑 이대로 (여름날 우리 X 규현 (KYUHYUN), 정은지)</td>\n",
       "    </tr>\n",
       "    <tr>\n",
       "      <th>2</th>\n",
       "      <td>그대가 나에게 그러하듯</td>\n",
       "      <td>하현상</td>\n",
       "      <td>어쩌다 마주친, 그대 OST Part. 3</td>\n",
       "    </tr>\n",
       "    <tr>\n",
       "      <th>3</th>\n",
       "      <td>COCO CHERRY CAKE</td>\n",
       "      <td>퀸 와사비 (Queen WA$ABII)</td>\n",
       "      <td>COCO CHERRY CAKE</td>\n",
       "    </tr>\n",
       "    <tr>\n",
       "      <th>4</th>\n",
       "      <td>I wanna be free</td>\n",
       "      <td>레인보우 노트 (Rainbow note)</td>\n",
       "      <td>I wanna be free</td>\n",
       "    </tr>\n",
       "    <tr>\n",
       "      <th>5</th>\n",
       "      <td>Serenade</td>\n",
       "      <td>트웰브 (twlv)</td>\n",
       "      <td>Serenade</td>\n",
       "    </tr>\n",
       "    <tr>\n",
       "      <th>6</th>\n",
       "      <td>Salad Days</td>\n",
       "      <td>이소 (iiso)</td>\n",
       "      <td>Salad Days</td>\n",
       "    </tr>\n",
       "    <tr>\n",
       "      <th>7</th>\n",
       "      <td>밤하늘</td>\n",
       "      <td>XODIAC</td>\n",
       "      <td>밤하늘</td>\n",
       "    </tr>\n",
       "    <tr>\n",
       "      <th>8</th>\n",
       "      <td>Upside Down</td>\n",
       "      <td>9001 (Ninety O One)</td>\n",
       "      <td>Upside Down</td>\n",
       "    </tr>\n",
       "    <tr>\n",
       "      <th>9</th>\n",
       "      <td>Blessin</td>\n",
       "      <td>NSW yoon</td>\n",
       "      <td>Blessin</td>\n",
       "    </tr>\n",
       "  </tbody>\n",
       "</table>\n",
       "</div>"
      ],
      "text/plain": [
       "                                       곡목                      가수   \n",
       "0                         Crazy Like That                VERIVERY  \\\n",
       "1  우리 사랑 이대로 (여름날 우리 X 규현 (KYUHYUN), 정은지)            규현 (KYUHYUN)   \n",
       "2                            그대가 나에게 그러하듯                     하현상   \n",
       "3                        COCO CHERRY CAKE   퀸 와사비 (Queen WA$ABII)   \n",
       "4                         I wanna be free  레인보우 노트 (Rainbow note)   \n",
       "5                                Serenade              트웰브 (twlv)   \n",
       "6                              Salad Days               이소 (iiso)   \n",
       "7                                     밤하늘                  XODIAC   \n",
       "8                             Upside Down     9001 (Ninety O One)   \n",
       "9                                 Blessin                NSW yoon   \n",
       "\n",
       "                                       앨범  \n",
       "0                   Liminality - EP.DREAM  \n",
       "1  우리 사랑 이대로 (여름날 우리 X 규현 (KYUHYUN), 정은지)  \n",
       "2                 어쩌다 마주친, 그대 OST Part. 3  \n",
       "3                        COCO CHERRY CAKE  \n",
       "4                         I wanna be free  \n",
       "5                                Serenade  \n",
       "6                              Salad Days  \n",
       "7                                     밤하늘  \n",
       "8                             Upside Down  \n",
       "9                                 Blessin  "
      ]
     },
     "execution_count": 95,
     "metadata": {},
     "output_type": "execute_result"
    }
   ],
   "source": [
    "import numpy as np\n",
    "import pandas as pd\n",
    "\n",
    "URL = \"https://www.melon.com/new/index.htm\"\n",
    "header = {'user-agent':'Mozilla/5.0 (Windows NT 10.0; Win64; x64) AppleWebKit/537.36 (KHTML, like Gecko) Chrome/112.0.0.0 Safari/537.36'}\n",
    "res = requests.get(URL,headers = header)\n",
    "soup = BeautifulSoup(res.text, 'html.parser')\n",
    "\n",
    "songs_list = soup.find_all('div',attrs ={'class':'ellipsis rank01'} )\n",
    "writer_list = soup.find_all('div',attrs ={'class':'ellipsis rank02'} )\n",
    "album_list = soup.find_all('div',attrs ={'class':'ellipsis rank03'} )\n",
    "song_title=[]\n",
    "writer=[]\n",
    "album=[]\n",
    "for songs in songs_list[:10]:\n",
    "    songs_title = songs.find('a').text\n",
    "    song_title.append(songs_title)\n",
    "for writers in writer_list[:10]:\n",
    "    writers_list = writers.find('a').text\n",
    "    writer.append(writers_list)\n",
    "for albums in album_list[:10]:\n",
    "    albums_list = albums.find('a').text\n",
    "    album.append(albums_list)\n",
    "print(song_title)\n",
    "print(writer)\n",
    "print(album)\n",
    "\n",
    "df = pd.DataFrame({'곡목':song_title,'가수':writer,'앨범':album})\n",
    "df"
   ]
  },
  {
   "attachments": {},
   "cell_type": "markdown",
   "metadata": {},
   "source": [
    "# 히스토그램 그리기"
   ]
  },
  {
   "cell_type": "code",
   "execution_count": 6,
   "metadata": {},
   "outputs": [
    {
     "data": {
      "image/png": "[encoded data removed]",
      "text/plain": [
       "<Figure size 640x480 with 1 Axes>"
      ]
     },
     "metadata": {},
     "output_type": "display_data"
    }
   ],
   "source": [
    "import numpy as np\n",
    "import matplotlib.pyplot as plt\n",
    "y = np.random.randn(1000) #평균이 0, ㅍ준편차가 1인 표준 정규분포로부터 난수 1000개 생성\n",
    "\n",
    "x = np.arange(len(y))\n",
    "\n",
    "\n",
    "plt.hist(y,bins = 10) # 표현할 데이터를 10개의 구간으로 나눈다.\n",
    "plt.title('Histogram')\n",
    "plt.show()\n",
    "\n"
   ]
  },
  {
   "attachments": {},
   "cell_type": "markdown",
   "metadata": {},
   "source": [
    "# 꺽은선 그래프 그리기"
   ]
  },
  {
   "cell_type": "code",
   "execution_count": 17,
   "metadata": {},
   "outputs": [
    {
     "data": {
      "image/png": "[encoded data removed]",
      "text/plain": [
       "<Figure size 640x480 with 1 Axes>"
      ]
     },
     "metadata": {},
     "output_type": "display_data"
    }
   ],
   "source": [
    "import numpy as np\n",
    "\n",
    "plt.plot(['2015','2016','2017','2018','2019'],[5,3,2,3,4],'bo-')\n",
    "plt.title('Rankings 2015-2019')\n",
    "plt.xlabel('year',labelpad=10)\n",
    "plt.ylabel('rank',labelpad=10)\n",
    "plt.ylim(6,1)\n",
    "plt.show()"
   ]
  },
  {
   "attachments": {},
   "cell_type": "markdown",
   "metadata": {},
   "source": [
    "# 산점도 그리기"
   ]
  },
  {
   "cell_type": "code",
   "execution_count": 29,
   "metadata": {},
   "outputs": [
    {
     "data": {
      "image/png": "[encoded data removed]",
      "text/plain": [
       "<Figure size 640x480 with 1 Axes>"
      ]
     },
     "metadata": {},
     "output_type": "display_data"
    }
   ],
   "source": [
    "height = [170, 168, 177, 181 ,172, 171, 169, 175, 174, 178, 170, 167, 177, 182 ,173, 171, 170, 179, 175, 177, 186, 166, 183, 168]\n",
    "weight = [70, 66, 73, 77, 74, 73, 69, 79, 77, 80, 74, 68, 71, 76, 78, 72, 68, 79, 77, 81, 84, 73, 78, 69]\n",
    "plt.scatter(weight, height, label='data')\n",
    "plt.xlabel('weight')\n",
    "plt.ylabel('height')\n",
    "plt.legend()\n",
    "plt.show()"
   ]
  }
 ],
 "metadata": {
  "kernelspec": {
   "display_name": "Python 3",
   "language": "python",
   "name": "python3"
  },
  "language_info": {
   "codemirror_mode": {
    "name": "ipython",
    "version": 3
   },
   "file_extension": ".py",
   "mimetype": "text/x-python",
   "name": "python",
   "nbconvert_exporter": "python",
   "pygments_lexer": "ipython3",
   "version": "3.11.3"
  },
  "orig_nbformat": 4
 },
 "nbformat": 4,
 "nbformat_minor": 2
}
