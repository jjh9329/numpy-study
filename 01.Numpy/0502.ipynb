{
 "cells": [
  {
   "cell_type": "code",
   "execution_count": 1,
   "metadata": {},
   "outputs": [
    {
     "name": "stdout",
     "output_type": "stream",
     "text": [
      "dfsdf\n"
     ]
    }
   ],
   "source": [
    "print(\"dfsdf\")"
   ]
  },
  {
   "cell_type": "markdown",
   "metadata": {},
   "source": [
    "- 여기서 구조를 확장해서\n",
    "- 1반의 점수가 11,12,13\n",
    "- 2반의 점수가 21,22,23\n",
    "- 3반의 점수가 31,32,33\n",
    "\n"
   ]
  },
  {
   "cell_type": "code",
   "execution_count": 3,
   "metadata": {},
   "outputs": [
    {
     "name": "stdout",
     "output_type": "stream",
     "text": [
      "[[11, 12, 13], [21, 22, 23], [31, 32, 33]]\n"
     ]
    }
   ],
   "source": [
    "nested_math_list = [[11,12,13],[21,22,23],[31,32,33]]\n",
    "print(nested_math_list)"
   ]
  },
  {
   "attachments": {},
   "cell_type": "markdown",
   "metadata": {},
   "source": [
    "- <font color = \"red\">[문제점]</font>\n",
    "    - 자료의 구조가 중첩되면 반복문도 중첩해서 사용해야 한다.\n",
    "    - 자료의 중첩이 증가할수록 코드는 복잡해질 수 밖에 없다\n",
    "    "
   ]
  },
  {
   "attachments": {},
   "cell_type": "markdown",
   "metadata": {},
   "source": [
    "## Numpy로 구현한 다차원 배열\n",
    "- **Numpy** 를 사용하면 중첩된 자료구조를 효율적으로 다룰 수 있다.\n",
    "- `import numpy as no` 형태로 사용하는게 일반적이다\n"
   ]
  },
  {
   "cell_type": "code",
   "execution_count": 3,
   "metadata": {},
   "outputs": [
    {
     "name": "stdout",
     "output_type": "stream",
     "text": [
      "수학점수 합:36\n",
      "수학점수 평균:12.0\n",
      "수학점수 합:50\n",
      "수학점수 평균:12.5\n",
      "수학점수 합:36\n",
      "수학점수 평균:12.00\n",
      "수학점수 합:50\n",
      "수학점수 평균:12.50\n",
      "[12, 13, 14, 15]\n"
     ]
    }
   ],
   "source": [
    "#python 다차원 배열의 이해\n",
    "\n",
    "##숫자 자료형\n",
    "# python에서는 숫자형 변수로 데이터를 표현할 수 있다.\n",
    "\n",
    "# 세 명의 학생의 수학과목 점수 선언\n",
    "math1 = 11\n",
    "math2 = 12\n",
    "math3 = 13\n",
    "# 합과 평균 구하기\n",
    "total = math1 + math2 + math3\n",
    "average = total/3\n",
    "\n",
    "print(f'수학점수 합:{total}')\n",
    "print(f'수학점수 평균:{average}')\n",
    "\n",
    "# 새로 전학온 학생의 수학 점수가 추가 된다면\n",
    "# 새로운 변수 선언과 합과 평균을 구하는 코드를 수정해야 할 필요가 생김\n",
    "math4 = 14\n",
    "total = math1 + math2 + math3 + math4\n",
    "average = total/4\n",
    "print(f'수학점수 합:{total}')\n",
    "print(f'수학점수 평균:{average}')\n",
    "\n",
    "# 1.2 리스트 자료형\n",
    "math_list = [11, 12, 13]\n",
    "\n",
    "total = 0\n",
    "average = 0\n",
    "for math in math_list:\n",
    "    total += math\n",
    "average = total/len(math_list)\n",
    "\n",
    "print(f'수학점수 합:{total}')\n",
    "print(f'수학점수 평균:{average:.2f}')\n",
    "\n",
    "# 전학온 4번째 학생의 수학점수 추가\n",
    "math_list.append(14)\n",
    "\n",
    "total = 0\n",
    "average = 0\n",
    "for math in math_list:\n",
    "    total += math\n",
    "average = total/len(math_list)\n",
    "\n",
    "print(f'수학점수 합:{total}')\n",
    "print(f'수학점수 평균:{average:.2f}')\n",
    "\n",
    "# 그런데 시험 문제에 오류가 발견되어 모든 학생의 점수를 1점씩 올려줘야 하는 상황이 발생된다면\n",
    "math_list = [ math+1 for math in math_list]\n",
    "print(math_list)"
   ]
  },
  {
   "cell_type": "code",
   "execution_count": 4,
   "metadata": {},
   "outputs": [
    {
     "name": "stdout",
     "output_type": "stream",
     "text": [
      "Package            Version\n",
      "------------------ ---------\n",
      "asttokens          2.2.1\n",
      "backcall           0.2.0\n",
      "certifi            2022.12.7\n",
      "charset-normalizer 3.1.0\n",
      "colorama           0.4.6\n",
      "comm               0.1.3\n",
      "debugpy            1.6.7\n",
      "decorator          5.1.1\n",
      "executing          1.2.0\n",
      "idna               3.4\n",
      "ipykernel          6.22.0\n",
      "ipython            8.13.1\n",
      "jedi               0.18.2\n",
      "jupyter_client     8.2.0\n",
      "jupyter_core       5.3.0\n",
      "matplotlib-inline  0.1.6\n",
      "nest-asyncio       1.5.6\n",
      "packaging          23.1\n",
      "parso              0.8.3\n",
      "pickleshare        0.7.5\n",
      "pip                22.3.1\n",
      "platformdirs       3.5.0\n",
      "prompt-toolkit     3.0.38\n",
      "psutil             5.9.5\n",
      "pure-eval          0.2.2\n",
      "Pygments           2.15.1\n",
      "python-dateutil    2.8.2\n",
      "pywin32            306\n",
      "pyzmq              25.0.2\n",
      "requests           2.29.0\n",
      "setuptools         65.5.0\n",
      "six                1.16.0\n",
      "stack-data         0.6.2\n",
      "tornado            6.3.1\n",
      "traitlets          5.9.0\n",
      "urllib3            1.26.15\n",
      "wcwidth            0.2.6\n"
     ]
    },
    {
     "name": "stderr",
     "output_type": "stream",
     "text": [
      "\n",
      "[notice] A new release of pip available: 22.3.1 -> 23.1.2\n",
      "[notice] To update, run: python.exe -m pip install --upgrade pip\n"
     ]
    }
   ],
   "source": [
    "!pip list"
   ]
  },
  {
   "cell_type": "code",
   "execution_count": 34,
   "metadata": {},
   "outputs": [],
   "source": [
    "import numpy as np"
   ]
  },
  {
   "attachments": {},
   "cell_type": "markdown",
   "metadata": {},
   "source": [
    "# 파이썬 리스트를 이용한 넘파이 다차원 배열 생성\n",
    "math_ndarray = np.array(nested_math_lilst)\n",
    "print(math_ndarray)"
   ]
  },
  {
   "cell_type": "code",
   "execution_count": 37,
   "metadata": {},
   "outputs": [
    {
     "name": "stdout",
     "output_type": "stream",
     "text": [
      "[[11, 12, 13], [21, 22, 23], [31, 32, 33]]\n"
     ]
    }
   ],
   "source": [
    "nested_math_list = [[11,12,13],[21,22,23],[31,32,33]]\n",
    "print(nested_math_list)"
   ]
  },
  {
   "cell_type": "code",
   "execution_count": 38,
   "metadata": {},
   "outputs": [
    {
     "name": "stdout",
     "output_type": "stream",
     "text": [
      "[[11 12 13]\n",
      " [21 22 23]\n",
      " [31 32 33]]\n",
      "<class 'numpy.ndarray'>\n"
     ]
    }
   ],
   "source": [
    "# 파이썬 리스트를 이용한 넘파이 다차원 배열 생성\n",
    "math_ndarray = np.array(nested_math_list)\n",
    "print(math_ndarray)\n",
    "print(type(math_ndarray))"
   ]
  },
  {
   "cell_type": "code",
   "execution_count": null,
   "metadata": {},
   "outputs": [],
   "source": []
  },
  {
   "cell_type": "code",
   "execution_count": 39,
   "metadata": {},
   "outputs": [
    {
     "name": "stdout",
     "output_type": "stream",
     "text": [
      "[[12 13 14]\n",
      " [22 23 24]\n",
      " [32 33 34]]\n"
     ]
    }
   ],
   "source": [
    "new_ndarray = math_ndarray +1\n",
    "print(new_ndarray)"
   ]
  },
  {
   "cell_type": "markdown",
   "metadata": {},
   "source": [
    "- Numpy에 구현된 함수를 이용해서 합이나 평균도 쉽게 구할 수 있다"
   ]
  },
  {
   "cell_type": "code",
   "execution_count": 42,
   "metadata": {},
   "outputs": [
    {
     "data": {
      "text/plain": [
       "198"
      ]
     },
     "execution_count": 42,
     "metadata": {},
     "output_type": "execute_result"
    }
   ],
   "source": [
    "#전체 합 구하기\n",
    "np.sum(math_ndarray)"
   ]
  },
  {
   "cell_type": "code",
   "execution_count": 11,
   "metadata": {},
   "outputs": [
    {
     "data": {
      "text/plain": [
       "22.0"
      ]
     },
     "execution_count": 11,
     "metadata": {},
     "output_type": "execute_result"
    }
   ],
   "source": [
    "# 전체 평균 구하기\n",
    "np.mean(math_ndarray)"
   ]
  },
  {
   "cell_type": "code",
   "execution_count": 11,
   "metadata": {},
   "outputs": [
    {
     "data": {
      "text/plain": [
       "array([21., 22., 23.])"
      ]
     },
     "execution_count": 11,
     "metadata": {},
     "output_type": "execute_result"
    }
   ],
   "source": [
    "# 열의 평균 구하기\n",
    "np.mean(math_ndarray, axis=0) # axis=0 열 평균 구하기"
   ]
  },
  {
   "cell_type": "code",
   "execution_count": 12,
   "metadata": {},
   "outputs": [
    {
     "data": {
      "text/plain": [
       "array([12., 22., 32.])"
      ]
     },
     "execution_count": 12,
     "metadata": {},
     "output_type": "execute_result"
    }
   ],
   "source": [
    "# 행의 평균 구하기\n",
    "np.mean(math_ndarray,axis=1)"
   ]
  },
  {
   "cell_type": "code",
   "execution_count": 10,
   "metadata": {},
   "outputs": [
    {
     "data": {
      "text/plain": [
       "(3, 3)"
      ]
     },
     "execution_count": 10,
     "metadata": {},
     "output_type": "execute_result"
    }
   ],
   "source": [
    "math_ndarray.shape"
   ]
  },
  {
   "attachments": {},
   "cell_type": "markdown",
   "metadata": {},
   "source": [
    "## Numpy의 axis(축) 정리"
   ]
  },
  {
   "attachments": {},
   "cell_type": "markdown",
   "metadata": {},
   "source": [
    "- Numpy 라이브러리의 여러 함수에서 axis(축) 파라미터가 사용되며 다음과 같이 해석할 수 있다.\n",
    "- 먼저 행렬의 모양을 다음과 같이 학인할 수있다.\n",
    "    - (행렬객체).shpae\n",
    "    - 2차원 행렬: (행,열)\n",
    "        - 연산을 사용할때는 축의값을 방향으로 생각(행단위로 구할경우 1,열단위로 구할경우0)\n",
    "        - 구조 관련(행,열 단위로 합치거나 뺄경우)해서는 원래 축의 값으로 생각(행단위로 구할경우0,열단위로 구할경우1)\n",
    "    - 3차원 행렬: (깊이, 행, 열)\n",
    "        "
   ]
  },
  {
   "cell_type": "markdown",
   "metadata": {},
   "source": []
  },
  {
   "attachments": {
    "image.png": {
     "image/png": "[encoded data removed]"
    }
   },
   "cell_type": "markdown",
   "metadata": {},
   "source": [
    "### 2차원 행렬의 축\n",
    "![image.png](attachment:image.png)\n",
    "- axis를 0 또는 -2로 하면 **행 축을 기준으로** 더하라는 의미로 각 행에 있는 열의 값을 더해 하나로 만든다.\n",
    "- axis를 1 또는 -1로 하면 **열 축을 기준으로** 더하라는 의미로 각 열에 있는 행의 값을 더해 하나로 만든다."
   ]
  },
  {
   "attachments": {
    "image.png": {
     "image/png": "[encoded data removed]"
    }
   },
   "cell_type": "markdown",
   "metadata": {},
   "source": [
    "### 3차원 행렬의 축\n",
    "![image.png](attachment:image.png)\n",
    "- axis를 0 또는 -3로 하면 **깊이를 기준으로** 더하라는 의미로 서로 마주하는 요소끼리 값을 더해 하나로 만든다.\n",
    "- axis를 1 또는 -2로 하면 **행 축을 기준으로** 더하라는 의미로 각 행에 있는 열의 값을 더해 하나로 만든다.\n",
    "- axis를 2 또는 -1로 하면 **열 축을 기준으로** 더하라는 의미로 각 열에 있는 행의 값을 더해 하나로 만든다.\n",
    "\n"
   ]
  },
  {
   "cell_type": "code",
   "execution_count": 15,
   "metadata": {},
   "outputs": [
    {
     "name": "stdout",
     "output_type": "stream",
     "text": [
      "[[1 2]\n",
      " [3 4]]\n",
      "(2, 2)\n",
      "--------------------\n",
      "[[[ 1  2  3]\n",
      "  [ 4  5  6]]\n",
      "\n",
      " [[ 7  8  9]\n",
      "  [10 11 12]]]\n",
      "(2, 2, 3)\n"
     ]
    }
   ],
   "source": [
    "import numpy as np\n",
    "\n",
    "array1 = np.array([[1, 2,],[3,4]])\n",
    "print(array1)\n",
    "print(array1.shape)\n",
    "print('-'*20)\n",
    "\n",
    "array2 = np.array([[[1,2,3],[4,5,6]],[[7,8,9],[10,11,12]]])\n",
    "print(array2)\n",
    "print(array2.shape)"
   ]
  },
  {
   "cell_type": "code",
   "execution_count": 20,
   "metadata": {},
   "outputs": [
    {
     "name": "stdout",
     "output_type": "stream",
     "text": [
      "2차원 배열의 axis=0 기준 합: [4 6]\n",
      "2차원 배열의 axis=1 기준 합:[3 7]\n",
      "3차원 배열의 axis=0 기준 합:\n",
      "[[ 8 10 12]\n",
      " [14 16 18]]\n",
      "3차원 배열의 axis=1 기준 합:\n",
      "[[ 5  7  9]\n",
      " [17 19 21]]\n",
      "3차원 배열의 axis=2 기준 합:\n",
      "[[ 6 15]\n",
      " [24 33]]\n"
     ]
    }
   ],
   "source": [
    "print('2차원 배열의 axis=0 기준 합: ', end='')\n",
    "print(np.sum(array1,axis=0))\n",
    "print('2차원 배열의 axis=1 기준 합:',end='')\n",
    "print(np.sum(array1,axis=1))\n",
    "print('3차원 배열의 axis=0 기준 합:')\n",
    "print(np.sum(array2,axis=0))\n",
    "print('3차원 배열의 axis=1 기준 합:')\n",
    "print(np.sum(array2,axis=1))\n",
    "print('3차원 배열의 axis=2 기준 합:')\n",
    "print(np.sum(array2,axis=2))"
   ]
  },
  {
   "attachments": {},
   "cell_type": "markdown",
   "metadata": {},
   "source": [
    "# Numpy 특징"
   ]
  },
  {
   "attachments": {
    "image.png": {
     "image/png": "[encoded data removed]"
    }
   },
   "cell_type": "markdown",
   "metadata": {},
   "source": [
    "## Numpy의 장점\n",
    "- ndarray는 타입을 명시하여 원소의 배열로 데이터를 유지\n",
    "- 다차원 데이터도 연속된 메모리 공간이 할당됨\n",
    "- 효율적인 메모리 사용이 가능하도록 구현됨\n",
    "![image.png](attachment:image.png)"
   ]
  },
  {
   "attachments": {},
   "cell_type": "markdown",
   "metadata": {},
   "source": [
    "# 배열 생성 -1"
   ]
  },
  {
   "attachments": {},
   "cell_type": "markdown",
   "metadata": {},
   "source": [
    "## array()를 이용한 생성\n",
    "- 가장 기본적인 방법은 array() 함수를 사용하여 일반적이니 Python의 리스트 또는 튜플에서 배열을 만드는 것이다.\n",
    "- **다차원 배열의 모든 원소는 동일한 데이터 타입을 가져야 한다.**"
   ]
  },
  {
   "cell_type": "code",
   "execution_count": 21,
   "metadata": {},
   "outputs": [
    {
     "name": "stdout",
     "output_type": "stream",
     "text": [
      "[0 1 2 3] <class 'numpy.ndarray'>\n"
     ]
    }
   ],
   "source": [
    "import numpy as np\n",
    "data = [0,1,2,3]\n",
    "a = np.array(data)\n",
    "print(a,type(a))"
   ]
  },
  {
   "cell_type": "code",
   "execution_count": 24,
   "metadata": {},
   "outputs": [
    {
     "name": "stdout",
     "output_type": "stream",
     "text": [
      "[0. 1. 2. 3.]\n"
     ]
    }
   ],
   "source": [
    "a2 = np.array(data, dtype='float') #dtype 은 타입을 결정한다, dtype=np.float\n",
    "print(a2)"
   ]
  },
  {
   "attachments": {},
   "cell_type": "markdown",
   "metadata": {},
   "source": [
    "### 형변환 "
   ]
  },
  {
   "cell_type": "code",
   "execution_count": 26,
   "metadata": {},
   "outputs": [
    {
     "name": "stdout",
     "output_type": "stream",
     "text": [
      "['1' '2' '3' '4']\n",
      "[1. 2. 3. 4.]\n"
     ]
    }
   ],
   "source": [
    "b= np.array(['1','2',3,4])\n",
    "print(b)\n",
    "#처음 정해진 파라미터의 타입으로 뒤에 나오는 타입을 결정\n",
    "b= np.array(['1','2',3,4],dtype= np.float64)\n",
    "print(b)"
   ]
  },
  {
   "attachments": {},
   "cell_type": "markdown",
   "metadata": {},
   "source": [
    "## arange()를 이용한 생성\n",
    "- 일련의 연속된 숫자를 만들기 위해Python의 range()와 유사한 arange()함수를 사용할 수 있다."
   ]
  },
  {
   "cell_type": "code",
   "execution_count": 28,
   "metadata": {},
   "outputs": [
    {
     "name": "stdout",
     "output_type": "stream",
     "text": [
      "[1 2 3 4 5 6 7 8 9]\n",
      "[10 15 20 25]\n"
     ]
    }
   ],
   "source": [
    "a = np.arange(1,10)\n",
    "print(a)\n",
    "b= np.arange(10,30,5)\n",
    "print(b)\n"
   ]
  },
  {
   "cell_type": "code",
   "execution_count": 29,
   "metadata": {},
   "outputs": [
    {
     "name": "stdout",
     "output_type": "stream",
     "text": [
      "[0 1 2 3 4 5 6 7 8 9]\n"
     ]
    }
   ],
   "source": [
    "print(np.arange(10))"
   ]
  },
  {
   "attachments": {},
   "cell_type": "markdown",
   "metadata": {},
   "source": [
    "## Numpy 배열의 주요 속성\n",
    "\n",
    "1) ndarray.shpae\n",
    "- numpy array 객체의 차원을 튜플ㄹ 타입으로 반환\n",
    "\n",
    "2) ndarray.dtype\n",
    "- 배열의 자료형을 반환\n",
    "\n",
    "3) ndarray.ndim\n",
    "- 배열의 차수를 정수로 반환\n",
    "\n",
    "4) ndarray.size\n",
    "- 배열의 요소의 총 개수를 정수 값으로 반환\n",
    "\n",
    "5) ndarray.nbytes\n",
    "- 배열 객체의 메모리 크기 반환"
   ]
  },
  {
   "cell_type": "code",
   "execution_count": 30,
   "metadata": {},
   "outputs": [
    {
     "name": "stdout",
     "output_type": "stream",
     "text": [
      "10\n",
      "int32\n",
      "0\n",
      "()\n",
      "4\n",
      "1\n"
     ]
    }
   ],
   "source": [
    "# 단일 값(스칼라)\n",
    "a = np.array(10)\n",
    "print(a)\n",
    "print(a.dtype)\n",
    "print(a.ndim)\n",
    "print(a.shape)\n",
    "print(a.nbytes)\n",
    "print(a.size)"
   ]
  },
  {
   "cell_type": "code",
   "execution_count": 31,
   "metadata": {},
   "outputs": [
    {
     "name": "stdout",
     "output_type": "stream",
     "text": [
      "[1 2 3 4 5]\n",
      "int32\n",
      "1\n",
      "(5,)\n",
      "20\n",
      "5\n"
     ]
    }
   ],
   "source": [
    "# 1차원 배열(벡터)\n",
    "b = np.array([1,2,3,4,5])\n",
    "print(b)\n",
    "print(b.dtype)\n",
    "print(b.ndim)\n",
    "print(b.shape)\n",
    "print(b.nbytes)\n",
    "print(b.size)"
   ]
  },
  {
   "cell_type": "code",
   "execution_count": 33,
   "metadata": {},
   "outputs": [
    {
     "name": "stdout",
     "output_type": "stream",
     "text": [
      "[[1 2]\n",
      " [3 4]\n",
      " [5 6]]\n",
      "int32\n",
      "2\n",
      "(3, 2)\n",
      "24\n",
      "6\n"
     ]
    }
   ],
   "source": [
    "# 2차원 배열(행렬)\n",
    "c = np.array([[1,2],[3,4],[5,6]])\n",
    "print(c)\n",
    "print(c.dtype)\n",
    "print(c.ndim)\n",
    "print(c.shape)\n",
    "print(c.nbytes)\n",
    "print(c.size)"
   ]
  },
  {
   "cell_type": "code",
   "execution_count": 34,
   "metadata": {},
   "outputs": [
    {
     "name": "stdout",
     "output_type": "stream",
     "text": [
      "[[[ 1  2  3]\n",
      "  [ 4  5  6]]\n",
      "\n",
      " [[ 7  8  9]\n",
      "  [10 11 12]]]\n",
      "int32\n",
      "3\n",
      "(2, 2, 3)\n",
      "48\n",
      "12\n"
     ]
    }
   ],
   "source": [
    "d= np.array([[[1,2,3],[4,5,6]],[[7,8,9],[10,11,12]]])\n",
    "print(d)\n",
    "print(d.dtype)\n",
    "print(d.ndim)\n",
    "print(d.shape)\n",
    "print(d.nbytes)\n",
    "print(d.size)"
   ]
  },
  {
   "attachments": {},
   "cell_type": "markdown",
   "metadata": {},
   "source": [
    "## 4 배열 생성 -2"
   ]
  },
  {
   "attachments": {},
   "cell_type": "markdown",
   "metadata": {},
   "source": [
    "## numpy.zeros()\n",
    "- 모든 요소가 0으로 이루어진, 지정한 크기의 새로운 배열을 생성\n",
    "- zeors_like(): 기존 배열과 모양이 같은 0으로 채워진 배열을 생성"
   ]
  },
  {
   "cell_type": "code",
   "execution_count": 63,
   "metadata": {},
   "outputs": [
    {
     "name": "stdout",
     "output_type": "stream",
     "text": [
      "[0 0 0 0]\n",
      "[[0. 0. 0.]\n",
      " [0. 0. 0.]\n",
      " [0. 0. 0.]]\n",
      "[[0 0 0]\n",
      " [0 0 0]\n",
      " [0 0 0]]\n"
     ]
    }
   ],
   "source": [
    "a = np.zeros(4,dtype=int)\n",
    "print(a)\n",
    "\n",
    "b = np.zeros((3,3))\n",
    "print(b)\n",
    "\n",
    "c = np.array([[1,2,3],[4,5,6],[7,8,9]])\n",
    "d = np.zeros_like(c)\n",
    "print(d)"
   ]
  },
  {
   "attachments": {},
   "cell_type": "markdown",
   "metadata": {},
   "source": [
    "## numpy.ones()\n",
    "- 모든 요소가 1로 이루어진, 지정한 크기의 새로운 배열을 생성\n",
    "- ones_like(): 기존 배열과 모양이 같은 1으로 채워진 배열을 생성"
   ]
  },
  {
   "attachments": {},
   "cell_type": "markdown",
   "metadata": {},
   "source": [
    "# 4.3 numpy.full\n",
    "- 지정한 크기에 입력한 원소를 전부 채운다"
   ]
  },
  {
   "cell_type": "code",
   "execution_count": 43,
   "metadata": {},
   "outputs": [
    {
     "name": "stdout",
     "output_type": "stream",
     "text": [
      "[[10 10]\n",
      " [10 10]]\n"
     ]
    }
   ],
   "source": [
    "print(np.full((2,2),10))"
   ]
  },
  {
   "attachments": {},
   "cell_type": "markdown",
   "metadata": {},
   "source": [
    "## [연습문제]\n",
    "- 1~10 사이의 값에 대해 다음의 조건에 맞는 2차원 배열을 생성하시오\n",
    "- 첫 번째 행은 역순으로 나열된 홀수 정수의 요소를 갖고, 두 번째 행은 짝수 정수의 요소를 갖는다"
   ]
  },
  {
   "cell_type": "code",
   "execution_count": 61,
   "metadata": {},
   "outputs": [
    {
     "name": "stdout",
     "output_type": "stream",
     "text": [
      "[ 2  4  6  8 10]\n",
      "[9 7 5 3 1]\n",
      "[[ 2  4  6  8 10]\n",
      " [ 9  7  5  3  1]]\n"
     ]
    }
   ],
   "source": [
    "a = np.arange(2,11,2)\n",
    "print(a)\n",
    "b = np.arange(9,0,-2)\n",
    "print(b)\n",
    "c = np.array([a,b])\n",
    "print(c)"
   ]
  },
  {
   "attachments": {},
   "cell_type": "markdown",
   "metadata": {},
   "source": [
    "## 4.5 배열 생성 -3"
   ]
  },
  {
   "attachments": {},
   "cell_type": "markdown",
   "metadata": {},
   "source": [
    "### numpy.linspace()\n",
    "- start부터 stop의 범위에서 num개를 균일한 간격으로 데이터를 생성하고 배열을 만드는 함수\n"
   ]
  },
  {
   "cell_type": "code",
   "execution_count": 64,
   "metadata": {},
   "outputs": [
    {
     "name": "stdout",
     "output_type": "stream",
     "text": [
      "[0.   0.25 0.5  0.75 1.   1.25 1.5  1.75 2.  ]\n"
     ]
    }
   ],
   "source": [
    "# 0 이상 2이하의 범위를 9개만큼 균등하게 등분하여 요소들을 생성\n",
    "print(np.linspace(0,2,9))"
   ]
  },
  {
   "cell_type": "code",
   "execution_count": 65,
   "metadata": {},
   "outputs": [
    {
     "name": "stdout",
     "output_type": "stream",
     "text": [
      "[1.  1.5 2.  2.5 3. ]\n",
      "[1.         1.10526316 1.21052632 1.31578947 1.42105263 1.52631579\n",
      " 1.63157895 1.73684211 1.84210526 1.94736842 2.05263158 2.15789474\n",
      " 2.26315789 2.36842105 2.47368421 2.57894737 2.68421053 2.78947368\n",
      " 2.89473684 3.        ]\n"
     ]
    }
   ],
   "source": [
    "a = np.linspace(1.0,3.0, num=5)\n",
    "b = np.linspace(1.0,3.0, num=20)\n",
    "\n",
    "print(a)\n",
    "print(b)"
   ]
  },
  {
   "cell_type": "code",
   "execution_count": 3,
   "metadata": {},
   "outputs": [
    {
     "data": {
      "image/png": "[encoded data removed]",
      "text/plain": [
       "<Figure size 640x480 with 1 Axes>"
      ]
     },
     "metadata": {},
     "output_type": "display_data"
    }
   ],
   "source": [
    "import numpy as np\n",
    "x= np.linspace(0,2*np.pi,100)\n",
    "y = np.sin(x)\n",
    "\n",
    "import matplotlib.pyplot as plt\n",
    "#matplotlib은 파이썬에서 그래프 및 차트를 그리기 위한 패키지\n",
    "# pyplot: MATLAB 스타일 인터페이스를 제공하며, 간단한 그래프를 쉽게 그릴 수 있도록 도와줍니다.\n",
    "# pylab: pyplot과 NumPy를 함께 import하여, pyplot 함수와 NumPy 배열을 모두 사용할 수 있도록 합니다.\n",
    "\n",
    "plt.plot(x,y)\n",
    "plt.show()"
   ]
  },
  {
   "attachments": {},
   "cell_type": "markdown",
   "metadata": {},
   "source": [
    "## numpy.identity(), numpy.eye()\n",
    "- 지정된 크기의 정방 단위 행렬을 생성\n",
    "- 선형 대수학에서 단위 단행은 주대각선의 원소가 모두1이며, 나머지 원소는 0인 정사각형 행렬이다\n"
   ]
  },
  {
   "cell_type": "code",
   "execution_count": 4,
   "metadata": {},
   "outputs": [
    {
     "name": "stdout",
     "output_type": "stream",
     "text": [
      "[[1. 0.]\n",
      " [0. 1.]]\n",
      "[[1 0 0]\n",
      " [0 1 0]\n",
      " [0 0 1]]\n",
      "[[1. 0. 0.]\n",
      " [0. 1. 0.]\n",
      " [0. 0. 1.]]\n",
      "[[1. 0. 0. 0.]\n",
      " [0. 1. 0. 0.]\n",
      " [0. 0. 1. 0.]]\n"
     ]
    }
   ],
   "source": [
    "import numpy as np\n",
    "print(np.identity(2))\n",
    "print(np.identity(3,dtype=int))\n",
    "\n",
    "print(np.eye(3))\n",
    "\n",
    "#eye() 함수는 행과 열의 크기가 다른 행과 열을 표현한다\n",
    "print(np.eye(3,4))"
   ]
  },
  {
   "cell_type": "code",
   "execution_count": 6,
   "metadata": {},
   "outputs": [
    {
     "data": {
      "text/plain": [
       "array([[0., 0., 0., 0.],\n",
       "       [1., 0., 0., 0.],\n",
       "       [0., 1., 0., 0.]])"
      ]
     },
     "execution_count": 6,
     "metadata": {},
     "output_type": "execute_result"
    }
   ],
   "source": [
    "# 세번째 값 1: 대각선 인덱스, 0(기본값)은 주대각선을 나타내고\n",
    "# 양수값은 위쪽 대각선(열)을 나타내고,\n",
    "# 음수 값은 아래쪽 대각선(행)을 나타낸다.\n",
    "np.eye(3,4,1)\n",
    "np.eye(3,4,-1)"
   ]
  },
  {
   "attachments": {},
   "cell_type": "markdown",
   "metadata": {},
   "source": [
    "# 6배열의 변경"
   ]
  },
  {
   "attachments": {},
   "cell_type": "markdown",
   "metadata": {},
   "source": [
    "## numpy.reshape() /ndarray.reshape()\n",
    "- <font color = 'red'>원본을 변경하지 않고 새로운 모양의 배열을 생성한</font>"
   ]
  },
  {
   "cell_type": "code",
   "execution_count": 49,
   "metadata": {},
   "outputs": [
    {
     "name": "stdout",
     "output_type": "stream",
     "text": [
      "[0 1 2 3 4 5]\n",
      "[[0 1]\n",
      " [2 3]\n",
      " [4 5]]\n",
      "[0 1 2 3 4 5]\n",
      "--------------------\n",
      "[[0 1 2 3 4 5]] 2\n",
      "--------------------\n",
      "d np.reshape(a,(6)) 는 [0 1 2 3 4 5] 1\n",
      "--------------------\n",
      "e np.reshape(a,(-1,2)) 는 [[0 1]\n",
      " [2 3]\n",
      " [4 5]] 2\n",
      "--------------------\n",
      "f np.arange(1,11).reshape(2,5)는 [[ 1  2  3  4  5]\n",
      " [ 6  7  8  9 10]]\n",
      "g f.reshape(-1,2,1) 는 [[[ 1]\n",
      "  [ 2]]\n",
      "\n",
      " [[ 3]\n",
      "  [ 4]]\n",
      "\n",
      " [[ 5]\n",
      "  [ 6]]\n",
      "\n",
      " [[ 7]\n",
      "  [ 8]]\n",
      "\n",
      " [[ 9]\n",
      "  [10]]]\n",
      "--------------------\n",
      "h는 [ 1  2  3  4  5  6  7  8  9 10]\n"
     ]
    }
   ],
   "source": [
    "import numpy as np\n",
    "\n",
    "a = np.arange(6)\n",
    "print(a)\n",
    "\n",
    "b= a.reshape((3,2)) # np.reshape(a,(3,2)) 과 동일\n",
    "print(b)\n",
    "print(a) # 원본 배열의 모양은 변하지 않는다.\n",
    "\n",
    "print('-'*20)\n",
    "\n",
    "c = np.reshape(a,(1,6))\n",
    "print(c,c.ndim)\n",
    "print('-'*20)\n",
    "\n",
    "d = np.reshape(a,(6))\n",
    "print(\"d np.reshape(a,(6)) 는\",d,d.ndim)\n",
    "print('-'*20)\n",
    "\n",
    "e = np.reshape(a,(-1,2)) # 열의 크기를 2로 맞추고 음수로 지정할경우 행의 크기는 요소 개수에 맞춰 알아서 지정한다. \n",
    "print(\"e np.reshape(a,(-1,2)) 는\",e,e.ndim)\n",
    "print('-'*20)\n",
    "\n",
    "f = np.arange(1,11).reshape(2,5)\n",
    "print(\"f np.arange(1,11).reshape(2,5)는\",f)\n",
    "# 2행 1열의 모양으로 행렬을 변환하면서 깊이의 값을 알아서 정하도록 한다\n",
    "g = f.reshape(-1,2,1)\n",
    "print(\"g f.reshape(-1,2,1) 는\",g)\n",
    "print('-'*20)\n",
    "\n",
    "# -1의 의미는 행렬의 값이 없으므로 요소를 한 줄로 나타내게 된다\n",
    "h =  g.reshape(-1)\n",
    "print(\"h는\",h)\n"
   ]
  },
  {
   "attachments": {},
   "cell_type": "markdown",
   "metadata": {},
   "source": [
    "## ndarray.resize()\n",
    "- <font color = 'red'>원본 배열을 새로운 모양으로 수정</font>\n",
    "- 대상 배열의 요소의 개수가 원래 배열과 동일하지 않으면 크기를 강제로 조정한다."
   ]
  },
  {
   "cell_type": "code",
   "execution_count": 2,
   "metadata": {},
   "outputs": [
    {
     "name": "stdout",
     "output_type": "stream",
     "text": [
      "[[ 0  1  2  3]\n",
      " [ 4  5  6  7]\n",
      " [ 8  9 10 11]]\n",
      "[[ 0  1  2  3]\n",
      " [ 4  5  6  7]\n",
      " [ 8  9 10 11]\n",
      " [ 0  0  0  0]]\n"
     ]
    }
   ],
   "source": [
    "import numpy as np\n",
    "a= np.arange(12)\n",
    "a.resize((3,4))\n",
    "print(a)# resize()는 원본의 모양을 변경한다.\n",
    "\n",
    "a.resize((4,4)) # 원본과 크기가 달라도 오류가 발생되지 않는다.\n",
    "print(a)"
   ]
  },
  {
   "attachments": {},
   "cell_type": "markdown",
   "metadata": {},
   "source": [
    "## ndarray.flatten()/ndarray.ravel()\n",
    "- 배열을 1차원으로 만든다\n",
    "- flatten() : 배열을 복사해서 1차원으로 변경하기 때문에 **원본에 영향을 미치지 않는다.**\n",
    "- ravel() : 원본을 복사하는 것이 아니므로 메모리의 낭비가 없다."
   ]
  },
  {
   "cell_type": "code",
   "execution_count": 3,
   "metadata": {},
   "outputs": [
    {
     "name": "stdout",
     "output_type": "stream",
     "text": [
      "[[1 2]\n",
      " [3 4]]\n",
      "[1 2 3 4]\n"
     ]
    }
   ],
   "source": [
    "a = np.array([[1,2],[3,4]])\n",
    "print(a)   \n",
    "\n",
    "print(a.flatten())"
   ]
  },
  {
   "cell_type": "code",
   "execution_count": 4,
   "metadata": {},
   "outputs": [
    {
     "name": "stdout",
     "output_type": "stream",
     "text": [
      "[[[1 2 3]\n",
      "  [4 5 6]\n",
      "  [7 8 9]]]\n",
      "--------------------\n",
      "[1 2 3 4 5 6 7 8 9]\n",
      "--------------------\n",
      "[1 2 3 4 5 6 7 8 9]\n",
      "[[[ 1  2  3]\n",
      "  [ 4 10  6]\n",
      "  [ 7  8  9]]]\n",
      "[ 1  2  3  4 10  6  7  8  9]\n",
      "[1 2 3 4 5 6 7 8 9]\n"
     ]
    }
   ],
   "source": [
    "b = np.arange(1,10).reshape(1,3,3)\n",
    "print(b)\n",
    "\n",
    "print('-'*20)\n",
    "c = b.flatten()\n",
    "print(c)\n",
    "\n",
    "print('-'*20)\n",
    "d = b.ravel()\n",
    "print(d)\n",
    "\n",
    "b[0,1,1] = 10\n",
    "print(b)\n",
    "print(d)\n",
    "print(c)"
   ]
  },
  {
   "attachments": {},
   "cell_type": "markdown",
   "metadata": {},
   "source": [
    "## np.expand_dims()\n",
    "- 지정한 axis의 위치에 배열의 차원을 늘려줌\n"
   ]
  },
  {
   "cell_type": "code",
   "execution_count": 28,
   "metadata": {},
   "outputs": [
    {
     "name": "stdout",
     "output_type": "stream",
     "text": [
      "[[1 2]\n",
      " [3 4]]\n",
      "(2, 2)\n",
      "--------------------\n",
      "[[[1 2]\n",
      "  [3 4]]]\n",
      "(1, 2, 2)\n",
      "--------------------\n",
      "[[[1 2]]\n",
      "\n",
      " [[3 4]]]\n",
      "(2, 1, 2)\n"
     ]
    }
   ],
   "source": [
    "a = np.array([1,2])\n",
    "print(a)\n",
    "print(a.shape)\n",
    "print('-'*20)\n",
    "\n",
    "#1차원 벡터에 첫 번째 축(행 축)을 추가해서 2앞에 1추가되어 최종적으로(1,2)의 모양으로 확장됨\n",
    "# a[np.newaxis,:] 와 동일 \n",
    "b= np.expand_dims(a, axis=0)\n",
    "print(b)\n",
    "print(b.shape)\n",
    "print('-'*20)\n",
    "\n",
    "# 1차원 벡터에 두 번째 축(열 축)을 추가해서 2뒤에 1이 추가 되어 1이 추가되어 최조적으로(2,1)의 모양으로 확장됨\n",
    "c = np.expand_dims(a, axis=1)\n",
    "print(c)\n",
    "print(c.shape)"
   ]
  },
  {
   "cell_type": "code",
   "execution_count": 20,
   "metadata": {},
   "outputs": [
    {
     "name": "stdout",
     "output_type": "stream",
     "text": [
      "[[1 2 3]\n",
      " [4 5 6]]\n",
      "(2, 3)\n",
      "--------------------\n",
      "[[[1 2 3]\n",
      "  [4 5 6]]]\n",
      "(1, 2, 3)\n",
      "--------------------\n",
      "[[[1 2 3]]\n",
      "\n",
      " [[4 5 6]]]\n",
      "(2, 1, 3)\n",
      "--------------------\n",
      "[[[1]\n",
      "  [2]\n",
      "  [3]]\n",
      "\n",
      " [[4]\n",
      "  [5]\n",
      "  [6]]]\n",
      "(2, 3, 1)\n"
     ]
    }
   ],
   "source": [
    "a= np.arange(1,7).reshape(2,3)\n",
    "print(a)\n",
    "print(a.shape)\n",
    "print('-'*20)\n",
    "\n",
    "#2차원 행열을 깊이 축(axis=0)으로 확장\n",
    "b = np.expand_dims(a,axis=0)\n",
    "print(b)\n",
    "print(b.shape)\n",
    "print('-'*20)\n",
    "\n",
    "\n",
    "#2차원 행렬을 행 축(axis=1)으로 확장\n",
    "c = np.expand_dims(a,axis=1)\n",
    "print(c)\n",
    "print(c.shape)\n",
    "print('-'*20)\n",
    "\n",
    "\n",
    "#2차원 행렬을 열 축(axis=2)으로 확장\n",
    "d = np.expand_dims(a,axis=2)\n",
    "print(d)\n",
    "print(d.shape)\n",
    "\n",
    "#dkdsfjkl\n",
    "\n"
   ]
  },
  {
   "cell_type": "code",
   "execution_count": 26,
   "metadata": {},
   "outputs": [
    {
     "name": "stdout",
     "output_type": "stream",
     "text": [
      "[0 1 2 3]\n",
      "(4,)\n",
      "------------------------------\n",
      "[[0 1 2 3]]\n",
      "(1, 4)\n",
      "------------------------------\n",
      "[[0]\n",
      " [1]\n",
      " [2]\n",
      " [3]]\n",
      "(4, 1)\n",
      "------------------------------\n"
     ]
    }
   ],
   "source": [
    "# np.newaxis를 이용해서 차원을 늘ㄹ리 수도 있다\n",
    "\n",
    "a= np.arange(4)\n",
    "print(a)\n",
    "print(a.shape)\n",
    "print('-' * 30)\n",
    "\n",
    "row_vec = a[np.newaxis,:]\n",
    "print(row_vec)\n",
    "print(row_vec.shape)\n",
    "print('-' * 30)\n",
    "\n",
    "col_vec = a[:,np.newaxis]\n",
    "print(col_vec)\n",
    "print(col_vec.shape)\n",
    "print('-' * 30)\n"
   ]
  },
  {
   "attachments": {},
   "cell_type": "markdown",
   "metadata": {},
   "source": [
    "## ndarray.astype()\n",
    "- 배열의 데이터 타입을 변경"
   ]
  },
  {
   "attachments": {},
   "cell_type": "markdown",
   "metadata": {},
   "source": []
  },
  {
   "cell_type": "markdown",
   "metadata": {},
   "source": []
  }
 ],
 "metadata": {
  "kernelspec": {
   "display_name": "Python 3",
   "language": "python",
   "name": "python3"
  },
  "language_info": {
   "codemirror_mode": {
    "name": "ipython",
    "version": 3
   },
   "file_extension": ".py",
   "mimetype": "text/x-python",
   "name": "python",
   "nbconvert_exporter": "python",
   "pygments_lexer": "ipython3",
   "version": "3.11.3"
  },
  "orig_nbformat": 4
 },
 "nbformat": 4,
 "nbformat_minor": 2
}
