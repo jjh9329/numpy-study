{
 "cells": [
  {
   "attachments": {},
   "cell_type": "markdown",
   "metadata": {},
   "source": [
    "numpy.maximum()\n",
    "- 두 개의 배열을 가져와 요소별 최댓값 계산\n",
    "- boradcasting 될 수 있"
   ]
  },
  {
   "cell_type": "code",
   "execution_count": 1,
   "metadata": {},
   "outputs": [
    {
     "name": "stdout",
     "output_type": "stream",
     "text": [
      "[4 6 9]\n"
     ]
    }
   ],
   "source": [
    "import numpy as np\n",
    "a = np.array([3,6,1])\n",
    "b = np.array([4,2,9])\n",
    "\n",
    "print(np.maximum(a,b))"
   ]
  },
  {
   "cell_type": "code",
   "execution_count": 8,
   "metadata": {},
   "outputs": [
    {
     "name": "stdout",
     "output_type": "stream",
     "text": [
      "[[1 2 3]\n",
      " [4 5 6]\n",
      " [7 8 9]]\n",
      "[4. 5. 6.]\n",
      "5.0\n"
     ]
    }
   ],
   "source": [
    "a = np.arange(1,10).reshape(3,3)\n",
    "\n",
    "print(a)\n",
    "\n",
    "print(np.median(a,axis=0))\n",
    "print(np.median(a))"
   ]
  },
  {
   "cell_type": "code",
   "execution_count": 11,
   "metadata": {},
   "outputs": [
    {
     "name": "stdout",
     "output_type": "stream",
     "text": [
      "[6. 6. 6.]\n",
      "6.666666666666667\n",
      "2.581988897471611\n",
      "2.58\n"
     ]
    }
   ],
   "source": [
    "print(np.var(a,0))\n",
    "print(np.var(a))\n",
    "\n",
    "print(np.std(a))\n",
    "print(f'{np.std(a):.2f}')\n"
   ]
  },
  {
   "attachments": {},
   "cell_type": "markdown",
   "metadata": {},
   "source": [
    "## 최솟값, 최대값 아규먼트 위치\n",
    "- numpy.argmax(): 제일 큰 갑 위치 정보\n",
    "- numpy.argmin(): 제일 작은 값 위치 정보\n",
    "- numpy.where(조건): 조건에 맞는 값 위치 정보\n",
    "- numpy.where(조건, 조건에 맞을때 값, 조건과 다를때 값): 조건 결과에 따른 원소 값 변경 "
   ]
  },
  {
   "cell_type": "code",
   "execution_count": 13,
   "metadata": {},
   "outputs": [
    {
     "name": "stdout",
     "output_type": "stream",
     "text": [
      "2\n",
      "4\n"
     ]
    }
   ],
   "source": [
    "a = np.array([5,7,9,8,1,9,3,4])\n",
    "#가장 큰 값의 위치 정보(인덱스값)\n",
    "\n",
    "print(np.argmax(a))\n",
    "print(np.argmin(a))"
   ]
  },
  {
   "cell_type": "code",
   "execution_count": 16,
   "metadata": {},
   "outputs": [
    {
     "name": "stdout",
     "output_type": "stream",
     "text": [
      "(array([1, 2, 3, 5], dtype=int64),)\n",
      "[-1  1  1  1 -1  1 -1 -1]\n",
      "[0 7 9 8 0 9 0 0]\n"
     ]
    }
   ],
   "source": [
    "#5를 초ㅘ하는 위치 정보\n",
    "print(np.where(a>5))\n",
    "#5를 초과하는 위치는1, 아니면 -1\n",
    "print(np.where(a>5,1,-1))\n",
    "print(np.where(a>5,a,0))"
   ]
  },
  {
   "attachments": {},
   "cell_type": "markdown",
   "metadata": {},
   "source": [
    "## 비교연산\n",
    "- ==,!=,>=,<=,>,<"
   ]
  },
  {
   "cell_type": "code",
   "execution_count": 18,
   "metadata": {},
   "outputs": [
    {
     "name": "stdout",
     "output_type": "stream",
     "text": [
      "[ True  True  True]\n",
      "[False  True False]\n"
     ]
    }
   ],
   "source": [
    "a = np.array([1,2,3])\n",
    "b = np.array([1,2,3])\n",
    "c = np.array([3,2,5])\n",
    "\n",
    "print(a == b)\n",
    "\n",
    "print(a == c)"
   ]
  },
  {
   "cell_type": "code",
   "execution_count": 20,
   "metadata": {},
   "outputs": [
    {
     "name": "stdout",
     "output_type": "stream",
     "text": [
      "[[False  True False]\n",
      " [ True False  True]\n",
      " [False  True False]]\n",
      "[2 4 6 8]\n"
     ]
    }
   ],
   "source": [
    "a = np.arange(1,10).reshape(3,3)\n",
    "\n",
    "result = a % 2 == 0\n",
    "print(result)\n",
    "print(a[result])"
   ]
  },
  {
   "attachments": {},
   "cell_type": "markdown",
   "metadata": {},
   "source": [
    "numpy.all(),numpy.any()\n",
    "- all(): 전체 요소가 같아야 하나의 True값을 반환\n",
    "- any(): 전체 요소중 하나만 같아도 True값을 반환"
   ]
  },
  {
   "cell_type": "code",
   "execution_count": 23,
   "metadata": {},
   "outputs": [
    {
     "name": "stdout",
     "output_type": "stream",
     "text": [
      "True\n",
      "False\n",
      "True\n"
     ]
    }
   ],
   "source": [
    "a = np.array([1,2,3])\n",
    "b = np.array([1,2,3])\n",
    "c = np.array([3,2,5])\n",
    "\n",
    "print(np.all(a == b))\n",
    "\n",
    "print(np.all(a == c))\n",
    "\n",
    "print(np.any(a == b))"
   ]
  },
  {
   "attachments": {},
   "cell_type": "markdown",
   "metadata": {},
   "source": [
    "##논리연산\n",
    "- numpy.logical_and(), logical_or(), logical_not(), logical_xor()"
   ]
  },
  {
   "cell_type": "code",
   "execution_count": 30,
   "metadata": {},
   "outputs": [
    {
     "name": "stdout",
     "output_type": "stream",
     "text": [
      "[[ 1  2  3  4  5]\n",
      " [ 6  7  8  9 10]]\n",
      "------------------------------\n",
      "[[False  True False  True False]\n",
      " [ True False  True False  True]]\n",
      "------------------------------\n",
      "[[False False False  True  True]\n",
      " [ True  True  True  True  True]]\n",
      "------------------------------\n",
      "y and z 행렬\n",
      "[[False False False  True False]\n",
      " [ True False  True False  True]]\n",
      "y and z 행렬의 총합\n",
      "28\n"
     ]
    }
   ],
   "source": [
    "x= np.arange(1,11).reshape(2,5)\n",
    "print(x)\n",
    "print('-'*30)\n",
    "\n",
    "y = x%2 == 0\n",
    "print(y)\n",
    "print('-'*30)\n",
    "\n",
    "z = x >= 4\n",
    "print(z)\n",
    "print('-'*30)\n",
    "\n",
    "print('y and z 행렬')\n",
    "print(np.logical_and(y,z))\n",
    "print('y and z 행렬의 총합')\n",
    "print(np.sum(x[np.logical_and(y,z)]))"
   ]
  },
  {
   "attachments": {},
   "cell_type": "markdown",
   "metadata": {},
   "source": [
    "## 정렬"
   ]
  },
  {
   "cell_type": "code",
   "execution_count": 31,
   "metadata": {},
   "outputs": [
    {
     "name": "stdout",
     "output_type": "stream",
     "text": [
      "[10 37 16  1 29 26 30 49 30  9]\n"
     ]
    }
   ],
   "source": [
    "import numpy as np\n",
    "\n",
    "np.random.seed(10)\n",
    "data= np.random.randint(1,50,10)\n",
    "print(data)"
   ]
  },
  {
   "attachments": {},
   "cell_type": "markdown",
   "metadata": {},
   "source": [
    "- numpy.sort(): 데이터를 오름차순으로 정렬한다\n",
    "- 내림차순으로 정렬하는 별도의 옵션은 없다."
   ]
  },
  {
   "cell_type": "code",
   "execution_count": 33,
   "metadata": {},
   "outputs": [
    {
     "data": {
      "text/plain": [
       "array([49, 37, 30, 30, 29, 26, 16, 10,  9,  1])"
      ]
     },
     "execution_count": 33,
     "metadata": {},
     "output_type": "execute_result"
    }
   ],
   "source": [
    "np.sort(data)[::-1]"
   ]
  },
  {
   "attachments": {},
   "cell_type": "markdown",
   "metadata": {},
   "source": [
    "- numpy.argsort(): 오름차순으로 정렬한 데이터의 정렬전 인덱스 값을 반환"
   ]
  },
  {
   "cell_type": "code",
   "execution_count": 35,
   "metadata": {},
   "outputs": [
    {
     "name": "stdout",
     "output_type": "stream",
     "text": [
      "[ 1  9 10 16 26 29 30 30 37 49]\n"
     ]
    }
   ],
   "source": [
    "np.argsort(data)\n",
    "idx = np.argsort(data)\n",
    "print(data[idx])"
   ]
  },
  {
   "attachments": {},
   "cell_type": "markdown",
   "metadata": {},
   "source": [
    "## [문제] 학생 이름과 점수 데이터를 이용하여 성적이 우수한 학생 순서로 이름을 출력하시"
   ]
  },
  {
   "cell_type": "code",
   "execution_count": 55,
   "metadata": {},
   "outputs": [
    {
     "name": "stdout",
     "output_type": "stream",
     "text": [
      "['저팔계' '삼장법사' '사오정' '홍길동' '전우치']\n"
     ]
    }
   ],
   "source": [
    "name = ['홍길동','저팔계','사오정','전우치','삼장법사']\n",
    "score = [75,100,95,56,99]\n",
    "name = np.array(name)\n",
    "score = np.array(score)\n",
    "sorted_index = np.argsort(score)[::-1]\n",
    "print(name[sorted_index])\n",
    "# print(np.argsort(score))\n",
    "# idx = np.sort(score)[::-1]\n",
    "# print(idx)\n",
    "# print(name[idx])"
   ]
  },
  {
   "attachments": {},
   "cell_type": "markdown",
   "metadata": {},
   "source": [
    "## 행렬연산"
   ]
  },
  {
   "attachments": {},
   "cell_type": "markdown",
   "metadata": {},
   "source": [
    "## * 연산자\n",
    "- 형태(shpae)이 동일한 두 행렬을 원소끼리(element-wise) 곱하는 연산자\n",
    "- shpae이 다르면 오류 발생\n",
    "- **교환법칙이 성립된다**\n"
   ]
  },
  {
   "cell_type": "code",
   "execution_count": 61,
   "metadata": {},
   "outputs": [
    {
     "name": "stdout",
     "output_type": "stream",
     "text": [
      "[[4 0]\n",
      " [0 8]]\n"
     ]
    }
   ],
   "source": [
    "import numpy as np\n",
    "\n",
    "A = np.array([[1,1],[0,1]])\n",
    "B = np.array([[2,0],[3,4]])\n",
    "C = np.array([[2,4],[5,2]])\n",
    "\n",
    "\n",
    "print(A*B*C)\n",
    "\n",
    "A = np.arange(6).reshape(2,3)\n",
    "B = np.arange(6).reshape(3,2)\n",
    "# print(A*B) shape 이 달라서 오류\n"
   ]
  },
  {
   "attachments": {},
   "cell_type": "markdown",
   "metadata": {},
   "source": [
    "## numpy.dot()\n",
    "- 두 벡터의 내적을 계산하는 함수\n",
    "    - 내적이란 벡터에서 서로 대응하는 성분끼리 곱한다음 그것들을 모두 더한 것 을 말하며, 내적의 결과는 스칼라가 된다.\n",
    "    - a·b 또는 <a,b>로 표현 : a1b1 + a2b2 + .... + anbn\n",
    "- 에도 사용될 수 있다\n",
    "- 이 이뤄지기 위해서는 첫 번째 행렬의 열크기와 두번째 행의 크기가 같아야한다\n"
   ]
  },
  {
   "cell_type": "code",
   "execution_count": 4,
   "metadata": {},
   "outputs": [
    {
     "ename": "IndexError",
     "evalue": "invalid index to scalar variable.",
     "output_type": "error",
     "traceback": [
      "\u001b[1;31m---------------------------------------------------------------------------\u001b[0m",
      "\u001b[1;31mIndexError\u001b[0m                                Traceback (most recent call last)",
      "Cell \u001b[1;32mIn[4], line 5\u001b[0m\n\u001b[0;32m      3\u001b[0m b \u001b[39m=\u001b[39m np\u001b[39m.\u001b[39marray([\u001b[39m7\u001b[39m,\u001b[39m3\u001b[39m,\u001b[39m1\u001b[39m,\u001b[39m4\u001b[39m,\u001b[39m7\u001b[39m])\n\u001b[0;32m      4\u001b[0m c \u001b[39m=\u001b[39m np\u001b[39m.\u001b[39mdot(a,b)\n\u001b[1;32m----> 5\u001b[0m \u001b[39mprint\u001b[39m(c[\u001b[39m1\u001b[39;49m])\n",
      "\u001b[1;31mIndexError\u001b[0m: invalid index to scalar variable."
     ]
    }
   ],
   "source": [
    "import numpy as np\n",
    "a = np.array([3,4,6,8,9])\n",
    "b = np.array([7,3,1,4,7])\n",
    "c = np.dot(a,b)\n",
    "print(c)\n"
   ]
  },
  {
   "cell_type": "code",
   "execution_count": 67,
   "metadata": {},
   "outputs": [
    {
     "name": "stdout",
     "output_type": "stream",
     "text": [
      "[[1 1]\n",
      " [0 1]]\n",
      "[[2 0]\n",
      " [3 4]]\n",
      "------------------------------\n",
      "[[5 4]\n",
      " [3 4]]\n",
      "[[2 2]\n",
      " [3 7]]\n"
     ]
    }
   ],
   "source": [
    "a = np.array([[1,1],[0,1]])\n",
    "b = np.array([[2,0],[3,4]])\n",
    "print(a)\n",
    "print(b)\n",
    "print('-'*30)\n",
    "\n",
    "print(np.dot(a,b)) # a.dot(b)와 동일\n",
    "print(np.dot(b,a)) # 교환법칙이 성립되지 않는다"
   ]
  },
  {
   "attachments": {},
   "cell_type": "markdown",
   "metadata": {},
   "source": [
    "## numpy.matmul() / @ 연산자\n",
    "- numpy.dot()을 이용하여 행렬곱을 수행할 수 있지만, numpy 공식 문서에서는 matmul() 사용을 권장(3차원 이상의 행렬곱에서는 연산의 결과가 다)"
   ]
  },
  {
   "cell_type": "code",
   "execution_count": 69,
   "metadata": {},
   "outputs": [
    {
     "name": "stdout",
     "output_type": "stream",
     "text": [
      "[[5 4]\n",
      " [3 4]]\n",
      "[[5 4]\n",
      " [3 4]]\n"
     ]
    }
   ],
   "source": [
    "a = np.array([[1,1],[0,1]])\n",
    "b = np.array([[2,0],[3,4]])\n",
    "\n",
    "print(np.matmul(a,b))\n",
    "print(a@b) # 파이썬 3.5버전 부터 가능"
   ]
  },
  {
   "attachments": {},
   "cell_type": "markdown",
   "metadata": {},
   "source": [
    "## 전치(transpose)\n",
    "- 전치는 기존 행렬과 행과 열을 교환 하는것. 즉, 주대각선을 기준으로 반사 대칭하는 것을 말한다.\n",
    "- 배열 책체의 'T' 속성을 사용하거나 numpy.transpose()함수 이용"
   ]
  },
  {
   "cell_type": "code",
   "execution_count": 70,
   "metadata": {},
   "outputs": [
    {
     "name": "stdout",
     "output_type": "stream",
     "text": [
      "[[1 2]\n",
      " [3 4]]\n",
      "[[1 3]\n",
      " [2 4]]\n",
      "[[1 3]\n",
      " [2 4]]\n"
     ]
    }
   ],
   "source": [
    "a = np.array([[1,2],[3,4]])\n",
    "b = a.T\n",
    "c = np.transpose(a)\n",
    "print(a)\n",
    "print(b)\n",
    "print(c)"
   ]
  },
  {
   "attachments": {},
   "cell_type": "markdown",
   "metadata": {},
   "source": [
    "# 인덱싱, 슬라이싱"
   ]
  },
  {
   "attachments": {},
   "cell_type": "markdown",
   "metadata": {},
   "source": [
    "## 인덱싱"
   ]
  },
  {
   "cell_type": "code",
   "execution_count": 73,
   "metadata": {},
   "outputs": [
    {
     "name": "stdout",
     "output_type": "stream",
     "text": [
      "[[ 1  2  3  4  5]\n",
      " [ 6  7  8  9 10]]\n",
      "1\n",
      "1\n"
     ]
    }
   ],
   "source": [
    "a = np.arange(1,11).reshape(2,5)\n",
    "print(a)\n",
    "print(a[0,0])\n",
    "print(a[0][0])"
   ]
  },
  {
   "cell_type": "code",
   "execution_count": 76,
   "metadata": {},
   "outputs": [
    {
     "name": "stdout",
     "output_type": "stream",
     "text": [
      "[  0   1   8  27  64 125 216 343 512 729]\n",
      "8\n",
      "[ 8 27 64]\n"
     ]
    }
   ],
   "source": [
    "a = np.arange(10)**3\n",
    "print(a)\n",
    "print(a[2])\n",
    "print(a[2:5])"
   ]
  },
  {
   "attachments": {},
   "cell_type": "markdown",
   "metadata": {},
   "source": [
    "### Boolean Indexing (masking)"
   ]
  },
  {
   "cell_type": "code",
   "execution_count": 88,
   "metadata": {},
   "outputs": [
    {
     "name": "stdout",
     "output_type": "stream",
     "text": [
      "[[ 1  2  3  4  5  6]\n",
      " [ 7  8  9 10 11 12]\n",
      " [13 14 15 16 17 18]\n",
      " [19 20 21 22 23 24]]\n",
      "[[False  True False  True False  True]\n",
      " [False  True False  True False  True]\n",
      " [False  True False  True False  True]\n",
      " [False  True False  True False  True]]\n",
      "156\n",
      "156\n"
     ]
    }
   ],
   "source": [
    "a = np.arange(1,25).reshape(4,6)\n",
    "print(a)\n",
    "\n",
    "even_arr = a%2 ==0\n",
    "print(even_arr)\n",
    "print(np.sum(a[even_arr]))\n",
    "\n",
    "print(np.sum(a[a%2 == 0]))"
   ]
  },
  {
   "attachments": {},
   "cell_type": "markdown",
   "metadata": {},
   "source": [
    "### Fancy Indexing\n",
    "- 배열의 각 요소 선택을  **인덱스 배열을 전달하여** 참조하는 방식\n",
    "- fancy indexing은 복사본이 생성된다."
   ]
  },
  {
   "cell_type": "code",
   "execution_count": 99,
   "metadata": {},
   "outputs": [
    {
     "name": "stdout",
     "output_type": "stream",
     "text": [
      "[[ 0  1  2]\n",
      " [ 3  4  5]\n",
      " [ 6  7  8]\n",
      " [ 9 10 11]\n",
      " [12 13 14]]\n",
      "--------------------\n",
      "[0 1 2] [6 7 8]\n",
      "[[0 1 2]\n",
      " [6 7 8]]\n",
      "[[ 0  2]\n",
      " [ 3  5]\n",
      " [ 6  8]\n",
      " [ 9 11]\n",
      " [12 14]]\n",
      "--------------------\n",
      "[[3 4 5]\n",
      " [6 7 8]]\n",
      "--------------------\n",
      "[[ 0  2]\n",
      " [ 6  8]\n",
      " [12 14]]\n"
     ]
    }
   ],
   "source": [
    "a = np.arange(15).reshape(5,3)\n",
    "print(a)\n",
    "print('-'*20)\n",
    "\n",
    "# 0행,2행만 인덱싱\n",
    "print(a[0,:],a[2,:])\n",
    "print(a[[0,2],:])\n",
    "\n",
    "#전체행에 대해\n",
    "print(a[:,[0,2]])\n",
    "print('-'*20)\n",
    "\n",
    "print(a[[1,2]])\n",
    "print('-'*20)\n",
    "\n",
    "\n",
    "#두 번 인덱싱\n",
    "# 0, 2, 4행에서 0열,2열 인덱싱\n",
    "print(a[[0,2,4]][:,[0,2]])\n"
   ]
  },
  {
   "cell_type": "code",
   "execution_count": 107,
   "metadata": {},
   "outputs": [
    {
     "name": "stdout",
     "output_type": "stream",
     "text": [
      "[[ 0  1  2  3]\n",
      " [ 4  5  6  7]\n",
      " [ 8  9 10 11]\n",
      " [12 13 14 15]\n",
      " [16 17 18 19]]\n",
      "--------------------\n",
      "[[ 0  1  2  3]\n",
      " [ 8  9 10 11]\n",
      " [16 17 18 19]]\n",
      "--------------------\n",
      "[[100 100 100 100]\n",
      " [  8   9  10  11]\n",
      " [ 16  17  18  19]]\n",
      "--------------------\n",
      "[[ 0  1  2  3]\n",
      " [ 4  5  6  7]\n",
      " [ 8  9 10 11]\n",
      " [12 13 14 15]\n",
      " [16 17 18 19]]\n"
     ]
    }
   ],
   "source": [
    "a = np.arange(20).reshape(5,4)\n",
    "print(a)\n",
    "print('-'*20)\n",
    "\n",
    "copied = a[[0,2,4]][:]\n",
    "print(copied)\n",
    "print('-'*20)\n",
    "\n",
    "copied[0,:] = 100\n",
    "print(copied)\n",
    "print('-'*20)\n",
    "\n",
    "\n",
    "print(a)"
   ]
  },
  {
   "attachments": {},
   "cell_type": "markdown",
   "metadata": {},
   "source": [
    "## 슬라이싱\n",
    "- a[행 슬라이스 시작: 행 슬라이스 끝, 열 슬라이싱 시작: 열슬라이싱 끝]\n",
    "- numpy에서 슬라이싱은 **동일한 메모리 영역의 뷰를 반환**한다.\n",
    "- 즉, 뷰를 변경할 경우에는 **원본 데이터의 원소도 변경**된다."
   ]
  },
  {
   "cell_type": "code",
   "execution_count": 113,
   "metadata": {},
   "outputs": [
    {
     "name": "stdout",
     "output_type": "stream",
     "text": [
      "[[ 1  2  3  4]\n",
      " [ 5  6  7  8]\n",
      " [ 9 10 11 12]]\n",
      "--------------------\n",
      "[[1 2 3]\n",
      " [5 6 7]]\n",
      "--------------------\n",
      "[[1 2 3 4]\n",
      " [5 6 7 8]]\n",
      "--------------------\n",
      "[[1 2 3 4]\n",
      " [5 6 7 8]]\n"
     ]
    }
   ],
   "source": [
    "a = np.arange(1,13).reshape(3,4)\n",
    "print(a)\n",
    "print('-'*20)\n",
    "\n",
    "print(a[0:2,0:3])\n",
    "print('-'*20)\n",
    "\n",
    "print(a[:2,:])\n",
    "print('-'*20)\n",
    "\n",
    "print(a[:2])"
   ]
  },
  {
   "cell_type": "code",
   "execution_count": 118,
   "metadata": {},
   "outputs": [
    {
     "name": "stdout",
     "output_type": "stream",
     "text": [
      "[[1 2 3 4]]\n",
      "[[ 9 10 11 12]\n",
      " [ 5  6  7  8]\n",
      " [ 9 10 11 12]]\n"
     ]
    }
   ],
   "source": [
    "a_view = a[:1]\n",
    "print(a_view)\n",
    "a_view[0] = [9,10,11,12]\n",
    "print(a)"
   ]
  },
  {
   "attachments": {},
   "cell_type": "markdown",
   "metadata": {},
   "source": [
    "## [문제] 슬라이싱 실"
   ]
  },
  {
   "cell_type": "code",
   "execution_count": 134,
   "metadata": {},
   "outputs": [
    {
     "name": "stdout",
     "output_type": "stream",
     "text": [
      "[[ 1  2  3  4  5  6]\n",
      " [ 7  8  9 10 11 12]\n",
      " [13 14 15 16 17 18]\n",
      " [19 20 21 22 23 24]]\n",
      "--------------------\n",
      "[[ 2  3  4  5]\n",
      " [ 8  9 10 11]\n",
      " [14 15 16 17]\n",
      " [20 21 22 23]]\n",
      "--------------------\n",
      "[[ 2  3]\n",
      " [ 8  9]\n",
      " [14 15]\n",
      " [20 21]]\n",
      "--------------------\n",
      "[[7 8]]\n",
      "--------------------\n",
      "[[ 6]\n",
      " [12]\n",
      " [18]\n",
      " [24]]\n",
      "[[ 6]\n",
      " [12]\n",
      " [18]\n",
      " [24]]\n",
      "--------------------\n"
     ]
    }
   ],
   "source": [
    "origin = np.arange(1,25).reshape(4,6)\n",
    "print(origin)\n",
    "print('-'*20)\n",
    "\n",
    "#가운데 요소 가져오기\n",
    "print(origin[:,1:5])\n",
    "print('-'*20)\n",
    "\n",
    "# 2 전체행, 1,2열 가져오기\n",
    "print(origin[:,1:3])\n",
    "print('-'*20)\n",
    "\n",
    "# 3 1행, 0,1열 가져오기\n",
    "print(origin[1:2,:2])\n",
    "print('-'*20)\n",
    "\n",
    "# 4 각 행의 마지막 열 데이터만 추출하여 2차원 열 벡터로 변경\n",
    "print(origin[:,-1:])\n",
    "print(origin[:,-1].reshape(-1,1))\n",
    "print('-'*20)\n"
   ]
  },
  {
   "attachments": {},
   "cell_type": "markdown",
   "metadata": {},
   "source": [
    "## 인덱싱 & 슬라이싱 그리고 차원\n",
    "- 정수 인덱싱과 슬라이싱을 혼합해서 사용하면 낮은 차원의 배열이 생성된다\n",
    "- 슬라이싱만 사용하면 원본 배열과 동일한 차원의 배열이 생성된다"
   ]
  },
  {
   "cell_type": "code",
   "execution_count": 133,
   "metadata": {},
   "outputs": [
    {
     "name": "stdout",
     "output_type": "stream",
     "text": [
      "[[ 1  2  3  4]\n",
      " [ 5  6  7  8]\n",
      " [ 9 10 11 12]] (3, 4) 2\n",
      "--------------------\n",
      "슬라이싱만 사용\n",
      "[[1 2 3 4]] (1, 4) 2\n",
      "인덱싱만 사용\n",
      "[1 2 3 4] (4,) 1\n",
      "인뎅싱&슬라이싱 혼합 사용\n",
      "[1 2 3 4] (4,) 1\n"
     ]
    }
   ],
   "source": [
    "a = np.arange(1,13).reshape(3,4)\n",
    "print(a,a.shape,a.ndim)\n",
    "print('-'*20)\n",
    "\n",
    "print('슬라이싱만 사용')\n",
    "slicedRow = a[:1,:]\n",
    "print(slicedRow,slicedRow.shape,slicedRow.ndim)\n",
    "\n",
    "print('인덱싱만 사용')\n",
    "indexedRow = a[0]\n",
    "print(indexedRow,indexedRow.shape,indexedRow.ndim)\n",
    "\n",
    "print('인뎅싱&슬라이싱 혼합 사용')\n",
    "mixedRow = a[0,:]\n",
    "print(mixedRow,mixedRow.shape,mixedRow.ndim)"
   ]
  },
  {
   "attachments": {
    "image.png": {
     "image/png": "[encoded data removed]"
    }
   },
   "cell_type": "markdown",
   "metadata": {},
   "source": [
    "#Broadcasting\n",
    "- shape이 다른 numpy배열이 연산을 하려고 할 때 특정 조건이 만족되면 자동으로 연산이 가능한 형태로 변환하는 것\n",
    "- numpy에서 vector나 matrix간에 사칙연산을 하면 같은 위치의 원소 끼리 계산이 이뤄지며, 이렇게 되려면 vector나 matrix가\n",
    "-  형태가 같아야하는대 이때 shape이 맞춰 지는것을 broadcasting 이라고 한다\n",
    "\n",
    "![image.png](attachment:image.png)"
   ]
  },
  {
   "cell_type": "code",
   "execution_count": 137,
   "metadata": {},
   "outputs": [
    {
     "name": "stdout",
     "output_type": "stream",
     "text": [
      "[16 26 36 46]\n",
      "------------------------------\n",
      "[1, 2, 3, 1, 2, 3]\n",
      "[ 40  60  80 100]\n"
     ]
    }
   ],
   "source": [
    "a = np.array([20,30,40,50])\n",
    "b = np.array(4)\n",
    "\n",
    "print(a -b)\n",
    "print('-'*30)\n",
    "\n",
    "print([1,2,3] * 2)\n",
    "print(a*2)"
   ]
  },
  {
   "attachments": {},
   "cell_type": "markdown",
   "metadata": {},
   "source": [
    "# random 모듈을 이용한 배열의 생성"
   ]
  },
  {
   "cell_type": "code",
   "execution_count": 138,
   "metadata": {},
   "outputs": [],
   "source": [
    "import numpy as np\n",
    "import matplotlib.pyplot as plt"
   ]
  },
  {
   "attachments": {},
   "cell_type": "markdown",
   "metadata": {},
   "source": [
    "## np.random.rand()\n",
    "- 0이상 1미만의 임의의 균등 분포를 갖는 실수를 만든다.\n",
    "- shpae을 전달하면 그 크기에 맞는 다차원 배열을 생성한"
   ]
  },
  {
   "cell_type": "code",
   "execution_count": 140,
   "metadata": {},
   "outputs": [
    {
     "name": "stdout",
     "output_type": "stream",
     "text": [
      "0.8166018352206666\n",
      "[0.33607158 0.89081653 0.19812181]\n",
      "[[0.03061665 0.87761494 0.72743551 0.54088093]\n",
      " [0.13145815 0.41366737 0.77872881 0.58390137]\n",
      " [0.18263144 0.82608225 0.10540183 0.28357668]]\n"
     ]
    }
   ],
   "source": [
    "a = np.random.rand() # 난수 1개 발생\n",
    "print(a)\n",
    "\n",
    "b =  np.random.rand(3) #1차원 배열 생성\n",
    "print(b)\n",
    "\n",
    "c = np.random.rand(3,4) #2차원 배열 새엇ㅇ\n",
    "print(c)"
   ]
  },
  {
   "cell_type": "code",
   "execution_count": 154,
   "metadata": {},
   "outputs": [
    {
     "data": {
      "image/png": "[encoded data removed]",
      "text/plain": [
       "<Figure size 640x480 with 1 Axes>"
      ]
     },
     "metadata": {},
     "output_type": "display_data"
    }
   ],
   "source": [
    "# 균등 분포 그래프 확인\n",
    "\n",
    "a = np.random.rand(1000)\n",
    "b = np.random.rand(10000)\n",
    "c = np.random.rand(100000)\n",
    "\n",
    "#도수분포표 histogram\n",
    "#alpha 투명도\n",
    "plt.hist(a,bins=100,density=True,alpha=0.5,histtype='step',label='n=1000')\n",
    "plt.hist(b,bins=100,density=True,alpha=0.75,histtype='step',label='n=10000')\n",
    "plt.hist(c,bins=100,density=True,alpha=1,histtype='step',label='n=100000')\n",
    "\n",
    "plt.legend()\n",
    "plt.show()"
   ]
  },
  {
   "attachments": {},
   "cell_type": "markdown",
   "metadata": {},
   "source": [
    "## np.random.randint()\n",
    "- 주어진 범위의 임의의 균등분포 정수를 만든다."
   ]
  },
  {
   "cell_type": "code",
   "execution_count": 177,
   "metadata": {},
   "outputs": [
    {
     "name": "stdout",
     "output_type": "stream",
     "text": [
      "1\n",
      "[2 2 1 2 2 2 2 1 1 1]\n",
      "4\n",
      "[[36 95 58 ...  4 12  7]\n",
      " [32 95 48 ... 36 19 53]\n",
      " [63 21 76 ... 86 66 33]\n",
      " ...\n",
      " [85 26 26 ...  8 22 35]\n",
      " [86 92 63 ... 23 85  6]\n",
      " [93 40 72 ... 53 85 65]]\n"
     ]
    }
   ],
   "source": [
    "# numpy에서 randint는 끝 값을 포함하지않는다\n",
    "# 0 이상 3미만의 임의의 정수 1개 생성\n",
    "a = np.random.randint(3)\n",
    "print(a)\n",
    "\n",
    "# 0 이상 3미만의 임의의 정수 10개 생성\n",
    "b = np.random.randint(3,size=10)\n",
    "print(b)\n",
    "\n",
    "# 2 이상 5미만의 임의의 정수 10개 생성\n",
    "c = np.random.randint(2,5)\n",
    "print(c)\n",
    "\n",
    "# 0 이상 100미만의 임의의 정수 100,100 2차원 배열로 생성\n",
    "d = np.random.randint(0,100, (100,100))\n",
    "print(d)"
   ]
  },
  {
   "attachments": {},
   "cell_type": "markdown",
   "metadata": {},
   "source": [
    "## np.random.randn()\n",
    "- 표준정규분포(표준편차는 1,평균은 0으로 이루어진 데이터)로부터 샘플링 된 난수를 발생"
   ]
  },
  {
   "cell_type": "code",
   "execution_count": 189,
   "metadata": {},
   "outputs": [
    {
     "name": "stdout",
     "output_type": "stream",
     "text": [
      "-0.3049237840728582\n",
      "[[-1.3581716  -1.20621824 -0.62138658 ... -0.3710071  -2.20888699\n",
      "   2.23105513]\n",
      " [-1.26784295  1.46534942 -1.14219996 ...  0.56028446  1.20950209\n",
      "  -0.09056911]\n",
      " [-0.91202722 -0.16711474  0.51513482 ... -1.5064621   0.76052896\n",
      "   0.26685238]\n",
      " ...\n",
      " [ 2.27749015  0.69729153  2.11665516 ...  1.68407403 -0.04231439\n",
      "   0.17707693]\n",
      " [ 1.77547178 -0.88086532 -0.39957621 ...  1.67852894 -0.81321326\n",
      "   0.10900503]\n",
      " [ 0.61057551 -1.8473074  -0.31453583 ...  1.60022984  0.0030057\n",
      "  -0.39583311]]\n",
      "평균: -0.012132467453471378\n",
      "표준편차: 1.002143835515951\n"
     ]
    }
   ],
   "source": [
    "#난수 1개 발생\n",
    "a = np.random.randn()\n",
    "print(a)\n",
    "\n",
    "#2차원 배열로 생성\n",
    "b = np.random.randn(100, 100)\n",
    "print(b) \n",
    "\n",
    "print('평균:', np.mean(b))\n",
    "print('표준편차:', np.std(b))"
   ]
  },
  {
   "attachments": {},
   "cell_type": "markdown",
   "metadata": {},
   "source": [
    "## np.random.choice()\n",
    "- 주어진 1차원 행렬에서 랜덤으로 샘플링 한다.\n",
    "- replace=False: 중복 샘플링을 하지 않는다. (default: replace=True)"
   ]
  },
  {
   "cell_type": "code",
   "execution_count": 202,
   "metadata": {},
   "outputs": [
    {
     "name": "stdout",
     "output_type": "stream",
     "text": [
      "[3 3 3]\n"
     ]
    }
   ],
   "source": [
    "data = np.array([4,43,4,7,7,8,3,23,3,4,5,3,32])\n",
    "a = np.random.choice(data, size =(3,), replace=False)\n",
    "print(a)"
   ]
  },
  {
   "cell_type": "markdown",
   "metadata": {},
   "source": []
  }
 ],
 "metadata": {
  "kernelspec": {
   "display_name": "Python 3",
   "language": "python",
   "name": "python3"
  },
  "language_info": {
   "codemirror_mode": {
    "name": "ipython",
    "version": 3
   },
   "file_extension": ".py",
   "mimetype": "text/x-python",
   "name": "python",
   "nbconvert_exporter": "python",
   "pygments_lexer": "ipython3",
   "version": "3.11.3"
  },
  "orig_nbformat": 4
 },
 "nbformat": 4,
 "nbformat_minor": 2
}
