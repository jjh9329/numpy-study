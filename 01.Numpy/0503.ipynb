{
 "cells": [
  {
   "attachments": {},
   "cell_type": "markdown",
   "metadata": {},
   "source": [
    "numpy.maximum()\n",
    "- 두 개의 배열을 가져와 요소별 최댓값 계산\n",
    "- boradcasting 될 수 있"
   ]
  },
  {
   "cell_type": "code",
   "execution_count": 1,
   "metadata": {},
   "outputs": [
    {
     "name": "stdout",
     "output_type": "stream",
     "text": [
      "[4 6 9]\n"
     ]
    }
   ],
   "source": [
    "import numpy as np\n",
    "a = np.array([3,6,1])\n",
    "b = np.array([4,2,9])\n",
    "\n",
    "print(np.maximum(a,b))"
   ]
  },
  {
   "cell_type": "code",
   "execution_count": 8,
   "metadata": {},
   "outputs": [
    {
     "name": "stdout",
     "output_type": "stream",
     "text": [
      "[[1 2 3]\n",
      " [4 5 6]\n",
      " [7 8 9]]\n",
      "[4. 5. 6.]\n",
      "5.0\n"
     ]
    }
   ],
   "source": [
    "a = np.arange(1,10).reshape(3,3)\n",
    "\n",
    "print(a)\n",
    "\n",
    "print(np.median(a,axis=0))\n",
    "print(np.median(a))"
   ]
  },
  {
   "cell_type": "code",
   "execution_count": 11,
   "metadata": {},
   "outputs": [
    {
     "name": "stdout",
     "output_type": "stream",
     "text": [
      "[6. 6. 6.]\n",
      "6.666666666666667\n",
      "2.581988897471611\n",
      "2.58\n"
     ]
    }
   ],
   "source": [
    "print(np.var(a,0))\n",
    "print(np.var(a))\n",
    "\n",
    "print(np.std(a))\n",
    "print(f'{np.std(a):.2f}')\n"
   ]
  },
  {
   "attachments": {},
   "cell_type": "markdown",
   "metadata": {},
   "source": [
    "## 최솟값, 최대값 아규먼트 위치\n",
    "- numpy.argmax(): 제일 큰 갑 위치 정보\n",
    "- numpy.argmin(): 제일 작은 갑 위치 정보\n",
    "- numpy.where(조건): 조건에 맞는 값 위치 정보\n",
    "- numpy.where(조건, 조건에 맞을때 값, 조건과 다를때 값): 조건 결과에 따른 원소 값 변경 "
   ]
  },
  {
   "cell_type": "code",
   "execution_count": 13,
   "metadata": {},
   "outputs": [
    {
     "name": "stdout",
     "output_type": "stream",
     "text": [
      "2\n",
      "4\n"
     ]
    }
   ],
   "source": [
    "a = np.array([5,7,9,8,1,9,3,4])\n",
    "#가장 큰 값의 위치 정보(인덱스값)\n",
    "\n",
    "print(np.argmax(a))\n",
    "print(np.argmin(a))"
   ]
  },
  {
   "cell_type": "code",
   "execution_count": 16,
   "metadata": {},
   "outputs": [
    {
     "name": "stdout",
     "output_type": "stream",
     "text": [
      "(array([1, 2, 3, 5], dtype=int64),)\n",
      "[-1  1  1  1 -1  1 -1 -1]\n",
      "[0 7 9 8 0 9 0 0]\n"
     ]
    }
   ],
   "source": [
    "#5를 초ㅘ하는 위치 정보\n",
    "print(np.where(a>5))\n",
    "#5를 초과하는 위치는1, 아니면 -1\n",
    "print(np.where(a>5,1,-1))\n",
    "print(np.where(a>5,a,0))"
   ]
  },
  {
   "attachments": {},
   "cell_type": "markdown",
   "metadata": {},
   "source": [
    "## 비교연산\n",
    "- ==,!=,>=,<=,>,<"
   ]
  },
  {
   "cell_type": "code",
   "execution_count": 18,
   "metadata": {},
   "outputs": [
    {
     "name": "stdout",
     "output_type": "stream",
     "text": [
      "[ True  True  True]\n",
      "[False  True False]\n"
     ]
    }
   ],
   "source": [
    "a = np.array([1,2,3])\n",
    "b = np.array([1,2,3])\n",
    "c = np.array([3,2,5])\n",
    "\n",
    "print(a == b)\n",
    "\n",
    "print(a == c)"
   ]
  },
  {
   "cell_type": "code",
   "execution_count": 20,
   "metadata": {},
   "outputs": [
    {
     "name": "stdout",
     "output_type": "stream",
     "text": [
      "[[False  True False]\n",
      " [ True False  True]\n",
      " [False  True False]]\n",
      "[2 4 6 8]\n"
     ]
    }
   ],
   "source": [
    "a = np.arange(1,10).reshape(3,3)\n",
    "\n",
    "result = a % 2 == 0\n",
    "print(result)\n",
    "print(a[result])"
   ]
  },
  {
   "attachments": {},
   "cell_type": "markdown",
   "metadata": {},
   "source": [
    "numpy.all(),numpy.any()\n",
    "- all(): 전체 요소가 같아야 하나의 True값을 반환\n",
    "- any(): 전체 요소중 하나만 같아도 True값을 반환"
   ]
  },
  {
   "cell_type": "code",
   "execution_count": 23,
   "metadata": {},
   "outputs": [
    {
     "name": "stdout",
     "output_type": "stream",
     "text": [
      "True\n",
      "False\n",
      "True\n"
     ]
    }
   ],
   "source": [
    "a = np.array([1,2,3])\n",
    "b = np.array([1,2,3])\n",
    "c = np.array([3,2,5])\n",
    "\n",
    "print(np.all(a == b))\n",
    "\n",
    "print(np.all(a == c))\n",
    "\n",
    "print(np.any(a == b))"
   ]
  },
  {
   "attachments": {},
   "cell_type": "markdown",
   "metadata": {},
   "source": [
    "##논리연산\n",
    "- numpy.logical_and(), logical_or(), logical_not(), logical_xor()"
   ]
  },
  {
   "cell_type": "code",
   "execution_count": 30,
   "metadata": {},
   "outputs": [
    {
     "name": "stdout",
     "output_type": "stream",
     "text": [
      "[[ 1  2  3  4  5]\n",
      " [ 6  7  8  9 10]]\n",
      "------------------------------\n",
      "[[False  True False  True False]\n",
      " [ True False  True False  True]]\n",
      "------------------------------\n",
      "[[False False False  True  True]\n",
      " [ True  True  True  True  True]]\n",
      "------------------------------\n",
      "y and z 행렬\n",
      "[[False False False  True False]\n",
      " [ True False  True False  True]]\n",
      "y and z 행렬의 총합\n",
      "28\n"
     ]
    }
   ],
   "source": [
    "x= np.arange(1,11).reshape(2,5)\n",
    "print(x)\n",
    "print('-'*30)\n",
    "\n",
    "y = x%2 == 0\n",
    "print(y)\n",
    "print('-'*30)\n",
    "\n",
    "z = x >= 4\n",
    "print(z)\n",
    "print('-'*30)\n",
    "\n",
    "print('y and z 행렬')\n",
    "print(np.logical_and(y,z))\n",
    "print('y and z 행렬의 총합')\n",
    "print(np.sum(x[np.logical_and(y,z)]))"
   ]
  },
  {
   "attachments": {},
   "cell_type": "markdown",
   "metadata": {},
   "source": [
    "## 정렬"
   ]
  },
  {
   "cell_type": "code",
   "execution_count": 31,
   "metadata": {},
   "outputs": [
    {
     "name": "stdout",
     "output_type": "stream",
     "text": [
      "[10 37 16  1 29 26 30 49 30  9]\n"
     ]
    }
   ],
   "source": [
    "import numpy as np\n",
    "\n",
    "np.random.seed(10)\n",
    "data= np.random.randint(1,50,10)\n",
    "print(data)"
   ]
  },
  {
   "attachments": {},
   "cell_type": "markdown",
   "metadata": {},
   "source": [
    "- numpy.sort(): 데이터를 오름차순으로 정렬한다\n",
    "- 내림차순으로 정렬하는 별도의 옵션은 없다."
   ]
  },
  {
   "cell_type": "code",
   "execution_count": 33,
   "metadata": {},
   "outputs": [
    {
     "data": {
      "text/plain": [
       "array([49, 37, 30, 30, 29, 26, 16, 10,  9,  1])"
      ]
     },
     "execution_count": 33,
     "metadata": {},
     "output_type": "execute_result"
    }
   ],
   "source": [
    "np.sort(data)[::-1]"
   ]
  },
  {
   "attachments": {},
   "cell_type": "markdown",
   "metadata": {},
   "source": [
    "- numpy.argsort(): 오름차순으로 정렬한 데이터의 정렬전 인덱스 값을 반환"
   ]
  },
  {
   "cell_type": "code",
   "execution_count": 35,
   "metadata": {},
   "outputs": [
    {
     "name": "stdout",
     "output_type": "stream",
     "text": [
      "[ 1  9 10 16 26 29 30 30 37 49]\n"
     ]
    }
   ],
   "source": [
    "np.argsort(data)\n",
    "idx = np.argsort(data)\n",
    "print(data[idx])"
   ]
  },
  {
   "attachments": {},
   "cell_type": "markdown",
   "metadata": {},
   "source": [
    "## [문제] 학생 이름과 점수 데이터를 이용하여 성적이 우수한 학생 순서로 이름을 출력하시"
   ]
  },
  {
   "cell_type": "code",
   "execution_count": 55,
   "metadata": {},
   "outputs": [
    {
     "name": "stdout",
     "output_type": "stream",
     "text": [
      "['저팔계' '삼장법사' '사오정' '홍길동' '전우치']\n"
     ]
    }
   ],
   "source": [
    "name = ['홍길동','저팔계','사오정','전우치','삼장법사']\n",
    "score = [75,100,95,56,99]\n",
    "name = np.array(name)\n",
    "score = np.array(score)\n",
    "sorted_index = np.argsort(score)[::-1]\n",
    "print(name[sorted_index])\n",
    "# print(np.argsort(score))\n",
    "# idx = np.sort(score)[::-1]\n",
    "# print(idx)\n",
    "# print(name[idx])"
   ]
  },
  {
   "attachments": {},
   "cell_type": "markdown",
   "metadata": {},
   "source": [
    "## 행렬연산"
   ]
  },
  {
   "attachments": {},
   "cell_type": "markdown",
   "metadata": {},
   "source": [
    "## * 연산자\n",
    "- 형태(shpae)이 동일한 두 행렬을 원소끼리(element-wise) 곱하는 연산자\n",
    "- shpae이 다르면 오류 발생\n",
    "- **교환법칙이 성립된다**\n"
   ]
  },
  {
   "cell_type": "code",
   "execution_count": 61,
   "metadata": {},
   "outputs": [
    {
     "name": "stdout",
     "output_type": "stream",
     "text": [
      "[[4 0]\n",
      " [0 8]]\n"
     ]
    }
   ],
   "source": [
    "import numpy as np\n",
    "\n",
    "A = np.array([[1,1],[0,1]])\n",
    "B = np.array([[2,0],[3,4]])\n",
    "C = np.array([[2,4],[5,2]])\n",
    "\n",
    "\n",
    "print(A*B*C)\n",
    "\n",
    "A = np.arange(6).reshape(2,3)\n",
    "B = np.arange(6).reshape(3,2)\n",
    "# print(A*B) shape 이 달라서 오류\n"
   ]
  },
  {
   "attachments": {},
   "cell_type": "markdown",
   "metadata": {},
   "source": [
    "## numpy.dot()\n",
    "- 두 벡터의 내적을 계산하는 함수\n",
    "    - 내적이란 벡터에서 서로 대응하는 성분끼리 곱한다음 그것들을 모두 더한 것 을 말하며, 내적의 결과는 스칼라가 된다.\n",
    "    - a·b 또는 <a,b>로 표현 : a1b1 + a2b2 + .... + anbn\n",
    "- 행렬곱에도 사용될 수 있다\n",
    "- 행렬곱이 이뤄지기 위해서는 첫 번째 행렬의 열크기와 두번째 행의 크기가 같아야한다\n"
   ]
  },
  {
   "cell_type": "code",
   "execution_count": 63,
   "metadata": {},
   "outputs": [
    {
     "name": "stdout",
     "output_type": "stream",
     "text": [
      "134\n"
     ]
    }
   ],
   "source": [
    "a = np.array([3,4,6,8,9])\n",
    "b = np.array([7,3,1,4,7])\n",
    "c = np.dot(a,b)\n",
    "print(c)\n"
   ]
  },
  {
   "cell_type": "code",
   "execution_count": 67,
   "metadata": {},
   "outputs": [
    {
     "name": "stdout",
     "output_type": "stream",
     "text": [
      "[[1 1]\n",
      " [0 1]]\n",
      "[[2 0]\n",
      " [3 4]]\n",
      "------------------------------\n",
      "[[5 4]\n",
      " [3 4]]\n",
      "[[2 2]\n",
      " [3 7]]\n"
     ]
    }
   ],
   "source": [
    "a = np.array([[1,1],[0,1]])\n",
    "b = np.array([[2,0],[3,4]])\n",
    "print(a)\n",
    "print(b)\n",
    "print('-'*30)\n",
    "\n",
    "print(np.dot(a,b)) # a.dot(b)와 동일\n",
    "print(np.dot(b,a)) # 교환법칙이 성립되지 않는다"
   ]
  },
  {
   "attachments": {},
   "cell_type": "markdown",
   "metadata": {},
   "source": [
    "## numpy.matmul() / @ 연산자\n",
    "- numpy.dot()을 이용하여 행렬곱을 수행할 수 있지만, numpy 공식 문서에서는 matmul() 사용을 권장(3차원 이상의 행렬곱에서는 연산의 결과가 다)"
   ]
  },
  {
   "cell_type": "code",
   "execution_count": 69,
   "metadata": {},
   "outputs": [
    {
     "name": "stdout",
     "output_type": "stream",
     "text": [
      "[[5 4]\n",
      " [3 4]]\n",
      "[[5 4]\n",
      " [3 4]]\n"
     ]
    }
   ],
   "source": [
    "a = np.array([[1,1],[0,1]])\n",
    "b = np.array([[2,0],[3,4]])\n",
    "\n",
    "print(np.matmul(a,b))\n",
    "print(a@b) # 파이썬 3.5버전 부터 가능"
   ]
  },
  {
   "attachments": {},
   "cell_type": "markdown",
   "metadata": {},
   "source": [
    "## 전치(transpose)\n",
    "- 전치는 기존 행렬과 행과 열을 교환 하는것. 즉, 주대각선을 기준으로 반사 대칭하는 것을 말한다.\n",
    "- 배열 책체의 'T' 속성을 사용하거나 numpy.transpose()함수 이용"
   ]
  },
  {
   "cell_type": "code",
   "execution_count": 70,
   "metadata": {},
   "outputs": [
    {
     "name": "stdout",
     "output_type": "stream",
     "text": [
      "[[1 2]\n",
      " [3 4]]\n",
      "[[1 3]\n",
      " [2 4]]\n",
      "[[1 3]\n",
      " [2 4]]\n"
     ]
    }
   ],
   "source": [
    "a = np.array([[1,2],[3,4]])\n",
    "b = a.T\n",
    "c = np.transpose(a)\n",
    "print(a)\n",
    "print(b)\n",
    "print(c)"
   ]
  },
  {
   "attachments": {},
   "cell_type": "markdown",
   "metadata": {},
   "source": [
    "# 인덱싱, 슬라이싱"
   ]
  },
  {
   "attachments": {},
   "cell_type": "markdown",
   "metadata": {},
   "source": [
    "## 인덱싱"
   ]
  },
  {
   "cell_type": "code",
   "execution_count": 73,
   "metadata": {},
   "outputs": [
    {
     "name": "stdout",
     "output_type": "stream",
     "text": [
      "[[ 1  2  3  4  5]\n",
      " [ 6  7  8  9 10]]\n",
      "1\n",
      "1\n"
     ]
    }
   ],
   "source": [
    "a = np.arange(1,11).reshape(2,5)\n",
    "print(a)\n",
    "print(a[0,0])\n",
    "print(a[0][0])"
   ]
  },
  {
   "cell_type": "code",
   "execution_count": 76,
   "metadata": {},
   "outputs": [
    {
     "name": "stdout",
     "output_type": "stream",
     "text": [
      "[  0   1   8  27  64 125 216 343 512 729]\n",
      "8\n",
      "[ 8 27 64]\n"
     ]
    }
   ],
   "source": [
    "a = np.arange(10)**3\n",
    "print(a)\n",
    "print(a[2])\n",
    "print(a[2:5])"
   ]
  },
  {
   "attachments": {},
   "cell_type": "markdown",
   "metadata": {},
   "source": [
    "### Boolean Indexing (masking)"
   ]
  },
  {
   "cell_type": "code",
   "execution_count": 88,
   "metadata": {},
   "outputs": [
    {
     "name": "stdout",
     "output_type": "stream",
     "text": [
      "[[ 1  2  3  4  5  6]\n",
      " [ 7  8  9 10 11 12]\n",
      " [13 14 15 16 17 18]\n",
      " [19 20 21 22 23 24]]\n",
      "[[False  True False  True False  True]\n",
      " [False  True False  True False  True]\n",
      " [False  True False  True False  True]\n",
      " [False  True False  True False  True]]\n",
      "156\n",
      "156\n"
     ]
    }
   ],
   "source": [
    "a = np.arange(1,25).reshape(4,6)\n",
    "print(a)\n",
    "\n",
    "even_arr = a%2 ==0\n",
    "print(even_arr)\n",
    "print(np.sum(a[even_arr]))\n",
    "\n",
    "print(np.sum(a[a%2 == 0]))"
   ]
  },
  {
   "attachments": {},
   "cell_type": "markdown",
   "metadata": {},
   "source": [
    "### Fancy Indexing\n",
    "- 배열의 각 요소 선택을  **인덱스 배열을 전달하여** 참조하는 방식\n",
    "- fancy indexing은 복사본이 생성된다."
   ]
  },
  {
   "cell_type": "code",
   "execution_count": null,
   "metadata": {},
   "outputs": [],
   "source": []
  },
  {
   "cell_type": "markdown",
   "metadata": {},
   "source": []
  }
 ],
 "metadata": {
  "kernelspec": {
   "display_name": "Python 3",
   "language": "python",
   "name": "python3"
  },
  "language_info": {
   "codemirror_mode": {
    "name": "ipython",
    "version": 3
   },
   "file_extension": ".py",
   "mimetype": "text/x-python",
   "name": "python",
   "nbconvert_exporter": "python",
   "pygments_lexer": "ipython3",
   "version": "3.11.3"
  },
  "orig_nbformat": 4
 },
 "nbformat": 4,
 "nbformat_minor": 2
}
